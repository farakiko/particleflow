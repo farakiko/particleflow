{
 "cells": [
  {
   "cell_type": "code",
   "execution_count": 1,
   "id": "df569247",
   "metadata": {},
   "outputs": [],
   "source": [
    "import json\n",
    "import math\n",
    "import os\n",
    "import time\n",
    "import pickle as pkl\n",
    "\n",
    "import numpy as np\n",
    "import torch\n",
    "\n",
    "import sklearn\n",
    "import sklearn.metrics\n",
    "\n",
    "import matplotlib\n",
    "import matplotlib.pyplot as plt\n",
    "import mplhep as hep\n",
    "\n",
    "plt.style.use(hep.style.CMS)\n",
    "plt.rcParams.update({\"font.size\": 20})\n",
    "\n",
    "class print_color:\n",
    "   PURPLE = '\\033[95m'\n",
    "   CYAN = '\\033[96m'\n",
    "   DARKCYAN = '\\033[36m'\n",
    "   BLUE = '\\033[94m'\n",
    "   GREEN = '\\033[92m'\n",
    "   YELLOW = '\\033[93m'\n",
    "   RED = '\\033[91m'\n",
    "   BOLD = '\\033[1m'\n",
    "   UNDERLINE = '\\033[4m'\n",
    "   END = '\\033[0m'"
   ]
  },
  {
   "cell_type": "code",
   "execution_count": 2,
   "id": "edf87dc8",
   "metadata": {},
   "outputs": [],
   "source": [
    "%load_ext autoreload\n",
    "%autoreload 2"
   ]
  },
  {
   "cell_type": "code",
   "execution_count": 3,
   "id": "dcc04dc5",
   "metadata": {},
   "outputs": [],
   "source": [
    "# import relevant functions from mlpf.pyg\n",
    "import sys\n",
    "sys.path.append(\"/home/jovyan/particleflow/mlpf/pyg/\")\n",
    "\n",
    "from PFDataset import PFDataset, DataLoader, Collater, InterleavedIterator\n",
    "from utils import unpack_predictions, unpack_target, X_FEATURES, Y_FEATURES"
   ]
  },
  {
   "cell_type": "code",
   "execution_count": 4,
   "id": "14875b0a",
   "metadata": {},
   "outputs": [
    {
     "name": "stdout",
     "output_type": "stream",
     "text": [
      "Will use NVIDIA RTX A4000\n"
     ]
    }
   ],
   "source": [
    "# define the global base device\n",
    "world_size = 1\n",
    "if torch.cuda.device_count():\n",
    "    device = torch.device(\"cuda:0\")\n",
    "    print(f\"Will use {torch.cuda.get_device_name(device)}\")\n",
    "else:\n",
    "    device = \"cpu\"\n",
    "    print(\"Will use cpu\")"
   ]
  },
  {
   "cell_type": "markdown",
   "id": "dde5f191",
   "metadata": {},
   "source": [
    "# CLIC dataset"
   ]
  },
  {
   "cell_type": "code",
   "execution_count": 5,
   "id": "d98c6857",
   "metadata": {},
   "outputs": [
    {
     "name": "stdout",
     "output_type": "stream",
     "text": [
      "/pfvol/tensorflow_datasets/clic_edm_qq_pf:\r\n",
      "1.5.0\r\n",
      "\r\n",
      "/pfvol/tensorflow_datasets/clic_edm_ttbar_pf:\r\n",
      "1.5.0\r\n",
      "\r\n",
      "/pfvol/tensorflow_datasets/clic_edm_ttbar_pu10_pf:\r\n",
      "1.5.0\r\n",
      "\r\n",
      "/pfvol/tensorflow_datasets/clic_edm_ww_fullhad_pf:\r\n",
      "1.5.0\r\n",
      "\r\n",
      "/pfvol/tensorflow_datasets/clic_edm_zh_tautau_pf:\r\n",
      "1.5.0\r\n"
     ]
    }
   ],
   "source": [
    "! ls /pfvol/tensorflow_datasets/clic*"
   ]
  },
  {
   "cell_type": "code",
   "execution_count": 6,
   "id": "678f8e20",
   "metadata": {},
   "outputs": [],
   "source": [
    "data_dir = \"/pfvol/tensorflow_datasets/\""
   ]
  },
  {
   "cell_type": "code",
   "execution_count": 7,
   "id": "5137d0ed",
   "metadata": {},
   "outputs": [],
   "source": [
    "def get_dataloaders(dataconfig, batch_size=10, num_workers=0, prefetch_factor=None):    \n",
    "    \"\"\"\n",
    "    Takes a dataconfig [dict] and return respective dataloaders \n",
    "    for both VICreg (train/test) and downstream (train/test).\n",
    "    \n",
    "    Returns\n",
    "        loader [dict]: {\n",
    "                        \"Vicreg\": {\"train\": DataLoader, \"test\": DataLoader},\n",
    "                        \"downstream\": {\"train\": DataLoader, \"test\": DataLoader},\n",
    "                        } \n",
    "    \"\"\"\n",
    "    \n",
    "    if (num_workers > 0) and (prefetch_factor is None):\n",
    "        prefetch_factor = 2  # default prefetch_factor when num_workers>0\n",
    "\n",
    "    \n",
    "    loader = {\n",
    "        \"VICReg\": {\n",
    "            \"train\": [],\n",
    "            \"test\": [],\n",
    "        },\n",
    "        \"downstream\": {\n",
    "            \"train\": [],\n",
    "            \"test\": [],\n",
    "        },\n",
    "    }\n",
    "\n",
    "    print(print_color.BOLD + \"VICReg dataset:\" + print_color.END)    \n",
    "    for split in [\"train\", \"test\"]:\n",
    "        print(f\"\\t{split} dataset\")\n",
    "        for physics_sample in dataconfig[\"VICReg\"][split]:\n",
    "            dataset = PFDataset(data_dir, \n",
    "                           f\"{physics_sample}:1.5.0\", \n",
    "                           split, \n",
    "                           [\"X\", \"ygen\"],\n",
    "                          )\n",
    "            ds = torch.utils.data.Subset(dataset.ds, \n",
    "                                         range(0,\n",
    "                                               dataconfig[\"VICReg\"][split][physics_sample]\n",
    "                                              ),\n",
    "                                        )\n",
    "            print(f\"\\t\\t{physics_sample}: {len(ds)}\")\n",
    "\n",
    "            loader[\"VICReg\"][split].append(\n",
    "                DataLoader(\n",
    "                    ds,\n",
    "                    batch_size=batch_size,\n",
    "                    collate_fn=Collater([\"X\", \"ygen\"]),\n",
    "                    sampler=torch.utils.data.RandomSampler(ds),\n",
    "                    num_workers=num_workers,\n",
    "                    prefetch_factor=prefetch_factor,                   \n",
    "                )\n",
    "            )\n",
    "\n",
    "        loader[\"VICReg\"][split] = InterleavedIterator(loader[\"VICReg\"][split])\n",
    "\n",
    "    # for downstream\n",
    "    print(print_color.BOLD + \"Downstream dataset:\" + print_color.END)    \n",
    "    for split in [\"train\", \"test\"]:\n",
    "        print(f\"\\t{split} dataset\")\n",
    "        loader_ = []\n",
    "        for physics_sample in dataconfig[\"VICReg\"][split]:\n",
    "\n",
    "            dataset = PFDataset(data_dir, \n",
    "                           f\"{physics_sample}:1.5.0\", \n",
    "                           split, \n",
    "                           [\"X\", \"ygen\"],\n",
    "                          )\n",
    "            ds = torch.utils.data.Subset(dataset.ds, \n",
    "                                         range(dataconfig[\"VICReg\"][split][physics_sample],\n",
    "                                               dataconfig[\"VICReg\"][split][physics_sample] +\n",
    "                                               dataconfig[\"downstream\"][split][physics_sample]\n",
    "                                              ),\n",
    "                                        )\n",
    "            print(f\"\\t\\t{physics_sample}: {len(ds)}\")        \n",
    "\n",
    "            loader_.append(\n",
    "                DataLoader(\n",
    "                    ds,\n",
    "                    batch_size=batch_size,\n",
    "                    collate_fn=Collater([\"X\", \"ygen\"]),\n",
    "                    sampler=torch.utils.data.RandomSampler(ds),\n",
    "                    num_workers=num_workers,\n",
    "                    prefetch_factor=prefetch_factor,\n",
    "                )\n",
    "            )\n",
    "\n",
    "        loader[\"downstream\"][split] = InterleavedIterator(loader_)\n",
    "\n",
    "    return loader"
   ]
  },
  {
   "cell_type": "code",
   "execution_count": 8,
   "id": "cabe5989",
   "metadata": {},
   "outputs": [
    {
     "name": "stdout",
     "output_type": "stream",
     "text": [
      "\u001b[1mVICReg dataset:\u001b[0m\n",
      "\ttrain dataset\n",
      "\t\tclic_edm_qq_pf: 1000\n",
      "\t\tclic_edm_ttbar_pf: 1000\n",
      "\ttest dataset\n",
      "\t\tclic_edm_qq_pf: 1000\n",
      "\t\tclic_edm_ttbar_pf: 1000\n",
      "\u001b[1mDownstream dataset:\u001b[0m\n",
      "\ttrain dataset\n",
      "\t\tclic_edm_qq_pf: 1000\n",
      "\t\tclic_edm_ttbar_pf: 1000\n",
      "\ttest dataset\n",
      "\t\tclic_edm_qq_pf: 1000\n",
      "\t\tclic_edm_ttbar_pf: 1000\n"
     ]
    }
   ],
   "source": [
    "### define the physics samples, batch_size and number of samples you want to use below\n",
    "\n",
    "dataconfig = {\n",
    "    ### for VICReg\n",
    "    \"VICReg\": {\n",
    "        \"train\": {\n",
    "            \"clic_edm_qq_pf\": 1_000,\n",
    "            \"clic_edm_ttbar_pf\": 1_000,\n",
    "        },\n",
    "        \"test\": {\n",
    "            \"clic_edm_qq_pf\": 1_000,\n",
    "            \"clic_edm_ttbar_pf\": 1_000,\n",
    "        },    \n",
    "    },\n",
    "    ### for downstream\n",
    "    \"downstream\": {\n",
    "        \"train\": {\n",
    "            \"clic_edm_qq_pf\": 1_000,\n",
    "            \"clic_edm_ttbar_pf\": 1_000,\n",
    "        },\n",
    "        \"test\": {\n",
    "            \"clic_edm_qq_pf\": 1_000,\n",
    "            \"clic_edm_ttbar_pf\": 1_000,\n",
    "        },   \n",
    "    },    \n",
    "}\n",
    "\n",
    "loader = get_dataloaders(dataconfig, batch_size=10)"
   ]
  },
  {
   "cell_type": "code",
   "execution_count": 9,
   "id": "3ae06023",
   "metadata": {},
   "outputs": [
    {
     "data": {
      "text/plain": [
       "{'VICReg': {'train': <PFDataset.InterleavedIterator at 0x7f4a3d8ade70>,\n",
       "  'test': <PFDataset.InterleavedIterator at 0x7f4a3d8aefe0>},\n",
       " 'downstream': {'train': <PFDataset.InterleavedIterator at 0x7f4a3d92e8f0>,\n",
       "  'test': <PFDataset.InterleavedIterator at 0x7f4a3d9480d0>}}"
      ]
     },
     "execution_count": 9,
     "metadata": {},
     "output_type": "execute_result"
    }
   ],
   "source": [
    "loader   # notice that it has keys VICreg,downstream where each hold keys train,test"
   ]
  },
  {
   "cell_type": "code",
   "execution_count": 10,
   "id": "60f1585e",
   "metadata": {},
   "outputs": [
    {
     "name": "stdout",
     "output_type": "stream",
     "text": [
      "A single batch: DataBatch(X=[598, 17], ygen=[598, 8], batch=[598], ptr=[11])\n"
     ]
    }
   ],
   "source": [
    "# let's retrieve a batch from the loader corresponding to VICReg, train\n",
    "for batch in loader[\"VICReg\"][\"train\"]:\n",
    "    print(f\"A single batch: {batch}\")\n",
    "    break"
   ]
  },
  {
   "cell_type": "code",
   "execution_count": 11,
   "id": "49d849e9",
   "metadata": {},
   "outputs": [
    {
     "data": {
      "text/plain": [
       "['type',\n",
       " 'pt | et',\n",
       " 'eta',\n",
       " 'sin_phi',\n",
       " 'cos_phi',\n",
       " 'p | energy',\n",
       " 'chi2 | position.x',\n",
       " 'ndf | position.y',\n",
       " 'dEdx | position.z',\n",
       " 'dEdxError | iTheta',\n",
       " 'radiusOfInnermostHit | energy_ecal',\n",
       " 'tanLambda | energy_hcal',\n",
       " 'D0 | energy_other',\n",
       " 'omega | num_hits',\n",
       " 'Z0 | sigma_x',\n",
       " 'time | sigma_y',\n",
       " 'Null | sigma_z']"
      ]
     },
     "execution_count": 11,
     "metadata": {},
     "output_type": "execute_result"
    }
   ],
   "source": [
    "# we can see the 17th features here (recall type is 1 for tracks and 2 for clusters)\n",
    "X_FEATURES[\"clic\"]"
   ]
  },
  {
   "cell_type": "code",
   "execution_count": 12,
   "id": "b3781b28",
   "metadata": {},
   "outputs": [
    {
     "data": {
      "text/plain": [
       "['cls_id', 'charge', 'pt', 'eta', 'sin_phi', 'cos_phi', 'energy', 'jet_idx']"
      ]
     },
     "execution_count": 12,
     "metadata": {},
     "output_type": "execute_result"
    }
   ],
   "source": [
    "# we can see the 8 gen features per pf element here (notice the jet_index which may be useful)\n",
    "Y_FEATURES"
   ]
  },
  {
   "cell_type": "markdown",
   "id": "adc2664f",
   "metadata": {},
   "source": [
    "# Augmentations\n",
    "Define several augmentations (start with tracks vs clusters)"
   ]
  },
  {
   "cell_type": "markdown",
   "id": "1f35c079",
   "metadata": {},
   "source": [
    "# VICReg training\n",
    "Show loss plots (invariance, variance, covariance)"
   ]
  },
  {
   "cell_type": "markdown",
   "id": "adcbfd4c",
   "metadata": {},
   "source": [
    "# Downstream training\n",
    "Train an MLPF on top of (1) trained VICreg, and (2) a randomly initialized VICReg"
   ]
  },
  {
   "cell_type": "markdown",
   "id": "1c5cf4cb",
   "metadata": {},
   "source": [
    "# Results\n",
    "Comparing the downstream results of randomly initialized VICReg against a trained VICReg"
   ]
  }
 ],
 "metadata": {
  "kernelspec": {
   "display_name": "Python 3 (ipykernel)",
   "language": "python",
   "name": "python3"
  },
  "language_info": {
   "codemirror_mode": {
    "name": "ipython",
    "version": 3
   },
   "file_extension": ".py",
   "mimetype": "text/x-python",
   "name": "python",
   "nbconvert_exporter": "python",
   "pygments_lexer": "ipython3",
   "version": "3.10.12"
  }
 },
 "nbformat": 4,
 "nbformat_minor": 5
}
