{
 "cells": [
  {
   "cell_type": "code",
   "execution_count": 1,
   "id": "df569247",
   "metadata": {},
   "outputs": [],
   "source": [
    "import json\n",
    "import math\n",
    "import os\n",
    "import time\n",
    "import pickle as pkl\n",
    "\n",
    "import numpy as np\n",
    "import torch\n",
    "\n",
    "import sklearn\n",
    "import sklearn.metrics\n",
    "\n",
    "import matplotlib\n",
    "import matplotlib.pyplot as plt\n",
    "import mplhep as hep\n",
    "\n",
    "plt.style.use(hep.style.CMS)\n",
    "plt.rcParams.update({\"font.size\": 20})"
   ]
  },
  {
   "cell_type": "code",
   "execution_count": 2,
   "id": "dcc04dc5",
   "metadata": {},
   "outputs": [],
   "source": [
    "# import relevant functions from mlpf.pyg\n",
    "import sys\n",
    "sys.path.append(\"/home/jovyan/particleflow/mlpf/pyg/\")\n",
    "\n",
    "from utils import PFDataset, InterleavedIterator\n",
    "from utils import unpack_predictions, unpack_target, X_FEATURES, Y_FEATURES"
   ]
  },
  {
   "cell_type": "code",
   "execution_count": 3,
   "id": "14875b0a",
   "metadata": {},
   "outputs": [
    {
     "name": "stdout",
     "output_type": "stream",
     "text": [
      "Will use NVIDIA GeForce GTX 1080 Ti\n"
     ]
    }
   ],
   "source": [
    "# define the global base device\n",
    "world_size = 1\n",
    "if torch.cuda.device_count():\n",
    "    device = torch.device(\"cuda:0\")\n",
    "    print(f\"Will use {torch.cuda.get_device_name(device)}\")\n",
    "else:\n",
    "    device = \"cpu\"\n",
    "    print(\"Will use cpu\")"
   ]
  },
  {
   "cell_type": "markdown",
   "id": "dde5f191",
   "metadata": {},
   "source": [
    "# CLIC dataset"
   ]
  },
  {
   "cell_type": "code",
   "execution_count": 4,
   "id": "d98c6857",
   "metadata": {},
   "outputs": [
    {
     "name": "stdout",
     "output_type": "stream",
     "text": [
      "/pfvol/tensorflow_datasets/clic_edm_qq_pf:\r\n",
      "1.5.0\r\n",
      "\r\n",
      "/pfvol/tensorflow_datasets/clic_edm_ttbar_pf:\r\n",
      "1.5.0\r\n",
      "\r\n",
      "/pfvol/tensorflow_datasets/clic_edm_ttbar_pu10_pf:\r\n",
      "1.5.0\r\n",
      "\r\n",
      "/pfvol/tensorflow_datasets/clic_edm_ww_fullhad_pf:\r\n",
      "1.5.0\r\n",
      "\r\n",
      "/pfvol/tensorflow_datasets/clic_edm_zh_tautau_pf:\r\n",
      "1.5.0\r\n"
     ]
    }
   ],
   "source": [
    "! ls /pfvol/tensorflow_datasets/clic*"
   ]
  },
  {
   "cell_type": "code",
   "execution_count": 5,
   "id": "9e6040c0",
   "metadata": {},
   "outputs": [],
   "source": [
    "data_dir = \"/pfvol/tensorflow_datasets/\"\n",
    "\n",
    "### define the physics samples, batch_size, and number of samples you want to use below\n",
    "config = {\n",
    "    \"clic_edm_qq_pf\": {\n",
    "        \"version\": \"1.5.0\",\n",
    "        \"batch_size\": 2,\n",
    "        \"num_samples\": 10\n",
    "    },\n",
    "    \"clic_edm_ttbar_pf\": {\n",
    "        \"version\": \"1.5.0\",\n",
    "        \"batch_size\": 2,\n",
    "        \"num_samples\": 10\n",
    "    },  \n",
    "}\n",
    "\n",
    "train_loaders, dataset_size = [], 0\n",
    "for physics_sample in config:\n",
    "    version = config[physics_sample][\"version\"]\n",
    "    batch_size = config[physics_sample][\"batch_size\"]\n",
    "    num_samples = config[physics_sample][\"num_samples\"]\n",
    "\n",
    "    ds = PFDataset(data_dir, f\"{physics_sample}:{version}\", \"train\", [\"X\", \"ygen\"], num_samples)\n",
    "    train_loaders.append(ds.get_loader(batch_size, world_size))\n",
    "    \n",
    "    dataset_size += len(ds)\n",
    "\n",
    "train_loader = InterleavedIterator(train_loaders)   # merge several loades of potentially different batch_sizes"
   ]
  },
  {
   "cell_type": "code",
   "execution_count": 6,
   "id": "b81c73df",
   "metadata": {},
   "outputs": [
    {
     "name": "stdout",
     "output_type": "stream",
     "text": [
      "num of clic events 20\n"
     ]
    }
   ],
   "source": [
    "print(f\"num of clic events {dataset_size}\")"
   ]
  },
  {
   "cell_type": "code",
   "execution_count": 7,
   "id": "60f1585e",
   "metadata": {},
   "outputs": [
    {
     "name": "stdout",
     "output_type": "stream",
     "text": [
      "A single batch: DataBatch(X=[185, 17], ygen=[185, 8], batch=[185], ptr=[3])\n"
     ]
    }
   ],
   "source": [
    "for batch in train_loader:\n",
    "    print(f\"A single batch: {batch}\")\n",
    "    break"
   ]
  },
  {
   "cell_type": "code",
   "execution_count": 8,
   "id": "49d849e9",
   "metadata": {},
   "outputs": [
    {
     "data": {
      "text/plain": [
       "['type',\n",
       " 'pt | et',\n",
       " 'eta',\n",
       " 'sin_phi',\n",
       " 'cos_phi',\n",
       " 'p | energy',\n",
       " 'chi2 | position.x',\n",
       " 'ndf | position.y',\n",
       " 'dEdx | position.z',\n",
       " 'dEdxError | iTheta',\n",
       " 'radiusOfInnermostHit | energy_ecal',\n",
       " 'tanLambda | energy_hcal',\n",
       " 'D0 | energy_other',\n",
       " 'omega | num_hits',\n",
       " 'Z0 | sigma_x',\n",
       " 'time | sigma_y',\n",
       " 'Null | sigma_z']"
      ]
     },
     "execution_count": 8,
     "metadata": {},
     "output_type": "execute_result"
    }
   ],
   "source": [
    "# we can see the 17th features here (recall type is 1 for tracks and 2 for clusters)\n",
    "X_FEATURES[\"clic\"]"
   ]
  },
  {
   "cell_type": "code",
   "execution_count": 9,
   "id": "b3781b28",
   "metadata": {},
   "outputs": [
    {
     "data": {
      "text/plain": [
       "['cls_id', 'charge', 'pt', 'eta', 'sin_phi', 'cos_phi', 'energy', 'jet_idx']"
      ]
     },
     "execution_count": 9,
     "metadata": {},
     "output_type": "execute_result"
    }
   ],
   "source": [
    "# we can see the 8 gen features per pf element here (notice the jet_index which may be useful)\n",
    "Y_FEATURES"
   ]
  },
  {
   "cell_type": "markdown",
   "id": "adc2664f",
   "metadata": {},
   "source": [
    "# Augmentations\n",
    "Define several augmentations (start with tracks vs clusters)"
   ]
  },
  {
   "cell_type": "markdown",
   "id": "1f35c079",
   "metadata": {},
   "source": [
    "# VICReg training\n",
    "Show loss plots (invariance, variance, covariance)"
   ]
  },
  {
   "cell_type": "markdown",
   "id": "adcbfd4c",
   "metadata": {},
   "source": [
    "# Downstream training\n",
    "Train an MLPF on top of (1) trained VICreg, and (2) a randomly initialized VICReg"
   ]
  },
  {
   "cell_type": "markdown",
   "id": "1c5cf4cb",
   "metadata": {},
   "source": [
    "# Results\n",
    "Comparing the downstream results of randomly initialized VICReg against a trained VICReg"
   ]
  },
  {
   "cell_type": "code",
   "execution_count": null,
   "id": "646bf03c",
   "metadata": {},
   "outputs": [],
   "source": []
  }
 ],
 "metadata": {
  "kernelspec": {
   "display_name": "Python 3 (ipykernel)",
   "language": "python",
   "name": "python3"
  },
  "language_info": {
   "codemirror_mode": {
    "name": "ipython",
    "version": 3
   },
   "file_extension": ".py",
   "mimetype": "text/x-python",
   "name": "python",
   "nbconvert_exporter": "python",
   "pygments_lexer": "ipython3",
   "version": "3.10.12"
  }
 },
 "nbformat": 4,
 "nbformat_minor": 5
}
