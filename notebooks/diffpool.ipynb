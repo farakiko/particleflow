{
 "cells": [
  {
   "cell_type": "markdown",
   "metadata": {},
   "source": [
    "# DiffPool tutorial\n",
    "The purpose of this notebook is to guide you to building a DiffPool model based on this paper [arxiv:1806.08804](https://arxiv.org/abs/1806.08804).\n",
    "\n",
    "References:\n",
    "- [YouTube](https://www.youtube.com/watch?v=Uqc3O3-oXxM)\n",
    "- [Colab](https://colab.research.google.com/github/AntonioLonga/PytorchGeometricTutorial/blob/main/Tutorial16/Tutorial16.ipynb)"
   ]
  },
  {
   "cell_type": "code",
   "execution_count": 1,
   "metadata": {},
   "outputs": [
    {
     "name": "stdout",
     "output_type": "stream",
     "text": [
      "Will use cpu\n"
     ]
    }
   ],
   "source": [
    "import warnings\n",
    "from math import ceil\n",
    "\n",
    "import torch\n",
    "import torch.nn.functional as F\n",
    "from torch_geometric.loader import DataLoader\n",
    "from torch_geometric.nn import DenseGCNConv as GCNConv\n",
    "from torch_geometric.nn import GraphSAGE, SAGEConv, dense_diff_pool, global_mean_pool\n",
    "from torch_geometric.nn.conv import GravNetConv, MessagePassing\n",
    "from torch_geometric.utils import to_dense_adj\n",
    "\n",
    "warnings.simplefilter(\"ignore\", UserWarning)\n",
    "\n",
    "# define the global base device\n",
    "if torch.cuda.device_count():\n",
    "    device = torch.device(\"cuda:0\")\n",
    "    print(f\"Will use {torch.cuda.get_device_name(device)}\")\n",
    "else:\n",
    "    device = \"cpu\"\n",
    "    print(\"Will use cpu\")"
   ]
  },
  {
   "cell_type": "markdown",
   "metadata": {},
   "source": [
    "Load a processed `.pt` clic file."
   ]
  },
  {
   "cell_type": "code",
   "execution_count": 2,
   "metadata": {},
   "outputs": [
    {
     "name": "stdout",
     "output_type": "stream",
     "text": [
      "num of clic events 10000\n"
     ]
    }
   ],
   "source": [
    "data = torch.load(\"../data/clic_edm4hep_2023_02_27/p8_ee_tt_ecm380/processed/data_0.pt\")\n",
    "print(f\"num of clic events {len(data)}\")"
   ]
  },
  {
   "cell_type": "code",
   "execution_count": 3,
   "metadata": {},
   "outputs": [
    {
     "name": "stdout",
     "output_type": "stream",
     "text": [
      "A single event: \n",
      " Batch(x=[6867, 17], ygen=[6867, 6], ygen_id=[6867], ycand=[6867, 6], ycand_id=[6867], batch=[6867], ptr=[51])\n"
     ]
    }
   ],
   "source": [
    "# build a data loader\n",
    "batch_size = 50\n",
    "\n",
    "loader = DataLoader(data, batch_size, shuffle=True)\n",
    "for batch in loader:\n",
    "    print(f\"A single event: \\n {batch}\")\n",
    "    break\n",
    "    \n",
    "input_dim = batch.x.shape[-1]"
   ]
  },
  {
   "cell_type": "markdown",
   "metadata": {},
   "source": [
    "# Build the model"
   ]
  },
  {
   "cell_type": "code",
   "execution_count": 4,
   "metadata": {},
   "outputs": [],
   "source": [
    "class GNN(torch.nn.Module):\n",
    "    \n",
    "    \"\"\"\n",
    "    The fundamental \"GNN\" block in the DiffPool model.\n",
    "    \"\"\"\n",
    "    def __init__(self, in_channels, hidden_channels, out_channels, normalize=True):\n",
    "        super(GNN, self).__init__()\n",
    "        \n",
    "        self.convs = torch.nn.ModuleList()\n",
    "        self.bns = torch.nn.ModuleList()\n",
    "        \n",
    "        self.convs.append(GCNConv(in_channels, hidden_channels, normalize))\n",
    "        self.bns.append(torch.nn.LayerNorm(hidden_channels))\n",
    "        \n",
    "        self.convs.append(GCNConv(hidden_channels, hidden_channels, normalize))\n",
    "        self.bns.append(torch.nn.LayerNorm(hidden_channels))\n",
    "        \n",
    "        self.convs.append(GCNConv(hidden_channels, out_channels, normalize))\n",
    "        self.bns.append(torch.nn.LayerNorm(out_channels))\n",
    "\n",
    "    def forward(self, x, adj):\n",
    " \n",
    "        for step in range(len(self.convs)):\n",
    "            x = F.elu(self.bns[step](self.convs[step](x, adj)))\n",
    "\n",
    "        return x\n",
    "\n",
    "\n",
    "class DiffPool(torch.nn.Module):\n",
    "    \n",
    "    \"\"\"\n",
    "    A DiffPool model based on GCNConv.\n",
    "    \"\"\"\n",
    "    \n",
    "    def __init__(self, input_dim, width, output_dim):\n",
    "        super(DiffPool, self).__init__()\n",
    "\n",
    "        max_nodes = 40\n",
    "        num_nodes = ceil(0.25 * max_nodes)\n",
    "        self.gnn1_pool = GNN(input_dim, width, num_nodes)\n",
    "        self.gnn1_embed = GNN(input_dim, width, width)\n",
    "\n",
    "        num_nodes = ceil(0.25 * num_nodes)\n",
    "        self.gnn2_pool = GNN(width, width, num_nodes)\n",
    "        self.gnn2_embed = GNN(width, width, width)\n",
    "\n",
    "        self.gnn3_embed = GNN(width, width, width)\n",
    "\n",
    "        self.lin1 = torch.nn.Linear(width, width)\n",
    "        self.lin2 = torch.nn.Linear(width, output_dim)\n",
    "\n",
    "    def forward(self, X):\n",
    "        \n",
    "        \"\"\"\n",
    "        We have to first 0-pad the event and convert the batch object to the good old array of\n",
    "         [batch_size, num_elements, input_dim] since GCNConv doesn't accept Batch() objects :(\n",
    "         \n",
    "        Args \n",
    "            Big `X`: a Batch() object.\n",
    "        Returns\n",
    "            Array of dimension [batch_size, output_dim]\n",
    "        \"\"\"\n",
    "\n",
    "        x = self.from_batch_to_dense(X.x, X.batch)\n",
    "        \n",
    "        # build a naive fully connected graph (`adj` stands for adjacency matrix)\n",
    "        bs, num_nodes, _ = x.size()\n",
    "        adj = torch.ones(bs, num_nodes, num_nodes).to(x.device)\n",
    "        \n",
    "        # begin with the diffpool operations\n",
    "        s = self.gnn1_pool(x, adj)\n",
    "        x = self.gnn1_embed(x, adj)\n",
    "\n",
    "        x, adj, l1, e1 = dense_diff_pool(x, adj, s)\n",
    "\n",
    "        s = self.gnn2_pool(x, adj)\n",
    "        x = self.gnn2_embed(x, adj)\n",
    "\n",
    "        x, adj, l2, e2 = dense_diff_pool(x, adj, s)\n",
    "\n",
    "        x = self.gnn3_embed(x, adj)\n",
    "\n",
    "        x = x.mean(dim=1)\n",
    "        x = F.elu(self.lin1(x))\n",
    "        x = self.lin2(x)\n",
    "\n",
    "        return x\n",
    "    \n",
    "    \"\"\"\n",
    "    helper functions needed because `dense_diff_pool` doesn't natively accept batch objects\n",
    "    \"\"\"\n",
    "    \n",
    "    def from_batch_to_dense(self, x, batch):\n",
    "        for i, b in enumerate(batch.unique()):\n",
    "            if i==0:\n",
    "                out = self.pad_data(x[batch==b]).unsqueeze(0)\n",
    "            else:\n",
    "                out = torch.cat([out, self.pad_data(x[batch==b]).unsqueeze(0)])\n",
    "        return out.to(x.device)\n",
    "\n",
    "    def pad_data(self, x):\n",
    "        return F.pad(input=x, pad=(0, 0, 0, 100-len(x)), mode='constant', value=0)    "
   ]
  },
  {
   "cell_type": "code",
   "execution_count": 5,
   "metadata": {},
   "outputs": [
    {
     "data": {
      "text/plain": [
       "DiffPool(\n",
       "  (gnn1_pool): GNN(\n",
       "    (convs): ModuleList(\n",
       "      (0): DenseGCNConv(17, 200)\n",
       "      (1): DenseGCNConv(200, 200)\n",
       "      (2): DenseGCNConv(200, 10)\n",
       "    )\n",
       "    (bns): ModuleList(\n",
       "      (0): LayerNorm((200,), eps=1e-05, elementwise_affine=True)\n",
       "      (1): LayerNorm((200,), eps=1e-05, elementwise_affine=True)\n",
       "      (2): LayerNorm((10,), eps=1e-05, elementwise_affine=True)\n",
       "    )\n",
       "  )\n",
       "  (gnn1_embed): GNN(\n",
       "    (convs): ModuleList(\n",
       "      (0): DenseGCNConv(17, 200)\n",
       "      (1): DenseGCNConv(200, 200)\n",
       "      (2): DenseGCNConv(200, 200)\n",
       "    )\n",
       "    (bns): ModuleList(\n",
       "      (0): LayerNorm((200,), eps=1e-05, elementwise_affine=True)\n",
       "      (1): LayerNorm((200,), eps=1e-05, elementwise_affine=True)\n",
       "      (2): LayerNorm((200,), eps=1e-05, elementwise_affine=True)\n",
       "    )\n",
       "  )\n",
       "  (gnn2_pool): GNN(\n",
       "    (convs): ModuleList(\n",
       "      (0): DenseGCNConv(200, 200)\n",
       "      (1): DenseGCNConv(200, 200)\n",
       "      (2): DenseGCNConv(200, 3)\n",
       "    )\n",
       "    (bns): ModuleList(\n",
       "      (0): LayerNorm((200,), eps=1e-05, elementwise_affine=True)\n",
       "      (1): LayerNorm((200,), eps=1e-05, elementwise_affine=True)\n",
       "      (2): LayerNorm((3,), eps=1e-05, elementwise_affine=True)\n",
       "    )\n",
       "  )\n",
       "  (gnn2_embed): GNN(\n",
       "    (convs): ModuleList(\n",
       "      (0): DenseGCNConv(200, 200)\n",
       "      (1): DenseGCNConv(200, 200)\n",
       "      (2): DenseGCNConv(200, 200)\n",
       "    )\n",
       "    (bns): ModuleList(\n",
       "      (0): LayerNorm((200,), eps=1e-05, elementwise_affine=True)\n",
       "      (1): LayerNorm((200,), eps=1e-05, elementwise_affine=True)\n",
       "      (2): LayerNorm((200,), eps=1e-05, elementwise_affine=True)\n",
       "    )\n",
       "  )\n",
       "  (gnn3_embed): GNN(\n",
       "    (convs): ModuleList(\n",
       "      (0): DenseGCNConv(200, 200)\n",
       "      (1): DenseGCNConv(200, 200)\n",
       "      (2): DenseGCNConv(200, 200)\n",
       "    )\n",
       "    (bns): ModuleList(\n",
       "      (0): LayerNorm((200,), eps=1e-05, elementwise_affine=True)\n",
       "      (1): LayerNorm((200,), eps=1e-05, elementwise_affine=True)\n",
       "      (2): LayerNorm((200,), eps=1e-05, elementwise_affine=True)\n",
       "    )\n",
       "  )\n",
       "  (lin1): Linear(in_features=200, out_features=200, bias=True)\n",
       "  (lin2): Linear(in_features=200, out_features=6, bias=True)\n",
       ")"
      ]
     },
     "execution_count": 5,
     "metadata": {},
     "output_type": "execute_result"
    }
   ],
   "source": [
    "# setup a DiffPool model with some random `width` and `output_dim`\n",
    "model = DiffPool(input_dim, width=200, output_dim=6)\n",
    "model.to(device)"
   ]
  },
  {
   "cell_type": "code",
   "execution_count": 6,
   "metadata": {},
   "outputs": [
    {
     "data": {
      "text/plain": [
       "torch.Size([50, 6])"
      ]
     },
     "execution_count": 6,
     "metadata": {},
     "output_type": "execute_result"
    }
   ],
   "source": [
    "pred = model(batch.to(device))\n",
    "pred.shape"
   ]
  }
 ],
 "metadata": {
  "kernelspec": {
   "display_name": "Python 3",
   "language": "python",
   "name": "python3"
  },
  "language_info": {
   "codemirror_mode": {
    "name": "ipython",
    "version": 3
   },
   "file_extension": ".py",
   "mimetype": "text/x-python",
   "name": "python",
   "nbconvert_exporter": "python",
   "pygments_lexer": "ipython3",
   "version": "3.8.3"
  },
  "vscode": {
   "interpreter": {
    "hash": "bd710be4164d8116e60481776a482d6ed163c0c31d42101b2cd55e4bfc6d2c5e"
   }
  }
 },
 "nbformat": 4,
 "nbformat_minor": 4
}
