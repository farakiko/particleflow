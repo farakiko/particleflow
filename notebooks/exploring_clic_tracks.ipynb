{
 "cells": [
  {
   "cell_type": "code",
   "execution_count": 6,
   "metadata": {},
   "outputs": [],
   "source": [
    "import awkward as ak\n",
    "import vector\n",
    "import fastjet\n",
    "import math\n",
    "import matplotlib\n",
    "import matplotlib.pyplot as plt\n",
    "import mplhep as hep\n",
    "import numpy as np\n",
    "import torch\n",
    "import torch.nn as nn\n",
    "import torch_geometric\n",
    "import torchvision.transforms as tr\n",
    "from torch_geometric.data import Batch\n",
    "from torch_geometric.loader import DataLoader\n",
    "\n",
    "plt.style.use(hep.style.CMS)\n",
    "plt.rcParams.update({\"font.size\": 20})"
   ]
  },
  {
   "cell_type": "code",
   "execution_count": 2,
   "metadata": {},
   "outputs": [],
   "source": [
    "%load_ext autoreload\n",
    "%autoreload 2"
   ]
  },
  {
   "cell_type": "code",
   "execution_count": 3,
   "metadata": {},
   "outputs": [
    {
     "name": "stdout",
     "output_type": "stream",
     "text": [
      "Total data: 10000\n"
     ]
    }
   ],
   "source": [
    "# load the clic dataset\n",
    "data_ = torch.load(\"../data/clic_edm4hep_2023_02_27/p8_ee_tt_ecm380/processed/data_0.pt\")\n",
    "print(f\"Total data: {len(data_)}\")"
   ]
  },
  {
   "cell_type": "code",
   "execution_count": 70,
   "metadata": {},
   "outputs": [],
   "source": [
    "def distinguish_tracks_from_clusters(batch):\n",
    "    \"\"\"Takes an event~Batch() and splits it into two Batch() objects representing the tracks/clusters.\"\"\"\n",
    "\n",
    "    is_track = (batch.x[:, 0] == 1)\n",
    "    is_cluster = (batch.x[:, 0] == 2)    \n",
    "\n",
    "    tracks = Batch(\n",
    "        x=batch.x[is_track],\n",
    "        ygen=batch.ygen[is_track],\n",
    "        ygen_id=batch.ygen_id[is_track],\n",
    "        ycand=batch.ycand[is_track],\n",
    "        ycand_id=batch.ycand_id[is_track],\n",
    "        batch=batch.batch[is_track],\n",
    "    )\n",
    "    clusters = Batch(\n",
    "        x=batch.x[is_cluster],\n",
    "        ygen=batch.ygen[is_cluster],\n",
    "        ygen_id=batch.ygen_id[is_cluster],\n",
    "        ycand=batch.ycand[is_cluster],\n",
    "        ycand_id=batch.ycand_id[is_cluster],\n",
    "        batch=batch.batch[is_cluster],\n",
    "    )\n",
    "\n",
    "    return tracks, clusters"
   ]
  },
  {
   "cell_type": "code",
   "execution_count": 71,
   "metadata": {},
   "outputs": [],
   "source": [
    "# define input dimensions\n",
    "X_FEATURES_TRK = {\n",
    "    \"type\": 0,\n",
    "    \"pt\": 1,\n",
    "    \"eta\": 2,\n",
    "    \"sin_phi\": 3,\n",
    "    \"cos_phi\": 4,\n",
    "    \"p\": 5,\n",
    "    \"chi2\": 6,\n",
    "    \"ndf\": 7,\n",
    "    \"dEdx\": 8,\n",
    "    \"dEdxError\": 9,\n",
    "    \"radiusOfInnermostHit\": 10,\n",
    "    \"tanLambda\": 11,\n",
    "    \"D0\": 12,\n",
    "    \"omega\": 13,\n",
    "    \"Z0\": 14,\n",
    "    \"time\": 15\n",
    "}"
   ]
  },
  {
   "cell_type": "code",
   "execution_count": 147,
   "metadata": {},
   "outputs": [],
   "source": [
    "data_ = torch.load(\"../data/new_clic/p8_ee_tt_ecm380/processed/data_0.pt\")\n",
    "loader = DataLoader(data_, 5000)\n",
    "\n",
    "for i, ev in enumerate(loader):\n",
    "    tracks, _ = distinguish_tracks_from_clusters(ev)\n",
    "    break"
   ]
  },
  {
   "cell_type": "code",
   "execution_count": 148,
   "metadata": {},
   "outputs": [
    {
     "data": {
      "text/plain": [
       "Batch(x=[247734, 17], ygen=[247734, 6], ygen_id=[247734], ycand=[247734, 6], ycand_id=[247734], batch=[247734])"
      ]
     },
     "execution_count": 148,
     "metadata": {},
     "output_type": "execute_result"
    }
   ],
   "source": [
    "tracks"
   ]
  },
  {
   "cell_type": "code",
   "execution_count": 149,
   "metadata": {},
   "outputs": [],
   "source": [
    "# # new\n",
    "is_any = (tracks.ygen_id!=-1)\n",
    "is_not_null = (tracks.ygen_id<=4)\n",
    "is_null = (tracks.ygen_id>4)\n",
    "is_chhad = (tracks.ygen_id==0)\n",
    "is_nhad = (tracks.ygen_id==1)\n",
    "is_gamma = (tracks.ygen_id==2)\n",
    "is_ele = (tracks.ygen_id==3)\n",
    "is_mu = (tracks.ygen_id==4)\n",
    "\n",
    "# old\n",
    "# is_any = (tracks.ygen_id!=-1)\n",
    "# is_not_null = (tracks.ygen_id!=0)\n",
    "# is_null = (tracks.ygen_id==0)\n",
    "# is_chhad = (tracks.ygen_id==1)\n",
    "# is_nhad = (tracks.ygen_id==2)\n",
    "# is_gamma = (tracks.ygen_id==3)\n",
    "# is_ele = (tracks.ygen_id==4)\n",
    "# is_mu = (tracks.ygen_id==5)"
   ]
  },
  {
   "cell_type": "code",
   "execution_count": 158,
   "metadata": {},
   "outputs": [],
   "source": [
    "# new\n",
    "is_any = (tracks.ycand_id!=-1)\n",
    "is_not_null = (tracks.ycand_id<=4)\n",
    "is_null = (tracks.ycand_id>4)\n",
    "is_chhad = (tracks.ycand_id==0)\n",
    "is_nhad = (tracks.ycand_id==1)\n",
    "is_gamma = (tracks.ycand_id==2)\n",
    "is_ele = (tracks.ycand_id==3)\n",
    "is_mu = (tracks.ycand_id==4)\n",
    "\n",
    "# # old\n",
    "# is_any = (tracks.ycand_id!=-1)\n",
    "# is_not_null = (tracks.ycand_id!=0)\n",
    "# is_null = (tracks.ycand_id==0)\n",
    "# is_chhad = (tracks.ycand_id==1)\n",
    "# is_nhad = (tracks.ycand_id==2)\n",
    "# is_gamma = (tracks.ycand_id==3)\n",
    "# is_ele = (tracks.ycand_id==4)\n",
    "# is_mu = (tracks.ycand_id==5)"
   ]
  },
  {
   "cell_type": "code",
   "execution_count": null,
   "metadata": {},
   "outputs": [],
   "source": []
  },
  {
   "cell_type": "code",
   "execution_count": null,
   "metadata": {},
   "outputs": [],
   "source": []
  },
  {
   "cell_type": "code",
   "execution_count": 159,
   "metadata": {},
   "outputs": [
    {
     "data": {
      "text/plain": [
       "0.0"
      ]
     },
     "execution_count": 159,
     "metadata": {},
     "output_type": "execute_result"
    }
   ],
   "source": [
    "# number of tracks linked to a Null\n",
    "(100*is_null.sum()/is_any.sum()).item()"
   ]
  },
  {
   "cell_type": "code",
   "execution_count": 160,
   "metadata": {},
   "outputs": [
    {
     "data": {
      "text/plain": [
       "92.42050170898438"
      ]
     },
     "execution_count": 160,
     "metadata": {},
     "output_type": "execute_result"
    }
   ],
   "source": [
    "# number of tracks linked to a charged hadron\n",
    "(100*is_chhad.sum()/is_any.sum()).item()"
   ]
  },
  {
   "cell_type": "code",
   "execution_count": 161,
   "metadata": {},
   "outputs": [
    {
     "data": {
      "text/plain": [
       "0.0"
      ]
     },
     "execution_count": 161,
     "metadata": {},
     "output_type": "execute_result"
    }
   ],
   "source": [
    "# number of tracks linked to a neutral hadron\n",
    "(100*is_nhad.sum()/is_any.sum()).item()"
   ]
  },
  {
   "cell_type": "code",
   "execution_count": 162,
   "metadata": {},
   "outputs": [
    {
     "data": {
      "text/plain": [
       "0.0"
      ]
     },
     "execution_count": 162,
     "metadata": {},
     "output_type": "execute_result"
    }
   ],
   "source": [
    "# number of tracks linked to a gamma\n",
    "(100*is_gamma.sum()/is_any.sum()).item()"
   ]
  },
  {
   "cell_type": "code",
   "execution_count": 163,
   "metadata": {},
   "outputs": [
    {
     "data": {
      "text/plain": [
       "5.910371780395508"
      ]
     },
     "execution_count": 163,
     "metadata": {},
     "output_type": "execute_result"
    }
   ],
   "source": [
    "# number of tracks that are electrons\n",
    "(100*is_ele.sum()/is_any.sum()).item()"
   ]
  },
  {
   "cell_type": "code",
   "execution_count": 164,
   "metadata": {},
   "outputs": [
    {
     "data": {
      "text/plain": [
       "1.6691290140151978"
      ]
     },
     "execution_count": 164,
     "metadata": {},
     "output_type": "execute_result"
    }
   ],
   "source": [
    "# number of tracks that are muons\n",
    "(100*is_mu.sum()/is_any.sum()).item()"
   ]
  },
  {
   "cell_type": "code",
   "execution_count": 108,
   "metadata": {},
   "outputs": [
    {
     "name": "stdout",
     "output_type": "stream",
     "text": [
      "reco_p8_ee_tt_ecm380_1.parquet     reco_p8_ee_tt_ecm380_1157.parquet\r\n",
      "reco_p8_ee_tt_ecm380_10.parquet    reco_p8_ee_tt_ecm380_1158.parquet\r\n",
      "reco_p8_ee_tt_ecm380_100.parquet   reco_p8_ee_tt_ecm380_1159.parquet\r\n",
      "reco_p8_ee_tt_ecm380_1000.parquet  reco_p8_ee_tt_ecm380_116.parquet\r\n",
      "reco_p8_ee_tt_ecm380_10000.parquet reco_p8_ee_tt_ecm380_1160.parquet\r\n",
      "reco_p8_ee_tt_ecm380_10001.parquet reco_p8_ee_tt_ecm380_1161.parquet\r\n",
      "reco_p8_ee_tt_ecm380_10002.parquet reco_p8_ee_tt_ecm380_1162.parquet\r\n",
      "reco_p8_ee_tt_ecm380_10003.parquet reco_p8_ee_tt_ecm380_1163.parquet\r\n",
      "reco_p8_ee_tt_ecm380_10004.parquet reco_p8_ee_tt_ecm380_1164.parquet\r\n",
      "reco_p8_ee_tt_ecm380_10005.parquet reco_p8_ee_tt_ecm380_1165.parquet\r\n",
      "reco_p8_ee_tt_ecm380_10006.parquet reco_p8_ee_tt_ecm380_1166.parquet\r\n",
      "reco_p8_ee_tt_ecm380_10007.parquet reco_p8_ee_tt_ecm380_1167.parquet\r\n",
      "reco_p8_ee_tt_ecm380_10008.parquet reco_p8_ee_tt_ecm380_1168.parquet\r\n",
      "reco_p8_ee_tt_ecm380_10009.parquet reco_p8_ee_tt_ecm380_1169.parquet\r\n",
      "reco_p8_ee_tt_ecm380_1001.parquet  reco_p8_ee_tt_ecm380_117.parquet\r\n",
      "reco_p8_ee_tt_ecm380_10010.parquet reco_p8_ee_tt_ecm380_1170.parquet\r\n",
      "reco_p8_ee_tt_ecm380_1002.parquet  reco_p8_ee_tt_ecm380_1171.parquet\r\n",
      "reco_p8_ee_tt_ecm380_1003.parquet  reco_p8_ee_tt_ecm380_1172.parquet\r\n",
      "reco_p8_ee_tt_ecm380_1004.parquet  reco_p8_ee_tt_ecm380_1173.parquet\r\n",
      "reco_p8_ee_tt_ecm380_1005.parquet  reco_p8_ee_tt_ecm380_1174.parquet\r\n",
      "reco_p8_ee_tt_ecm380_1006.parquet  reco_p8_ee_tt_ecm380_1175.parquet\r\n",
      "reco_p8_ee_tt_ecm380_1007.parquet  reco_p8_ee_tt_ecm380_1176.parquet\r\n",
      "reco_p8_ee_tt_ecm380_1008.parquet  reco_p8_ee_tt_ecm380_1177.parquet\r\n",
      "reco_p8_ee_tt_ecm380_1009.parquet  reco_p8_ee_tt_ecm380_1178.parquet\r\n",
      "reco_p8_ee_tt_ecm380_101.parquet   reco_p8_ee_tt_ecm380_1179.parquet\r\n",
      "reco_p8_ee_tt_ecm380_1010.parquet  reco_p8_ee_tt_ecm380_118.parquet\r\n",
      "reco_p8_ee_tt_ecm380_1011.parquet  reco_p8_ee_tt_ecm380_1180.parquet\r\n",
      "reco_p8_ee_tt_ecm380_1012.parquet  reco_p8_ee_tt_ecm380_1181.parquet\r\n",
      "reco_p8_ee_tt_ecm380_1013.parquet  reco_p8_ee_tt_ecm380_1182.parquet\r\n",
      "reco_p8_ee_tt_ecm380_1014.parquet  reco_p8_ee_tt_ecm380_1183.parquet\r\n",
      "reco_p8_ee_tt_ecm380_1015.parquet  reco_p8_ee_tt_ecm380_1184.parquet\r\n",
      "reco_p8_ee_tt_ecm380_1016.parquet  reco_p8_ee_tt_ecm380_1185.parquet\r\n",
      "reco_p8_ee_tt_ecm380_1017.parquet  reco_p8_ee_tt_ecm380_1186.parquet\r\n",
      "reco_p8_ee_tt_ecm380_1018.parquet  reco_p8_ee_tt_ecm380_1187.parquet\r\n",
      "reco_p8_ee_tt_ecm380_1019.parquet  reco_p8_ee_tt_ecm380_1188.parquet\r\n",
      "reco_p8_ee_tt_ecm380_102.parquet   reco_p8_ee_tt_ecm380_1189.parquet\r\n",
      "reco_p8_ee_tt_ecm380_1020.parquet  reco_p8_ee_tt_ecm380_119.parquet\r\n",
      "reco_p8_ee_tt_ecm380_1021.parquet  reco_p8_ee_tt_ecm380_1190.parquet\r\n",
      "reco_p8_ee_tt_ecm380_1022.parquet  reco_p8_ee_tt_ecm380_1191.parquet\r\n",
      "reco_p8_ee_tt_ecm380_1023.parquet  reco_p8_ee_tt_ecm380_1192.parquet\r\n",
      "reco_p8_ee_tt_ecm380_1024.parquet  reco_p8_ee_tt_ecm380_1193.parquet\r\n",
      "reco_p8_ee_tt_ecm380_1025.parquet  reco_p8_ee_tt_ecm380_1194.parquet\r\n",
      "reco_p8_ee_tt_ecm380_1026.parquet  reco_p8_ee_tt_ecm380_1195.parquet\r\n",
      "reco_p8_ee_tt_ecm380_1027.parquet  reco_p8_ee_tt_ecm380_1196.parquet\r\n",
      "reco_p8_ee_tt_ecm380_1028.parquet  reco_p8_ee_tt_ecm380_1197.parquet\r\n",
      "reco_p8_ee_tt_ecm380_1029.parquet  reco_p8_ee_tt_ecm380_1198.parquet\r\n",
      "reco_p8_ee_tt_ecm380_103.parquet   reco_p8_ee_tt_ecm380_1199.parquet\r\n",
      "reco_p8_ee_tt_ecm380_1030.parquet  reco_p8_ee_tt_ecm380_12.parquet\r\n",
      "reco_p8_ee_tt_ecm380_1031.parquet  reco_p8_ee_tt_ecm380_120.parquet\r\n",
      "reco_p8_ee_tt_ecm380_1032.parquet  reco_p8_ee_tt_ecm380_1200.parquet\r\n",
      "reco_p8_ee_tt_ecm380_1033.parquet  reco_p8_ee_tt_ecm380_1201.parquet\r\n",
      "reco_p8_ee_tt_ecm380_1034.parquet  reco_p8_ee_tt_ecm380_1202.parquet\r\n",
      "reco_p8_ee_tt_ecm380_1035.parquet  reco_p8_ee_tt_ecm380_1203.parquet\r\n",
      "reco_p8_ee_tt_ecm380_1036.parquet  reco_p8_ee_tt_ecm380_1204.parquet\r\n",
      "reco_p8_ee_tt_ecm380_1037.parquet  reco_p8_ee_tt_ecm380_1205.parquet\r\n",
      "reco_p8_ee_tt_ecm380_1038.parquet  reco_p8_ee_tt_ecm380_1206.parquet\r\n",
      "reco_p8_ee_tt_ecm380_1039.parquet  reco_p8_ee_tt_ecm380_1207.parquet\r\n",
      "reco_p8_ee_tt_ecm380_104.parquet   reco_p8_ee_tt_ecm380_1208.parquet\r\n",
      "reco_p8_ee_tt_ecm380_1040.parquet  reco_p8_ee_tt_ecm380_1209.parquet\r\n",
      "reco_p8_ee_tt_ecm380_1041.parquet  reco_p8_ee_tt_ecm380_121.parquet\r\n",
      "reco_p8_ee_tt_ecm380_1042.parquet  reco_p8_ee_tt_ecm380_1210.parquet\r\n",
      "reco_p8_ee_tt_ecm380_1043.parquet  reco_p8_ee_tt_ecm380_1211.parquet\r\n",
      "reco_p8_ee_tt_ecm380_1044.parquet  reco_p8_ee_tt_ecm380_1212.parquet\r\n",
      "reco_p8_ee_tt_ecm380_1045.parquet  reco_p8_ee_tt_ecm380_1213.parquet\r\n",
      "reco_p8_ee_tt_ecm380_1046.parquet  reco_p8_ee_tt_ecm380_1214.parquet\r\n",
      "reco_p8_ee_tt_ecm380_1047.parquet  reco_p8_ee_tt_ecm380_1215.parquet\r\n",
      "reco_p8_ee_tt_ecm380_1048.parquet  reco_p8_ee_tt_ecm380_1216.parquet\r\n",
      "reco_p8_ee_tt_ecm380_1049.parquet  reco_p8_ee_tt_ecm380_1217.parquet\r\n",
      "reco_p8_ee_tt_ecm380_105.parquet   reco_p8_ee_tt_ecm380_1218.parquet\r\n",
      "reco_p8_ee_tt_ecm380_1050.parquet  reco_p8_ee_tt_ecm380_1219.parquet\r\n",
      "reco_p8_ee_tt_ecm380_1051.parquet  reco_p8_ee_tt_ecm380_122.parquet\r\n",
      "reco_p8_ee_tt_ecm380_1052.parquet  reco_p8_ee_tt_ecm380_1220.parquet\r\n",
      "reco_p8_ee_tt_ecm380_1053.parquet  reco_p8_ee_tt_ecm380_1221.parquet\r\n",
      "reco_p8_ee_tt_ecm380_1054.parquet  reco_p8_ee_tt_ecm380_1222.parquet\r\n",
      "reco_p8_ee_tt_ecm380_1055.parquet  reco_p8_ee_tt_ecm380_1223.parquet\r\n",
      "reco_p8_ee_tt_ecm380_1056.parquet  reco_p8_ee_tt_ecm380_1224.parquet\r\n",
      "reco_p8_ee_tt_ecm380_1057.parquet  reco_p8_ee_tt_ecm380_1225.parquet\r\n",
      "reco_p8_ee_tt_ecm380_1058.parquet  reco_p8_ee_tt_ecm380_1226.parquet\r\n",
      "reco_p8_ee_tt_ecm380_1059.parquet  reco_p8_ee_tt_ecm380_1227.parquet\r\n",
      "reco_p8_ee_tt_ecm380_106.parquet   reco_p8_ee_tt_ecm380_1228.parquet\r\n",
      "reco_p8_ee_tt_ecm380_1060.parquet  reco_p8_ee_tt_ecm380_1229.parquet\r\n",
      "reco_p8_ee_tt_ecm380_1061.parquet  reco_p8_ee_tt_ecm380_123.parquet\r\n",
      "reco_p8_ee_tt_ecm380_1062.parquet  reco_p8_ee_tt_ecm380_1230.parquet\r\n",
      "reco_p8_ee_tt_ecm380_1063.parquet  reco_p8_ee_tt_ecm380_1231.parquet\r\n",
      "reco_p8_ee_tt_ecm380_1064.parquet  reco_p8_ee_tt_ecm380_1232.parquet\r\n",
      "reco_p8_ee_tt_ecm380_1065.parquet  reco_p8_ee_tt_ecm380_1233.parquet\r\n",
      "reco_p8_ee_tt_ecm380_1066.parquet  reco_p8_ee_tt_ecm380_1234.parquet\r\n",
      "reco_p8_ee_tt_ecm380_1067.parquet  reco_p8_ee_tt_ecm380_1235.parquet\r\n",
      "reco_p8_ee_tt_ecm380_1068.parquet  reco_p8_ee_tt_ecm380_1236.parquet\r\n",
      "reco_p8_ee_tt_ecm380_1069.parquet  reco_p8_ee_tt_ecm380_1237.parquet\r\n",
      "reco_p8_ee_tt_ecm380_107.parquet   reco_p8_ee_tt_ecm380_1238.parquet\r\n",
      "reco_p8_ee_tt_ecm380_1070.parquet  reco_p8_ee_tt_ecm380_1239.parquet\r\n",
      "reco_p8_ee_tt_ecm380_1071.parquet  reco_p8_ee_tt_ecm380_124.parquet\r\n",
      "reco_p8_ee_tt_ecm380_1072.parquet  reco_p8_ee_tt_ecm380_1240.parquet\r\n",
      "reco_p8_ee_tt_ecm380_1073.parquet  reco_p8_ee_tt_ecm380_1241.parquet\r\n",
      "reco_p8_ee_tt_ecm380_1074.parquet  reco_p8_ee_tt_ecm380_1242.parquet\r\n",
      "reco_p8_ee_tt_ecm380_1075.parquet  reco_p8_ee_tt_ecm380_1243.parquet\r\n",
      "reco_p8_ee_tt_ecm380_1076.parquet  reco_p8_ee_tt_ecm380_1244.parquet\r\n",
      "reco_p8_ee_tt_ecm380_1077.parquet  reco_p8_ee_tt_ecm380_1245.parquet\r\n",
      "reco_p8_ee_tt_ecm380_1078.parquet  reco_p8_ee_tt_ecm380_1246.parquet\r\n",
      "reco_p8_ee_tt_ecm380_1079.parquet  reco_p8_ee_tt_ecm380_1247.parquet\r\n",
      "reco_p8_ee_tt_ecm380_108.parquet   reco_p8_ee_tt_ecm380_1248.parquet\r\n",
      "reco_p8_ee_tt_ecm380_1080.parquet  reco_p8_ee_tt_ecm380_1249.parquet\r\n",
      "reco_p8_ee_tt_ecm380_1081.parquet  reco_p8_ee_tt_ecm380_125.parquet\r\n",
      "reco_p8_ee_tt_ecm380_1082.parquet  reco_p8_ee_tt_ecm380_1250.parquet\r\n",
      "reco_p8_ee_tt_ecm380_1083.parquet  reco_p8_ee_tt_ecm380_1251.parquet\r\n",
      "reco_p8_ee_tt_ecm380_1084.parquet  reco_p8_ee_tt_ecm380_1252.parquet\r\n",
      "reco_p8_ee_tt_ecm380_1085.parquet  reco_p8_ee_tt_ecm380_1253.parquet\r\n",
      "reco_p8_ee_tt_ecm380_1086.parquet  reco_p8_ee_tt_ecm380_1254.parquet\r\n",
      "reco_p8_ee_tt_ecm380_1087.parquet  reco_p8_ee_tt_ecm380_1255.parquet\r\n",
      "reco_p8_ee_tt_ecm380_1088.parquet  reco_p8_ee_tt_ecm380_1256.parquet\r\n",
      "reco_p8_ee_tt_ecm380_1089.parquet  reco_p8_ee_tt_ecm380_1257.parquet\r\n",
      "reco_p8_ee_tt_ecm380_109.parquet   reco_p8_ee_tt_ecm380_1258.parquet\r\n",
      "reco_p8_ee_tt_ecm380_1090.parquet  reco_p8_ee_tt_ecm380_1259.parquet\r\n",
      "reco_p8_ee_tt_ecm380_1091.parquet  reco_p8_ee_tt_ecm380_126.parquet\r\n",
      "reco_p8_ee_tt_ecm380_1092.parquet  reco_p8_ee_tt_ecm380_1260.parquet\r\n",
      "reco_p8_ee_tt_ecm380_1093.parquet  reco_p8_ee_tt_ecm380_1261.parquet\r\n",
      "reco_p8_ee_tt_ecm380_1094.parquet  reco_p8_ee_tt_ecm380_1262.parquet\r\n",
      "reco_p8_ee_tt_ecm380_1095.parquet  reco_p8_ee_tt_ecm380_1263.parquet\r\n",
      "reco_p8_ee_tt_ecm380_1096.parquet  reco_p8_ee_tt_ecm380_1264.parquet\r\n",
      "reco_p8_ee_tt_ecm380_1097.parquet  reco_p8_ee_tt_ecm380_1265.parquet\r\n",
      "reco_p8_ee_tt_ecm380_1098.parquet  reco_p8_ee_tt_ecm380_1266.parquet\r\n",
      "reco_p8_ee_tt_ecm380_1099.parquet  reco_p8_ee_tt_ecm380_1267.parquet\r\n",
      "reco_p8_ee_tt_ecm380_11.parquet    reco_p8_ee_tt_ecm380_1268.parquet\r\n",
      "reco_p8_ee_tt_ecm380_110.parquet   reco_p8_ee_tt_ecm380_1269.parquet\r\n",
      "reco_p8_ee_tt_ecm380_1100.parquet  reco_p8_ee_tt_ecm380_127.parquet\r\n",
      "reco_p8_ee_tt_ecm380_1101.parquet  reco_p8_ee_tt_ecm380_1270.parquet\r\n",
      "reco_p8_ee_tt_ecm380_1102.parquet  reco_p8_ee_tt_ecm380_1271.parquet\r\n",
      "reco_p8_ee_tt_ecm380_1103.parquet  reco_p8_ee_tt_ecm380_1272.parquet\r\n",
      "reco_p8_ee_tt_ecm380_1104.parquet  reco_p8_ee_tt_ecm380_1273.parquet\r\n",
      "reco_p8_ee_tt_ecm380_1105.parquet  reco_p8_ee_tt_ecm380_1274.parquet\r\n",
      "reco_p8_ee_tt_ecm380_1106.parquet  reco_p8_ee_tt_ecm380_1275.parquet\r\n",
      "reco_p8_ee_tt_ecm380_1107.parquet  reco_p8_ee_tt_ecm380_1276.parquet\r\n",
      "reco_p8_ee_tt_ecm380_1108.parquet  reco_p8_ee_tt_ecm380_1277.parquet\r\n",
      "reco_p8_ee_tt_ecm380_1109.parquet  reco_p8_ee_tt_ecm380_1278.parquet\r\n",
      "reco_p8_ee_tt_ecm380_111.parquet   reco_p8_ee_tt_ecm380_1279.parquet\r\n",
      "reco_p8_ee_tt_ecm380_1110.parquet  reco_p8_ee_tt_ecm380_128.parquet\r\n",
      "reco_p8_ee_tt_ecm380_1111.parquet  reco_p8_ee_tt_ecm380_1280.parquet\r\n",
      "reco_p8_ee_tt_ecm380_1112.parquet  reco_p8_ee_tt_ecm380_1281.parquet\r\n",
      "reco_p8_ee_tt_ecm380_1113.parquet  reco_p8_ee_tt_ecm380_1282.parquet\r\n",
      "reco_p8_ee_tt_ecm380_1114.parquet  reco_p8_ee_tt_ecm380_1283.parquet\r\n",
      "reco_p8_ee_tt_ecm380_1115.parquet  reco_p8_ee_tt_ecm380_1284.parquet\r\n",
      "reco_p8_ee_tt_ecm380_1116.parquet  reco_p8_ee_tt_ecm380_1285.parquet\r\n",
      "reco_p8_ee_tt_ecm380_1117.parquet  reco_p8_ee_tt_ecm380_1286.parquet\r\n",
      "reco_p8_ee_tt_ecm380_1118.parquet  reco_p8_ee_tt_ecm380_1287.parquet\r\n",
      "reco_p8_ee_tt_ecm380_1119.parquet  reco_p8_ee_tt_ecm380_1288.parquet\r\n",
      "reco_p8_ee_tt_ecm380_112.parquet   reco_p8_ee_tt_ecm380_1289.parquet\r\n",
      "reco_p8_ee_tt_ecm380_1120.parquet  reco_p8_ee_tt_ecm380_129.parquet\r\n",
      "reco_p8_ee_tt_ecm380_1121.parquet  reco_p8_ee_tt_ecm380_1290.parquet\r\n",
      "reco_p8_ee_tt_ecm380_1122.parquet  reco_p8_ee_tt_ecm380_1291.parquet\r\n",
      "reco_p8_ee_tt_ecm380_1123.parquet  reco_p8_ee_tt_ecm380_1292.parquet\r\n",
      "reco_p8_ee_tt_ecm380_1124.parquet  reco_p8_ee_tt_ecm380_1293.parquet\r\n",
      "reco_p8_ee_tt_ecm380_1125.parquet  reco_p8_ee_tt_ecm380_1294.parquet\r\n",
      "reco_p8_ee_tt_ecm380_1126.parquet  reco_p8_ee_tt_ecm380_1295.parquet\r\n",
      "reco_p8_ee_tt_ecm380_1127.parquet  reco_p8_ee_tt_ecm380_1296.parquet\r\n",
      "reco_p8_ee_tt_ecm380_1128.parquet  reco_p8_ee_tt_ecm380_1297.parquet\r\n",
      "reco_p8_ee_tt_ecm380_1129.parquet  reco_p8_ee_tt_ecm380_1298.parquet\r\n",
      "reco_p8_ee_tt_ecm380_113.parquet   reco_p8_ee_tt_ecm380_1299.parquet\r\n",
      "reco_p8_ee_tt_ecm380_1130.parquet  reco_p8_ee_tt_ecm380_13.parquet\r\n",
      "reco_p8_ee_tt_ecm380_1131.parquet  reco_p8_ee_tt_ecm380_130.parquet\r\n",
      "reco_p8_ee_tt_ecm380_1132.parquet  reco_p8_ee_tt_ecm380_1300.parquet\r\n",
      "reco_p8_ee_tt_ecm380_1133.parquet  reco_p8_ee_tt_ecm380_1301.parquet\r\n",
      "reco_p8_ee_tt_ecm380_1134.parquet  reco_p8_ee_tt_ecm380_1302.parquet\r\n",
      "reco_p8_ee_tt_ecm380_1135.parquet  reco_p8_ee_tt_ecm380_1303.parquet\r\n",
      "reco_p8_ee_tt_ecm380_1136.parquet  reco_p8_ee_tt_ecm380_1304.parquet\r\n",
      "reco_p8_ee_tt_ecm380_1137.parquet  reco_p8_ee_tt_ecm380_1305.parquet\r\n",
      "reco_p8_ee_tt_ecm380_1138.parquet  reco_p8_ee_tt_ecm380_1306.parquet\r\n",
      "reco_p8_ee_tt_ecm380_1139.parquet  reco_p8_ee_tt_ecm380_1307.parquet\r\n",
      "reco_p8_ee_tt_ecm380_114.parquet   reco_p8_ee_tt_ecm380_1308.parquet\r\n",
      "reco_p8_ee_tt_ecm380_1140.parquet  reco_p8_ee_tt_ecm380_1309.parquet\r\n",
      "reco_p8_ee_tt_ecm380_1141.parquet  reco_p8_ee_tt_ecm380_131.parquet\r\n",
      "reco_p8_ee_tt_ecm380_1142.parquet  reco_p8_ee_tt_ecm380_1310.parquet\r\n",
      "reco_p8_ee_tt_ecm380_1143.parquet  reco_p8_ee_tt_ecm380_1311.parquet\r\n",
      "reco_p8_ee_tt_ecm380_1144.parquet  reco_p8_ee_tt_ecm380_1312.parquet\r\n",
      "reco_p8_ee_tt_ecm380_1145.parquet  reco_p8_ee_tt_ecm380_1313.parquet\r\n",
      "reco_p8_ee_tt_ecm380_1146.parquet  reco_p8_ee_tt_ecm380_1314.parquet\r\n",
      "reco_p8_ee_tt_ecm380_1147.parquet  reco_p8_ee_tt_ecm380_1315.parquet\r\n",
      "reco_p8_ee_tt_ecm380_1148.parquet  reco_p8_ee_tt_ecm380_1316.parquet\r\n",
      "reco_p8_ee_tt_ecm380_1149.parquet  reco_p8_ee_tt_ecm380_1317.parquet\r\n",
      "reco_p8_ee_tt_ecm380_115.parquet   reco_p8_ee_tt_ecm380_1318.parquet\r\n",
      "reco_p8_ee_tt_ecm380_1150.parquet  reco_p8_ee_tt_ecm380_1319.parquet\r\n",
      "reco_p8_ee_tt_ecm380_1151.parquet  reco_p8_ee_tt_ecm380_132.parquet\r\n",
      "reco_p8_ee_tt_ecm380_1152.parquet  reco_p8_ee_tt_ecm380_1320.parquet\r\n",
      "reco_p8_ee_tt_ecm380_1153.parquet  reco_p8_ee_tt_ecm380_1321.parquet\r\n",
      "reco_p8_ee_tt_ecm380_1154.parquet  reco_p8_ee_tt_ecm380_1322.parquet\r\n",
      "reco_p8_ee_tt_ecm380_1155.parquet  reco_p8_ee_tt_ecm380_1323.parquet\r\n",
      "reco_p8_ee_tt_ecm380_1156.parquet  reco_p8_ee_tt_ecm380_1324.parquet\r\n"
     ]
    }
   ],
   "source": [
    "! ls ../data/old_clic/p8_ee_tt_ecm380/raw/reco_p8_ee_tt_ecm380_1.parquet"
   ]
  },
  {
   "cell_type": "code",
   "execution_count": 94,
   "metadata": {},
   "outputs": [],
   "source": [
    "fn = \"../data/old_clic/p8_ee_tt_ecm380/raw/reco_p8_ee_tt_ecm380_1.parquet\""
   ]
  },
  {
   "cell_type": "code",
   "execution_count": 95,
   "metadata": {},
   "outputs": [],
   "source": [
    "with_jet_idx=True\n",
    "new_setup=False"
   ]
  },
  {
   "cell_type": "code",
   "execution_count": 96,
   "metadata": {},
   "outputs": [],
   "source": [
    "    ret = ak.from_parquet(fn)\n",
    "\n",
    "    X_track = ret[\"X_track\"]\n",
    "    X_cluster = ret[\"X_cluster\"]\n",
    "\n",
    "    assert len(X_track) == len(X_cluster)\n",
    "    nev = len(X_track)\n",
    "\n",
    "    Xs = []\n",
    "    ygens = []\n",
    "    ycands = []\n",
    "    for iev in range(nev):\n",
    "\n",
    "        X1 = ak.to_numpy(X_track[iev])\n",
    "        X2 = ak.to_numpy(X_cluster[iev])\n",
    "\n",
    "        if len(X1) == 0 or len(X2) == 0:\n",
    "            continue\n",
    "\n",
    "        ygen_track = ak.to_numpy(ret[\"ygen_track\"][iev])\n",
    "        ygen_cluster = ak.to_numpy(ret[\"ygen_cluster\"][iev])\n",
    "\n",
    "        # add null stuff\n",
    "        if new_setup:\n",
    "            ygen_null_track = ak.to_numpy(ret[\"ygen_null_track\"][iev])\n",
    "            ygen_null_cluster = ak.to_numpy(ret[\"ygen_null_cluster\"][iev])\n",
    "\n",
    "        ycand_track = ak.to_numpy(ret[\"ycand_track\"][iev])\n",
    "        ycand_cluster = ak.to_numpy(ret[\"ycand_cluster\"][iev])\n",
    "\n",
    "        if len(ygen_track) == 0 or len(ygen_cluster) == 0:\n",
    "            continue\n",
    "\n",
    "        # pad feature dim between tracks and clusters to the same size\n",
    "        if X1.shape[1] < X2.shape[1]:\n",
    "            X1 = np.pad(X1, [[0, 0], [0, X2.shape[1] - X1.shape[1]]])\n",
    "        if X2.shape[1] < X1.shape[1]:\n",
    "            X2 = np.pad(X2, [[0, 0], [0, X1.shape[1] - X2.shape[1]]])\n",
    "\n",
    "        # concatenate tracks and clusters in features and targets\n",
    "        X = np.concatenate([X1, X2])\n",
    "        ygen = np.concatenate([ygen_track, ygen_cluster])\n",
    "        if new_setup:\n",
    "            ygen_null = np.concatenate([ygen_null_track, ygen_null_cluster])\n",
    "        ycand = np.concatenate([ycand_track, ycand_cluster])\n",
    "\n",
    "        assert ygen.shape[0] == X.shape[0]\n",
    "        if new_setup:\n",
    "            assert ygen_null.shape[0] == X.shape[0]\n",
    "        assert ycand.shape[0] == X.shape[0]\n",
    "          \n",
    "\n",
    "        # add jet_idx column\n",
    "        if with_jet_idx:\n",
    "            ygen = np.concatenate(\n",
    "                [\n",
    "                    ygen.astype(np.float32),\n",
    "                    np.zeros((len(ygen), 1), dtype=np.float32),\n",
    "                ],\n",
    "                axis=-1,\n",
    "            )\n",
    "            if new_setup:\n",
    "                ygen_null = np.concatenate(\n",
    "                    [\n",
    "                        ygen_null.astype(np.float32),\n",
    "                        np.zeros((len(ygen_null), 1), dtype=np.float32),\n",
    "                    ],\n",
    "                    axis=-1,\n",
    "                )\n",
    "            ycand = np.concatenate(\n",
    "                [\n",
    "                    ycand.astype(np.float32),\n",
    "                    np.zeros((len(ycand), 1), dtype=np.float32),\n",
    "                ],\n",
    "                axis=-1,\n",
    "            )\n",
    "\n",
    "        if new_setup:\n",
    "            labels = {\n",
    "                0: 0,  # unused in the end when we combine the primaries and the nulls because there are no overlap between them\n",
    "                211: 0,\n",
    "                130: 1,\n",
    "                22: 2,\n",
    "                11: 3,\n",
    "                13: 4,\n",
    "            }\n",
    "\n",
    "            labels_null = {\n",
    "                0: 0,  # unused in the end when we combine the primaries and the nulls because there are no overlap between them\n",
    "                211: 5,\n",
    "                130: 6,\n",
    "                22: 7,\n",
    "                11: 8,\n",
    "                13: 9,\n",
    "            }\n",
    "        else:\n",
    "            labels = {\n",
    "                0: 0,\n",
    "                211: 1,\n",
    "                130: 2,\n",
    "                22: 3,\n",
    "                11: 4,\n",
    "                13: 5,\n",
    "            }  \n",
    "            \n",
    "        # replace PID with index in labels array\n",
    "        arr = np.array([labels[p] for p in ygen[:, 0]])\n",
    "        ygen[:, 0][:] = arr[:]\n",
    "\n",
    "        if new_setup:\n",
    "            arr = np.array([labels_null[p] for p in ygen_null[:, 0]])\n",
    "            ygen_null[:, 0][:] = arr[:]\n",
    "\n",
    "        arr = np.array([labels[p] for p in ycand[:, 0]])\n",
    "        ycand[:, 0][:] = arr[:]\n",
    "\n",
    "        if with_jet_idx:\n",
    "            # prepare gen candidates for clustering\n",
    "            cls_id = ygen[..., 0]\n",
    "            valid = cls_id != 0\n",
    "            # save mapping of index after masking -> index before masking as numpy array\n",
    "            # inspired from:\n",
    "            # https://stackoverflow.com/questions/432112/1044443#comment54747416_1044443\n",
    "            cumsum = np.cumsum(valid) - 1\n",
    "            _, index_mapping = np.unique(cumsum, return_index=True)\n",
    "\n",
    "            pt = ygen[valid, Y_FEATURES.index(\"pt\")]\n",
    "            eta = ygen[valid, Y_FEATURES.index(\"eta\")]\n",
    "            sin_phi = ygen[valid, Y_FEATURES.index(\"sin_phi\")]\n",
    "            cos_phi = ygen[valid, Y_FEATURES.index(\"cos_phi\")]\n",
    "            phi = np.arctan2(sin_phi, cos_phi)\n",
    "            energy = ygen[valid, Y_FEATURES.index(\"energy\")]\n",
    "            vec = vector.awk(ak.zip({\"pt\": pt, \"eta\": eta, \"phi\": phi, \"energy\": energy}))\n",
    "\n",
    "            # cluster jets, sort jet indices in descending order by pt\n",
    "            cluster = fastjet.ClusterSequence(vec.to_xyzt(), jetdef)\n",
    "            jets = vector.awk(cluster.inclusive_jets(min_pt=min_jet_pt))\n",
    "            sorted_jet_idx = ak.argsort(jets.pt, axis=-1, ascending=False).to_list()\n",
    "            # retrieve corresponding indices of constituents\n",
    "            constituent_idx = cluster.constituent_index(min_pt=min_jet_pt).to_list()\n",
    "\n",
    "            # add index information to ygen and ycand\n",
    "            # index jets in descending order by pt starting from 1:\n",
    "            # 0 is null (unclustered),\n",
    "            # 1 is 1st highest-pt jet,\n",
    "            # 2 is 2nd highest-pt jet, ...\n",
    "            for jet_idx in sorted_jet_idx:\n",
    "                jet_constituents = [\n",
    "                    index_mapping[idx] for idx in constituent_idx[jet_idx]\n",
    "                ]  # map back to constituent index *before* masking\n",
    "                ygen[jet_constituents, Y_FEATURES.index(\"jet_idx\")] = jet_idx + 1  # jet index starts from 1\n",
    "                ycand[jet_constituents, Y_FEATURES.index(\"jet_idx\")] = jet_idx + 1\n",
    "\n",
    "        Xs.append(X)\n",
    "        # combine the primaries and the nulls but first assert that there's no overlap\n",
    "        if new_setup:\n",
    "            assert np.all((ygen.sum(axis=1) != 0) & (ygen_null.sum(axis=1) != 0)) == 0\n",
    "            ygens.append(ygen + ygen_null)\n",
    "        else:\n",
    "            ygens.append(ygen)\n",
    "        ycands.append(ycand)\n",
    "        break"
   ]
  },
  {
   "cell_type": "code",
   "execution_count": 60,
   "metadata": {},
   "outputs": [
    {
     "data": {
      "text/plain": [
       "array([0., 0., 0., 0., 0., 0., 0., 0., 0., 7., 0., 0., 0., 0., 0., 0., 0.,\n",
       "       0., 0., 0., 0., 0., 0., 0., 0., 0., 0., 0., 0., 0., 0., 0., 0., 0.,\n",
       "       0., 0., 0., 0., 4., 0., 0., 0., 0., 0., 0., 0., 0., 0., 0., 0., 0.,\n",
       "       7., 5., 5., 2., 5., 6., 5., 5., 5., 2., 5., 6., 5., 5., 5., 0., 0.,\n",
       "       5., 2., 5., 5., 5., 5., 5., 5., 5., 5., 5., 5., 5., 5., 5., 5., 5.,\n",
       "       5., 5., 7., 7., 7., 7., 2., 7., 7., 2., 5., 5., 7., 7., 5., 5., 0.,\n",
       "       7., 7., 7., 7., 7., 5., 5., 2., 2., 2., 2., 2., 5., 7., 7., 2., 7.,\n",
       "       7., 2., 2., 2., 5., 9., 5., 2., 7., 7., 7., 1., 1., 7., 7., 2., 2.,\n",
       "       2., 5., 5., 2., 2., 2., 7., 2., 2., 2., 2., 2., 2., 7., 2., 2., 2.,\n",
       "       5., 2., 2., 2., 2., 2., 2., 2., 2., 1.], dtype=float32)"
      ]
     },
     "execution_count": 60,
     "metadata": {},
     "output_type": "execute_result"
    }
   ],
   "source": [
    "(ygen + ygen_null)[:,0]"
   ]
  },
  {
   "cell_type": "code",
   "execution_count": 97,
   "metadata": {},
   "outputs": [
    {
     "data": {
      "text/plain": [
       "array([1., 1., 1., 1., 1., 1., 1., 1., 1., 0., 1., 1., 1., 1., 1., 1., 1.,\n",
       "       1., 1., 1., 1., 1., 1., 1., 1., 1., 1., 1., 1., 1., 1., 1., 1., 1.,\n",
       "       1., 1., 1., 1., 5., 1., 1., 1., 1., 1., 1., 1., 1., 1., 1., 1., 1.,\n",
       "       0., 0., 0., 3., 0., 0., 0., 0., 0., 3., 0., 0., 0., 0., 0., 2., 2.,\n",
       "       0., 3., 0., 0., 0., 0., 0., 0., 0., 0., 0., 0., 0., 0., 0., 0., 0.,\n",
       "       0., 0., 0., 0., 0., 0., 3., 0., 0., 3., 0., 0., 0., 0., 0., 0., 2.,\n",
       "       0., 0., 0., 0., 0., 0., 0., 3., 3., 3., 3., 3., 0., 0., 0., 3., 0.,\n",
       "       0., 3., 3., 3., 0., 0., 0., 3., 0., 0., 0., 2., 2., 0., 0., 3., 3.,\n",
       "       3., 0., 0., 3., 3., 3., 0., 3., 3., 3., 3., 3., 3., 0., 3., 3., 3.,\n",
       "       0., 3., 3., 3., 3., 3., 3., 3., 3., 2.], dtype=float32)"
      ]
     },
     "execution_count": 97,
     "metadata": {},
     "output_type": "execute_result"
    }
   ],
   "source": [
    "ygen[:,0]"
   ]
  },
  {
   "cell_type": "code",
   "execution_count": 66,
   "metadata": {},
   "outputs": [
    {
     "data": {
      "text/plain": [
       "38"
      ]
     },
     "execution_count": 66,
     "metadata": {},
     "output_type": "execute_result"
    }
   ],
   "source": [
    "# 130 -> 1\n",
    "# 22 -> 2\n",
    "# \n",
    "((ygen + ygen_null)[:,0]==2).sum()"
   ]
  },
  {
   "cell_type": "code",
   "execution_count": 68,
   "metadata": {},
   "outputs": [
    {
     "data": {
      "text/plain": [
       "38"
      ]
     },
     "execution_count": 68,
     "metadata": {},
     "output_type": "execute_result"
    }
   ],
   "source": [
    "(new==22).sum()"
   ]
  },
  {
   "cell_type": "code",
   "execution_count": null,
   "metadata": {},
   "outputs": [],
   "source": []
  },
  {
   "cell_type": "code",
   "execution_count": 77,
   "metadata": {},
   "outputs": [],
   "source": [
    "ev1 = ev.x[ev.batch==0]\n",
    "ev1_y = ev.ygen_id[ev.batch==0]"
   ]
  },
  {
   "cell_type": "code",
   "execution_count": 97,
   "metadata": {},
   "outputs": [],
   "source": [
    "phi_min = 0.9\n",
    "phi_max = 1.15\n",
    "eta_min = 0.9\n",
    "eta_max = 1.15\n",
    "\n",
    "cphi = ev1[:, X_FEATURES_TRK[\"cos_phi\"]]\n",
    "sphi = ev1[:, X_FEATURES_TRK[\"sin_phi\"]]\n",
    "phi = np.arctan(sphi/cphi)\n",
    "eta = ev1[:, X_FEATURES_TRK[\"eta\"]]"
   ]
  },
  {
   "cell_type": "code",
   "execution_count": 98,
   "metadata": {},
   "outputs": [],
   "source": [
    "phi_ = (phi>phi_min) & (phi<phi_max)\n",
    "eta_ = (eta>eta_min) & (eta<eta_max)\n",
    "\n",
    "phi_eta_ = phi_ & eta_"
   ]
  },
  {
   "cell_type": "code",
   "execution_count": 99,
   "metadata": {},
   "outputs": [
    {
     "data": {
      "text/plain": [
       "tensor([[ 1.0000e+00,  6.6784e-01,  9.8016e-01,  8.6523e-01,  5.0137e-01,\n",
       "          1.0152e+00,  1.2207e+01,  1.1000e+01,  0.0000e+00,  0.0000e+00,\n",
       "          3.1335e+01,  1.1448e+00,  7.6359e-03, -1.7968e-03,  7.4497e-03,\n",
       "         -1.0000e+00,  0.0000e+00],\n",
       "        [ 2.0000e+00,  2.4626e-01,  1.1310e+00,  9.0268e-01,  4.3031e-01,\n",
       "          4.2127e-01,  5.3067e+02,  1.4460e+03,  1.4162e+03,  6.2433e-01,\n",
       "          4.1151e-01,  0.0000e+00,  0.0000e+00,  1.9000e+01,  9.9418e+00,\n",
       "          1.6710e+01,  1.9169e+01],\n",
       "        [ 2.0000e+00,  4.5232e-01,  9.8169e-01,  9.0916e-01,  4.1644e-01,\n",
       "          6.8835e-01, -7.7264e+02,  5.0400e+02,  2.3825e+03,  7.1698e-01,\n",
       "          5.5412e-01,  0.0000e+00,  0.0000e+00,  3.3000e+01,  7.1407e+00,\n",
       "          1.8934e+01,  3.5927e+01]])"
      ]
     },
     "execution_count": 99,
     "metadata": {},
     "output_type": "execute_result"
    }
   ],
   "source": [
    "ev1[phi_eta_]"
   ]
  },
  {
   "cell_type": "code",
   "execution_count": 100,
   "metadata": {},
   "outputs": [
    {
     "data": {
      "text/plain": [
       "tensor([1, 0, 0])"
      ]
     },
     "execution_count": 100,
     "metadata": {},
     "output_type": "execute_result"
    }
   ],
   "source": [
    "ev1_y[phi_eta_]"
   ]
  },
  {
   "cell_type": "code",
   "execution_count": null,
   "metadata": {},
   "outputs": [],
   "source": []
  },
  {
   "cell_type": "code",
   "execution_count": null,
   "metadata": {},
   "outputs": [],
   "source": []
  },
  {
   "cell_type": "markdown",
   "metadata": {},
   "source": [
    "# Data exploration"
   ]
  },
  {
   "cell_type": "code",
   "execution_count": 6,
   "metadata": {},
   "outputs": [],
   "source": [
    "plt.rcParams.update({\"font.size\": 20})"
   ]
  },
  {
   "cell_type": "code",
   "execution_count": 7,
   "metadata": {},
   "outputs": [],
   "source": [
    "loader = torch_geometric.loader.DataLoader(data_, 100)"
   ]
  },
  {
   "cell_type": "code",
   "execution_count": 8,
   "metadata": {},
   "outputs": [],
   "source": [
    "tracks = None\n",
    "for i, ev in enumerate(loader):\n",
    "    tracks_, _ = distinguish_tracks_from_clusters(ev)\n",
    "    if tracks == None:\n",
    "        tracks = tracks_.x\n",
    "    else:\n",
    "        tracks = torch.cat([tracks, tracks_.x], axis=0)\n",
    "    if i==10:\n",
    "        break"
   ]
  },
  {
   "cell_type": "code",
   "execution_count": 9,
   "metadata": {},
   "outputs": [
    {
     "name": "stdout",
     "output_type": "stream",
     "text": [
      "tracks: torch.Size([54683, 17])\n"
     ]
    }
   ],
   "source": [
    "print(f\"tracks: {tracks.shape}\")"
   ]
  },
  {
   "cell_type": "markdown",
   "metadata": {},
   "source": [
    "## Tracks"
   ]
  },
  {
   "cell_type": "code",
   "execution_count": 45,
   "metadata": {},
   "outputs": [
    {
     "name": "stderr",
     "output_type": "stream",
     "text": [
      "No artists with labels found to put in legend.  Note that artists whose label start with an underscore are ignored when legend() is called with no argument.\n"
     ]
    },
    {
     "data": {
      "image/png": "[encoded data removed]",
      "text/plain": [
       "<Figure size 576x432 with 1 Axes>"
      ]
     },
     "metadata": {
      "needs_background": "light"
     },
     "output_type": "display_data"
    }
   ],
   "source": [
    "index_ = X_FEATURES_TRK[\"pt\"]\n",
    "\n",
    "fig, ax = plt.subplots(figsize=(8,6))\n",
    "\n",
    "bins = np.linspace(0, 50, 40)\n",
    "ax.hist(tracks[:,index_], \n",
    "        bins, \n",
    "        histtype=\"step\", \n",
    "        linewidth=2, \n",
    "        density=True\n",
    "       )\n",
    "\n",
    "ax.legend(title=f\"Num of tracks = {len(tracks)}\")\n",
    "ax.set_xlabel(\"pT\");\n",
    "# ax.set_ylim(0, 25000)"
   ]
  },
  {
   "cell_type": "code",
   "execution_count": 46,
   "metadata": {},
   "outputs": [
    {
     "name": "stderr",
     "output_type": "stream",
     "text": [
      "No artists with labels found to put in legend.  Note that artists whose label start with an underscore are ignored when legend() is called with no argument.\n"
     ]
    },
    {
     "data": {
      "image/png": "[encoded data removed]",
      "text/plain": [
       "<Figure size 576x432 with 1 Axes>"
      ]
     },
     "metadata": {
      "needs_background": "light"
     },
     "output_type": "display_data"
    }
   ],
   "source": [
    "index_ = X_FEATURES_TRK[\"p\"]\n",
    "\n",
    "fig, ax = plt.subplots(figsize=(8,6))\n",
    "\n",
    "bins = np.linspace(0, 50, 40)\n",
    "ax.hist(tracks[:,index_], \n",
    "        bins, \n",
    "        histtype=\"step\", \n",
    "        linewidth=2, \n",
    "        density=True\n",
    "       )\n",
    "\n",
    "ax.legend(title=f\"Num of tracks = {len(tracks)}\")\n",
    "ax.set_xlabel(\"p\");\n",
    "# ax.set_ylim(0, 25000)"
   ]
  },
  {
   "cell_type": "code",
   "execution_count": 51,
   "metadata": {},
   "outputs": [
    {
     "name": "stderr",
     "output_type": "stream",
     "text": [
      "No artists with labels found to put in legend.  Note that artists whose label start with an underscore are ignored when legend() is called with no argument.\n"
     ]
    },
    {
     "data": {
      "image/png": "[encoded data removed]",
      "text/plain": [
       "<Figure size 576x432 with 1 Axes>"
      ]
     },
     "metadata": {
      "needs_background": "light"
     },
     "output_type": "display_data"
    }
   ],
   "source": [
    "index_ = X_FEATURES_TRK[\"chi2\"]\n",
    "\n",
    "fig, ax = plt.subplots(figsize=(8,6))\n",
    "\n",
    "bins = np.linspace(0, 100, 40)\n",
    "ax.hist(tracks[:,index_], \n",
    "        bins, \n",
    "        histtype=\"step\", \n",
    "        linewidth=2, \n",
    "        density=True\n",
    "       )\n",
    "\n",
    "ax.legend(title=f\"Num of tracks = {len(tracks)}\")\n",
    "ax.set_xlabel(\"chi2\");\n",
    "# ax.set_ylim(0, 25000)"
   ]
  },
  {
   "cell_type": "code",
   "execution_count": 71,
   "metadata": {},
   "outputs": [
    {
     "data": {
      "text/plain": [
       "tensor(0)"
      ]
     },
     "execution_count": 71,
     "metadata": {},
     "output_type": "execute_result"
    }
   ],
   "source": [
    "# dEdx is always 0\n",
    "index_ = X_FEATURES_TRK[\"dEdx\"]\n",
    "(tracks[:,index_]!=0).sum()"
   ]
  },
  {
   "cell_type": "code",
   "execution_count": 81,
   "metadata": {},
   "outputs": [
    {
     "data": {
      "text/plain": [
       "tensor(0)"
      ]
     },
     "execution_count": 81,
     "metadata": {},
     "output_type": "execute_result"
    }
   ],
   "source": [
    "# dEdxError is always 0\n",
    "index_ = X_FEATURES_TRK[\"dEdxError\"]\n",
    "(tracks[:,index_]!=0).sum()"
   ]
  },
  {
   "cell_type": "code",
   "execution_count": 86,
   "metadata": {},
   "outputs": [
    {
     "name": "stderr",
     "output_type": "stream",
     "text": [
      "No artists with labels found to put in legend.  Note that artists whose label start with an underscore are ignored when legend() is called with no argument.\n"
     ]
    },
    {
     "data": {
      "text/plain": [
       "tensor([ 31.2724,  31.1882,  33.3190,  ...,  31.2697, 342.4715, 339.9917])"
      ]
     },
     "execution_count": 86,
     "metadata": {},
     "output_type": "execute_result"
    },
    {
     "data": {
      "image/png": "[encoded data removed]",
      "text/plain": [
       "<Figure size 576x432 with 1 Axes>"
      ]
     },
     "metadata": {
      "needs_background": "light"
     },
     "output_type": "display_data"
    }
   ],
   "source": [
    "index_ = X_FEATURES_TRK[\"radiusOfInnermostHit\"]\n",
    "\n",
    "fig, ax = plt.subplots(figsize=(8,6))\n",
    "\n",
    "bins = np.linspace(0, 50, 40)\n",
    "ax.hist(tracks[:,index_], \n",
    "        bins, \n",
    "        histtype=\"step\", \n",
    "        linewidth=2, \n",
    "        density=True\n",
    "       )\n",
    "\n",
    "ax.legend(title=f\"Num of tracks = {len(tracks)}\")\n",
    "ax.set_xlabel(\"radiusOfInnermostHit\");\n",
    "# ax.set_ylim(0, 25000)\n",
    "\n",
    "index_ = X_FEATURES_TRK[\"radiusOfInnermostHit\"]\n",
    "tracks[:,index_]"
   ]
  },
  {
   "cell_type": "code",
   "execution_count": 90,
   "metadata": {},
   "outputs": [
    {
     "name": "stderr",
     "output_type": "stream",
     "text": [
      "No artists with labels found to put in legend.  Note that artists whose label start with an underscore are ignored when legend() is called with no argument.\n"
     ]
    },
    {
     "data": {
      "image/png": "[encoded data removed]",
      "text/plain": [
       "<Figure size 576x432 with 1 Axes>"
      ]
     },
     "metadata": {
      "needs_background": "light"
     },
     "output_type": "display_data"
    }
   ],
   "source": [
    "index_ = X_FEATURES_TRK[\"tanLambda\"]\n",
    "\n",
    "fig, ax = plt.subplots(figsize=(8,6))\n",
    "\n",
    "bins = np.linspace(-10, 10, 40)\n",
    "ax.hist(tracks[:,index_], \n",
    "        bins, \n",
    "        histtype=\"step\", \n",
    "        linewidth=2, \n",
    "        density=True\n",
    "       )\n",
    "\n",
    "ax.legend(title=f\"Num of tracks = {len(tracks)}\")\n",
    "ax.set_xlabel(\"tanLambda\");\n",
    "# ax.set_ylim(0, 25000)"
   ]
  },
  {
   "cell_type": "code",
   "execution_count": 94,
   "metadata": {},
   "outputs": [
    {
     "name": "stderr",
     "output_type": "stream",
     "text": [
      "No artists with labels found to put in legend.  Note that artists whose label start with an underscore are ignored when legend() is called with no argument.\n"
     ]
    },
    {
     "data": {
      "image/png": "[encoded data removed]",
      "text/plain": [
       "<Figure size 576x432 with 1 Axes>"
      ]
     },
     "metadata": {
      "needs_background": "light"
     },
     "output_type": "display_data"
    }
   ],
   "source": [
    "index_ = X_FEATURES_TRK[\"D0\"]\n",
    "\n",
    "fig, ax = plt.subplots(figsize=(8,6))\n",
    "\n",
    "bins = np.linspace(-3, 3, 40)\n",
    "ax.hist(tracks[:,index_], \n",
    "        bins, \n",
    "        histtype=\"step\", \n",
    "        linewidth=2, \n",
    "        density=True\n",
    "       )\n",
    "\n",
    "ax.legend(title=f\"Num of tracks = {len(tracks)}\")\n",
    "ax.set_xlabel(\"D0\");\n",
    "# ax.set_ylim(0, 25000)"
   ]
  },
  {
   "cell_type": "code",
   "execution_count": 98,
   "metadata": {},
   "outputs": [
    {
     "name": "stderr",
     "output_type": "stream",
     "text": [
      "No artists with labels found to put in legend.  Note that artists whose label start with an underscore are ignored when legend() is called with no argument.\n"
     ]
    },
    {
     "data": {
      "image/png": "[encoded data removed]",
      "text/plain": [
       "<Figure size 576x432 with 1 Axes>"
      ]
     },
     "metadata": {
      "needs_background": "light"
     },
     "output_type": "display_data"
    }
   ],
   "source": [
    "index_ = X_FEATURES_TRK[\"omega\"]\n",
    "\n",
    "fig, ax = plt.subplots(figsize=(8,6))\n",
    "\n",
    "bins = np.linspace(-0.05, 0.05, 40)\n",
    "ax.hist(tracks[:,index_], \n",
    "        bins, \n",
    "        histtype=\"step\", \n",
    "        linewidth=2, \n",
    "        density=True\n",
    "       )\n",
    "\n",
    "ax.legend(title=f\"Num of tracks = {len(tracks)}\")\n",
    "ax.set_xlabel(\"omega\");\n",
    "# ax.set_ylim(0, 25000)"
   ]
  },
  {
   "cell_type": "code",
   "execution_count": 102,
   "metadata": {},
   "outputs": [
    {
     "name": "stderr",
     "output_type": "stream",
     "text": [
      "No artists with labels found to put in legend.  Note that artists whose label start with an underscore are ignored when legend() is called with no argument.\n"
     ]
    },
    {
     "data": {
      "image/png": "[encoded data removed]",
      "text/plain": [
       "<Figure size 576x432 with 1 Axes>"
      ]
     },
     "metadata": {
      "needs_background": "light"
     },
     "output_type": "display_data"
    }
   ],
   "source": [
    "index_ = X_FEATURES_TRK[\"Z0\"]\n",
    "\n",
    "fig, ax = plt.subplots(figsize=(8,6))\n",
    "\n",
    "bins = np.linspace(-1, 1, 40)\n",
    "ax.hist(tracks[:,index_], \n",
    "        bins, \n",
    "        histtype=\"step\", \n",
    "        linewidth=2, \n",
    "        density=True\n",
    "       )\n",
    "\n",
    "ax.legend(title=f\"Num of tracks = {len(tracks)}\")\n",
    "ax.set_xlabel(\"Z0\");\n",
    "# ax.set_ylim(0, 25000)"
   ]
  }
 ],
 "metadata": {
  "kernelspec": {
   "display_name": "mlpf-root",
   "language": "python",
   "name": "mlpf-root"
  },
  "language_info": {
   "codemirror_mode": {
    "name": "ipython",
    "version": 3
   },
   "file_extension": ".py",
   "mimetype": "text/x-python",
   "name": "python",
   "nbconvert_exporter": "python",
   "pygments_lexer": "ipython3",
   "version": "3.8.3"
  }
 },
 "nbformat": 4,
 "nbformat_minor": 5
}
