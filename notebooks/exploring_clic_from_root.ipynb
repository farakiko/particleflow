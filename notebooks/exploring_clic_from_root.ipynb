{
 "cells": [
  {
   "cell_type": "code",
   "execution_count": 2,
   "metadata": {},
   "outputs": [],
   "source": [
    "import bz2\n",
    "import numpy as np\n",
    "import awkward\n",
    "import matplotlib.pyplot as plt\n",
    "import mplhep as hep\n",
    "plt.style.use(hep.style.CMS)\n",
    "plt.rcParams.update({\"font.size\": 20})\n",
    "\n",
    "import uproot\n",
    "import vector\n",
    "import glob\n",
    "# import networkx as nx\n",
    "import tqdm\n",
    "# import numba\n",
    "import os\n",
    "import sys\n",
    "import multiprocessing\n",
    "from scipy.sparse import coo_matrix"
   ]
  },
  {
   "cell_type": "code",
   "execution_count": 3,
   "metadata": {},
   "outputs": [],
   "source": [
    "track_coll = \"SiTracks_Refitted\"\n",
    "mc_coll = \"MCParticles\""
   ]
  },
  {
   "cell_type": "code",
   "execution_count": 4,
   "metadata": {},
   "outputs": [],
   "source": [
    "#the feature matrices will be saved in this order\n",
    "particle_feature_order = [\"PDG\", \"charge\", \"pt\", \"eta\", \"sin_phi\", \"cos_phi\", \"energy\"]\n",
    "\n",
    "#arrange track and cluster features such that pt (et), eta, phi, p (energy) are in the same spot\n",
    "#so we can easily use them in skip connections\n",
    "track_feature_order = [\n",
    "    \"type\", \"pt\", \"eta\", \"sin_phi\", \"cos_phi\", \"p\",\n",
    "    \"chi2\", \"ndf\", \"dEdx\", \"dEdxError\",\n",
    "    \"radiusOfInnermostHit\", \"tanLambda\", \"D0\", \"omega\",\n",
    "    \"Z0\", \"time\"\n",
    "]\n",
    "cluster_feature_order = [\n",
    "    \"type\", \"et\", \"eta\", \"sin_phi\", \"cos_phi\", \"energy\",\n",
    "    \"position.x\", \"position.y\", \"position.z\", \"iTheta\",\n",
    "    \"energy_ecal\", \"energy_hcal\", \"energy_other\", \"num_hits\",\n",
    "    \"sigma_x\", \"sigma_y\", \"sigma_z\"\n",
    "]"
   ]
  },
  {
   "cell_type": "markdown",
   "metadata": {},
   "source": [
    "# Explore a CLIC root file\n",
    "- adapted from: https://github.com/jpata/particleflow/blob/main/fcc/postprocessing.py"
   ]
  },
  {
   "cell_type": "code",
   "execution_count": 5,
   "metadata": {},
   "outputs": [],
   "source": [
    "fn = \"./reco_p8_ee_qq_ecm380_100001.root\"\n",
    "fi = uproot.open(fn)\n",
    "arrs = fi[\"events\"]"
   ]
  },
  {
   "cell_type": "code",
   "execution_count": 6,
   "metadata": {},
   "outputs": [
    {
     "data": {
      "text/plain": [
       "86"
      ]
     },
     "execution_count": 6,
     "metadata": {},
     "output_type": "execute_result"
    }
   ],
   "source": [
    "nevents = len(arrs)\n",
    "nevents"
   ]
  },
  {
   "cell_type": "code",
   "execution_count": 7,
   "metadata": {},
   "outputs": [
    {
     "data": {
      "text/plain": [
       "['MCParticles',\n",
       " 'MCParticles/MCParticles.PDG',\n",
       " 'MCParticles/MCParticles.generatorStatus',\n",
       " 'MCParticles/MCParticles.simulatorStatus',\n",
       " 'MCParticles/MCParticles.charge',\n",
       " 'MCParticles/MCParticles.time',\n",
       " 'MCParticles/MCParticles.mass',\n",
       " 'MCParticles/MCParticles.vertex.x',\n",
       " 'MCParticles/MCParticles.vertex.y',\n",
       " 'MCParticles/MCParticles.vertex.z',\n",
       " 'MCParticles/MCParticles.endpoint.x',\n",
       " 'MCParticles/MCParticles.endpoint.y',\n",
       " 'MCParticles/MCParticles.endpoint.z',\n",
       " 'MCParticles/MCParticles.momentum.x',\n",
       " 'MCParticles/MCParticles.momentum.y',\n",
       " 'MCParticles/MCParticles.momentum.z',\n",
       " 'MCParticles/MCParticles.momentumAtEndpoint.x',\n",
       " 'MCParticles/MCParticles.momentumAtEndpoint.y',\n",
       " 'MCParticles/MCParticles.momentumAtEndpoint.z',\n",
       " 'MCParticles/MCParticles.spin.x',\n",
       " 'MCParticles/MCParticles.spin.y',\n",
       " 'MCParticles/MCParticles.spin.z',\n",
       " 'MCParticles/MCParticles.colorFlow.a',\n",
       " 'MCParticles/MCParticles.colorFlow.b',\n",
       " 'MCParticles/MCParticles.parents_begin',\n",
       " 'MCParticles/MCParticles.parents_end',\n",
       " 'MCParticles/MCParticles.daughters_begin',\n",
       " 'MCParticles/MCParticles.daughters_end',\n",
       " 'MCParticles#0',\n",
       " 'MCParticles#0/MCParticles#0.index',\n",
       " 'MCParticles#0/MCParticles#0.collectionID',\n",
       " 'MCParticles#1',\n",
       " 'MCParticles#1/MCParticles#1.index',\n",
       " 'MCParticles#1/MCParticles#1.collectionID',\n",
       " 'VXDTrackerHits',\n",
       " 'VXDTrackerHits/VXDTrackerHits.cellID',\n",
       " 'VXDTrackerHits/VXDTrackerHits.type',\n",
       " 'VXDTrackerHits/VXDTrackerHits.quality',\n",
       " 'VXDTrackerHits/VXDTrackerHits.time',\n",
       " 'VXDTrackerHits/VXDTrackerHits.eDep',\n",
       " 'VXDTrackerHits/VXDTrackerHits.eDepError',\n",
       " 'VXDTrackerHits/VXDTrackerHits.u.a',\n",
       " 'VXDTrackerHits/VXDTrackerHits.u.b',\n",
       " 'VXDTrackerHits/VXDTrackerHits.v.a',\n",
       " 'VXDTrackerHits/VXDTrackerHits.v.b',\n",
       " 'VXDTrackerHits/VXDTrackerHits.du',\n",
       " 'VXDTrackerHits/VXDTrackerHits.dv',\n",
       " 'VXDTrackerHits/VXDTrackerHits.position.x',\n",
       " 'VXDTrackerHits/VXDTrackerHits.position.y',\n",
       " 'VXDTrackerHits/VXDTrackerHits.position.z',\n",
       " 'VXDTrackerHits/VXDTrackerHits.covMatrix[6]',\n",
       " 'VXDTrackerHits/VXDTrackerHits.rawHits_begin',\n",
       " 'VXDTrackerHits/VXDTrackerHits.rawHits_end',\n",
       " 'VXDTrackerHits_0',\n",
       " 'VXDTrackerHits_0/VXDTrackerHits_0.index',\n",
       " 'VXDTrackerHits_0/VXDTrackerHits_0.collectionID',\n",
       " 'VXDEndcapTrackerHits',\n",
       " 'VXDEndcapTrackerHits/VXDEndcapTrackerHits.cellID',\n",
       " 'VXDEndcapTrackerHits/VXDEndcapTrackerHits.type',\n",
       " 'VXDEndcapTrackerHits/VXDEndcapTrackerHits.quality',\n",
       " 'VXDEndcapTrackerHits/VXDEndcapTrackerHits.time',\n",
       " 'VXDEndcapTrackerHits/VXDEndcapTrackerHits.eDep',\n",
       " 'VXDEndcapTrackerHits/VXDEndcapTrackerHits.eDepError',\n",
       " 'VXDEndcapTrackerHits/VXDEndcapTrackerHits.u.a',\n",
       " 'VXDEndcapTrackerHits/VXDEndcapTrackerHits.u.b',\n",
       " 'VXDEndcapTrackerHits/VXDEndcapTrackerHits.v.a',\n",
       " 'VXDEndcapTrackerHits/VXDEndcapTrackerHits.v.b',\n",
       " 'VXDEndcapTrackerHits/VXDEndcapTrackerHits.du',\n",
       " 'VXDEndcapTrackerHits/VXDEndcapTrackerHits.dv',\n",
       " 'VXDEndcapTrackerHits/VXDEndcapTrackerHits.position.x',\n",
       " 'VXDEndcapTrackerHits/VXDEndcapTrackerHits.position.y',\n",
       " 'VXDEndcapTrackerHits/VXDEndcapTrackerHits.position.z',\n",
       " 'VXDEndcapTrackerHits/VXDEndcapTrackerHits.covMatrix[6]',\n",
       " 'VXDEndcapTrackerHits/VXDEndcapTrackerHits.rawHits_begin',\n",
       " 'VXDEndcapTrackerHits/VXDEndcapTrackerHits.rawHits_end',\n",
       " 'VXDEndcapTrackerHits_0',\n",
       " 'VXDEndcapTrackerHits_0/VXDEndcapTrackerHits_0.index',\n",
       " 'VXDEndcapTrackerHits_0/VXDEndcapTrackerHits_0.collectionID',\n",
       " 'ITrackerHits',\n",
       " 'ITrackerHits/ITrackerHits.cellID',\n",
       " 'ITrackerHits/ITrackerHits.type',\n",
       " 'ITrackerHits/ITrackerHits.quality',\n",
       " 'ITrackerHits/ITrackerHits.time',\n",
       " 'ITrackerHits/ITrackerHits.eDep',\n",
       " 'ITrackerHits/ITrackerHits.eDepError',\n",
       " 'ITrackerHits/ITrackerHits.u.a',\n",
       " 'ITrackerHits/ITrackerHits.u.b',\n",
       " 'ITrackerHits/ITrackerHits.v.a',\n",
       " 'ITrackerHits/ITrackerHits.v.b',\n",
       " 'ITrackerHits/ITrackerHits.du',\n",
       " 'ITrackerHits/ITrackerHits.dv',\n",
       " 'ITrackerHits/ITrackerHits.position.x',\n",
       " 'ITrackerHits/ITrackerHits.position.y',\n",
       " 'ITrackerHits/ITrackerHits.position.z',\n",
       " 'ITrackerHits/ITrackerHits.covMatrix[6]',\n",
       " 'ITrackerHits/ITrackerHits.rawHits_begin',\n",
       " 'ITrackerHits/ITrackerHits.rawHits_end',\n",
       " 'ITrackerHits_0',\n",
       " 'ITrackerHits_0/ITrackerHits_0.index',\n",
       " 'ITrackerHits_0/ITrackerHits_0.collectionID',\n",
       " 'OTrackerHits',\n",
       " 'OTrackerHits/OTrackerHits.cellID',\n",
       " 'OTrackerHits/OTrackerHits.type',\n",
       " 'OTrackerHits/OTrackerHits.quality',\n",
       " 'OTrackerHits/OTrackerHits.time',\n",
       " 'OTrackerHits/OTrackerHits.eDep',\n",
       " 'OTrackerHits/OTrackerHits.eDepError',\n",
       " 'OTrackerHits/OTrackerHits.u.a',\n",
       " 'OTrackerHits/OTrackerHits.u.b',\n",
       " 'OTrackerHits/OTrackerHits.v.a',\n",
       " 'OTrackerHits/OTrackerHits.v.b',\n",
       " 'OTrackerHits/OTrackerHits.du',\n",
       " 'OTrackerHits/OTrackerHits.dv',\n",
       " 'OTrackerHits/OTrackerHits.position.x',\n",
       " 'OTrackerHits/OTrackerHits.position.y',\n",
       " 'OTrackerHits/OTrackerHits.position.z',\n",
       " 'OTrackerHits/OTrackerHits.covMatrix[6]',\n",
       " 'OTrackerHits/OTrackerHits.rawHits_begin',\n",
       " 'OTrackerHits/OTrackerHits.rawHits_end',\n",
       " 'OTrackerHits_0',\n",
       " 'OTrackerHits_0/OTrackerHits_0.index',\n",
       " 'OTrackerHits_0/OTrackerHits_0.collectionID',\n",
       " 'SiTracksCT',\n",
       " 'SiTracksCT/SiTracksCT.type',\n",
       " 'SiTracksCT/SiTracksCT.chi2',\n",
       " 'SiTracksCT/SiTracksCT.ndf',\n",
       " 'SiTracksCT/SiTracksCT.dEdx',\n",
       " 'SiTracksCT/SiTracksCT.dEdxError',\n",
       " 'SiTracksCT/SiTracksCT.radiusOfInnermostHit',\n",
       " 'SiTracksCT/SiTracksCT.subDetectorHitNumbers_begin',\n",
       " 'SiTracksCT/SiTracksCT.subDetectorHitNumbers_end',\n",
       " 'SiTracksCT/SiTracksCT.trackStates_begin',\n",
       " 'SiTracksCT/SiTracksCT.trackStates_end',\n",
       " 'SiTracksCT/SiTracksCT.dxQuantities_begin',\n",
       " 'SiTracksCT/SiTracksCT.dxQuantities_end',\n",
       " 'SiTracksCT/SiTracksCT.trackerHits_begin',\n",
       " 'SiTracksCT/SiTracksCT.trackerHits_end',\n",
       " 'SiTracksCT/SiTracksCT.tracks_begin',\n",
       " 'SiTracksCT/SiTracksCT.tracks_end',\n",
       " 'SiTracksCT#0',\n",
       " 'SiTracksCT#0/SiTracksCT#0.index',\n",
       " 'SiTracksCT#0/SiTracksCT#0.collectionID',\n",
       " 'SiTracksCT#1',\n",
       " 'SiTracksCT#1/SiTracksCT#1.index',\n",
       " 'SiTracksCT#1/SiTracksCT#1.collectionID',\n",
       " 'SiTracksCT_0',\n",
       " 'SiTracksCT_1',\n",
       " 'SiTracksCT_1/SiTracksCT_1.location',\n",
       " 'SiTracksCT_1/SiTracksCT_1.D0',\n",
       " 'SiTracksCT_1/SiTracksCT_1.phi',\n",
       " 'SiTracksCT_1/SiTracksCT_1.omega',\n",
       " 'SiTracksCT_1/SiTracksCT_1.Z0',\n",
       " 'SiTracksCT_1/SiTracksCT_1.tanLambda',\n",
       " 'SiTracksCT_1/SiTracksCT_1.time',\n",
       " 'SiTracksCT_1/SiTracksCT_1.referencePoint.x',\n",
       " 'SiTracksCT_1/SiTracksCT_1.referencePoint.y',\n",
       " 'SiTracksCT_1/SiTracksCT_1.referencePoint.z',\n",
       " 'SiTracksCT_1/SiTracksCT_1.covMatrix[21]',\n",
       " 'SiTracksCT_2',\n",
       " 'SiTracksCT_2/SiTracksCT_2.type',\n",
       " 'SiTracksCT_2/SiTracksCT_2.value',\n",
       " 'SiTracksCT_2/SiTracksCT_2.error',\n",
       " 'SiTracks',\n",
       " 'SiTracks/SiTracks.type',\n",
       " 'SiTracks/SiTracks.chi2',\n",
       " 'SiTracks/SiTracks.ndf',\n",
       " 'SiTracks/SiTracks.dEdx',\n",
       " 'SiTracks/SiTracks.dEdxError',\n",
       " 'SiTracks/SiTracks.radiusOfInnermostHit',\n",
       " 'SiTracks/SiTracks.subDetectorHitNumbers_begin',\n",
       " 'SiTracks/SiTracks.subDetectorHitNumbers_end',\n",
       " 'SiTracks/SiTracks.trackStates_begin',\n",
       " 'SiTracks/SiTracks.trackStates_end',\n",
       " 'SiTracks/SiTracks.dxQuantities_begin',\n",
       " 'SiTracks/SiTracks.dxQuantities_end',\n",
       " 'SiTracks/SiTracks.trackerHits_begin',\n",
       " 'SiTracks/SiTracks.trackerHits_end',\n",
       " 'SiTracks/SiTracks.tracks_begin',\n",
       " 'SiTracks/SiTracks.tracks_end',\n",
       " 'SiTracks#0',\n",
       " 'SiTracks#0/SiTracks#0.index',\n",
       " 'SiTracks#0/SiTracks#0.collectionID',\n",
       " 'SiTracks#1',\n",
       " 'SiTracks#1/SiTracks#1.index',\n",
       " 'SiTracks#1/SiTracks#1.collectionID',\n",
       " 'SiTracks_0',\n",
       " 'SiTracks_1',\n",
       " 'SiTracks_1/SiTracks_1.location',\n",
       " 'SiTracks_1/SiTracks_1.D0',\n",
       " 'SiTracks_1/SiTracks_1.phi',\n",
       " 'SiTracks_1/SiTracks_1.omega',\n",
       " 'SiTracks_1/SiTracks_1.Z0',\n",
       " 'SiTracks_1/SiTracks_1.tanLambda',\n",
       " 'SiTracks_1/SiTracks_1.time',\n",
       " 'SiTracks_1/SiTracks_1.referencePoint.x',\n",
       " 'SiTracks_1/SiTracks_1.referencePoint.y',\n",
       " 'SiTracks_1/SiTracks_1.referencePoint.z',\n",
       " 'SiTracks_1/SiTracks_1.covMatrix[21]',\n",
       " 'SiTracks_2',\n",
       " 'SiTracks_2/SiTracks_2.type',\n",
       " 'SiTracks_2/SiTracks_2.value',\n",
       " 'SiTracks_2/SiTracks_2.error',\n",
       " 'SiTracks_Refitted',\n",
       " 'SiTracks_Refitted/SiTracks_Refitted.type',\n",
       " 'SiTracks_Refitted/SiTracks_Refitted.chi2',\n",
       " 'SiTracks_Refitted/SiTracks_Refitted.ndf',\n",
       " 'SiTracks_Refitted/SiTracks_Refitted.dEdx',\n",
       " 'SiTracks_Refitted/SiTracks_Refitted.dEdxError',\n",
       " 'SiTracks_Refitted/SiTracks_Refitted.radiusOfInnermostHit',\n",
       " 'SiTracks_Refitted/SiTracks_Refitted.subDetectorHitNumbers_begin',\n",
       " 'SiTracks_Refitted/SiTracks_Refitted.subDetectorHitNumbers_end',\n",
       " 'SiTracks_Refitted/SiTracks_Refitted.trackStates_begin',\n",
       " 'SiTracks_Refitted/SiTracks_Refitted.trackStates_end',\n",
       " 'SiTracks_Refitted/SiTracks_Refitted.dxQuantities_begin',\n",
       " 'SiTracks_Refitted/SiTracks_Refitted.dxQuantities_end',\n",
       " 'SiTracks_Refitted/SiTracks_Refitted.trackerHits_begin',\n",
       " 'SiTracks_Refitted/SiTracks_Refitted.trackerHits_end',\n",
       " 'SiTracks_Refitted/SiTracks_Refitted.tracks_begin',\n",
       " 'SiTracks_Refitted/SiTracks_Refitted.tracks_end',\n",
       " 'SiTracks_Refitted#0',\n",
       " 'SiTracks_Refitted#0/SiTracks_Refitted#0.index',\n",
       " 'SiTracks_Refitted#0/SiTracks_Refitted#0.collectionID',\n",
       " 'SiTracks_Refitted#1',\n",
       " 'SiTracks_Refitted#1/SiTracks_Refitted#1.index',\n",
       " 'SiTracks_Refitted#1/SiTracks_Refitted#1.collectionID',\n",
       " 'SiTracks_Refitted_0',\n",
       " 'SiTracks_Refitted_1',\n",
       " 'SiTracks_Refitted_1/SiTracks_Refitted_1.location',\n",
       " 'SiTracks_Refitted_1/SiTracks_Refitted_1.D0',\n",
       " 'SiTracks_Refitted_1/SiTracks_Refitted_1.phi',\n",
       " 'SiTracks_Refitted_1/SiTracks_Refitted_1.omega',\n",
       " 'SiTracks_Refitted_1/SiTracks_Refitted_1.Z0',\n",
       " 'SiTracks_Refitted_1/SiTracks_Refitted_1.tanLambda',\n",
       " 'SiTracks_Refitted_1/SiTracks_Refitted_1.time',\n",
       " 'SiTracks_Refitted_1/SiTracks_Refitted_1.referencePoint.x',\n",
       " 'SiTracks_Refitted_1/SiTracks_Refitted_1.referencePoint.y',\n",
       " 'SiTracks_Refitted_1/SiTracks_Refitted_1.referencePoint.z',\n",
       " 'SiTracks_Refitted_1/SiTracks_Refitted_1.covMatrix[21]',\n",
       " 'SiTracks_Refitted_2',\n",
       " 'SiTracks_Refitted_2/SiTracks_Refitted_2.type',\n",
       " 'SiTracks_Refitted_2/SiTracks_Refitted_2.value',\n",
       " 'SiTracks_Refitted_2/SiTracks_Refitted_2.error',\n",
       " 'ECALBarrel',\n",
       " 'ECALBarrel/ECALBarrel.cellID',\n",
       " 'ECALBarrel/ECALBarrel.energy',\n",
       " 'ECALBarrel/ECALBarrel.energyError',\n",
       " 'ECALBarrel/ECALBarrel.time',\n",
       " 'ECALBarrel/ECALBarrel.position.x',\n",
       " 'ECALBarrel/ECALBarrel.position.y',\n",
       " 'ECALBarrel/ECALBarrel.position.z',\n",
       " 'ECALBarrel/ECALBarrel.type',\n",
       " 'ECALEndcap',\n",
       " 'ECALEndcap/ECALEndcap.cellID',\n",
       " 'ECALEndcap/ECALEndcap.energy',\n",
       " 'ECALEndcap/ECALEndcap.energyError',\n",
       " 'ECALEndcap/ECALEndcap.time',\n",
       " 'ECALEndcap/ECALEndcap.position.x',\n",
       " 'ECALEndcap/ECALEndcap.position.y',\n",
       " 'ECALEndcap/ECALEndcap.position.z',\n",
       " 'ECALEndcap/ECALEndcap.type',\n",
       " 'ECALOther',\n",
       " 'ECALOther/ECALOther.cellID',\n",
       " 'ECALOther/ECALOther.energy',\n",
       " 'ECALOther/ECALOther.energyError',\n",
       " 'ECALOther/ECALOther.time',\n",
       " 'ECALOther/ECALOther.position.x',\n",
       " 'ECALOther/ECALOther.position.y',\n",
       " 'ECALOther/ECALOther.position.z',\n",
       " 'ECALOther/ECALOther.type',\n",
       " 'HCALBarrel',\n",
       " 'HCALBarrel/HCALBarrel.cellID',\n",
       " 'HCALBarrel/HCALBarrel.energy',\n",
       " 'HCALBarrel/HCALBarrel.energyError',\n",
       " 'HCALBarrel/HCALBarrel.time',\n",
       " 'HCALBarrel/HCALBarrel.position.x',\n",
       " 'HCALBarrel/HCALBarrel.position.y',\n",
       " 'HCALBarrel/HCALBarrel.position.z',\n",
       " 'HCALBarrel/HCALBarrel.type',\n",
       " 'HCALEndcap',\n",
       " 'HCALEndcap/HCALEndcap.cellID',\n",
       " 'HCALEndcap/HCALEndcap.energy',\n",
       " 'HCALEndcap/HCALEndcap.energyError',\n",
       " 'HCALEndcap/HCALEndcap.time',\n",
       " 'HCALEndcap/HCALEndcap.position.x',\n",
       " 'HCALEndcap/HCALEndcap.position.y',\n",
       " 'HCALEndcap/HCALEndcap.position.z',\n",
       " 'HCALEndcap/HCALEndcap.type',\n",
       " 'HCALOther',\n",
       " 'HCALOther/HCALOther.cellID',\n",
       " 'HCALOther/HCALOther.energy',\n",
       " 'HCALOther/HCALOther.energyError',\n",
       " 'HCALOther/HCALOther.time',\n",
       " 'HCALOther/HCALOther.position.x',\n",
       " 'HCALOther/HCALOther.position.y',\n",
       " 'HCALOther/HCALOther.position.z',\n",
       " 'HCALOther/HCALOther.type',\n",
       " 'MUON',\n",
       " 'MUON/MUON.cellID',\n",
       " 'MUON/MUON.energy',\n",
       " 'MUON/MUON.energyError',\n",
       " 'MUON/MUON.time',\n",
       " 'MUON/MUON.position.x',\n",
       " 'MUON/MUON.position.y',\n",
       " 'MUON/MUON.position.z',\n",
       " 'MUON/MUON.type',\n",
       " 'PandoraClusters',\n",
       " 'PandoraClusters/PandoraClusters.type',\n",
       " 'PandoraClusters/PandoraClusters.energy',\n",
       " 'PandoraClusters/PandoraClusters.energyError',\n",
       " 'PandoraClusters/PandoraClusters.position.x',\n",
       " 'PandoraClusters/PandoraClusters.position.y',\n",
       " 'PandoraClusters/PandoraClusters.position.z',\n",
       " 'PandoraClusters/PandoraClusters.positionError[6]',\n",
       " 'PandoraClusters/PandoraClusters.iTheta',\n",
       " 'PandoraClusters/PandoraClusters.phi',\n",
       " 'PandoraClusters/PandoraClusters.directionError.x',\n",
       " 'PandoraClusters/PandoraClusters.directionError.y',\n",
       " 'PandoraClusters/PandoraClusters.directionError.z',\n",
       " 'PandoraClusters/PandoraClusters.shapeParameters_begin',\n",
       " 'PandoraClusters/PandoraClusters.shapeParameters_end',\n",
       " 'PandoraClusters/PandoraClusters.subdetectorEnergies_begin',\n",
       " 'PandoraClusters/PandoraClusters.subdetectorEnergies_end',\n",
       " 'PandoraClusters/PandoraClusters.clusters_begin',\n",
       " 'PandoraClusters/PandoraClusters.clusters_end',\n",
       " 'PandoraClusters/PandoraClusters.hits_begin',\n",
       " 'PandoraClusters/PandoraClusters.hits_end',\n",
       " 'PandoraClusters/PandoraClusters.particleIDs_begin',\n",
       " 'PandoraClusters/PandoraClusters.particleIDs_end',\n",
       " 'PandoraClusters#0',\n",
       " 'PandoraClusters#0/PandoraClusters#0.index',\n",
       " 'PandoraClusters#0/PandoraClusters#0.collectionID',\n",
       " 'PandoraClusters#1',\n",
       " 'PandoraClusters#1/PandoraClusters#1.index',\n",
       " 'PandoraClusters#1/PandoraClusters#1.collectionID',\n",
       " 'PandoraClusters#2',\n",
       " 'PandoraClusters#2/PandoraClusters#2.index',\n",
       " 'PandoraClusters#2/PandoraClusters#2.collectionID',\n",
       " 'PandoraClusters_0',\n",
       " 'PandoraClusters_1',\n",
       " 'PandoraPFOs',\n",
       " 'PandoraPFOs/PandoraPFOs.type',\n",
       " 'PandoraPFOs/PandoraPFOs.energy',\n",
       " 'PandoraPFOs/PandoraPFOs.momentum.x',\n",
       " 'PandoraPFOs/PandoraPFOs.momentum.y',\n",
       " 'PandoraPFOs/PandoraPFOs.momentum.z',\n",
       " 'PandoraPFOs/PandoraPFOs.referencePoint.x',\n",
       " 'PandoraPFOs/PandoraPFOs.referencePoint.y',\n",
       " 'PandoraPFOs/PandoraPFOs.referencePoint.z',\n",
       " 'PandoraPFOs/PandoraPFOs.charge',\n",
       " 'PandoraPFOs/PandoraPFOs.mass',\n",
       " 'PandoraPFOs/PandoraPFOs.goodnessOfPID',\n",
       " 'PandoraPFOs/PandoraPFOs.covMatrix[10]',\n",
       " 'PandoraPFOs/PandoraPFOs.clusters_begin',\n",
       " 'PandoraPFOs/PandoraPFOs.clusters_end',\n",
       " 'PandoraPFOs/PandoraPFOs.tracks_begin',\n",
       " 'PandoraPFOs/PandoraPFOs.tracks_end',\n",
       " 'PandoraPFOs/PandoraPFOs.particles_begin',\n",
       " 'PandoraPFOs/PandoraPFOs.particles_end',\n",
       " 'PandoraPFOs/PandoraPFOs.particleIDs_begin',\n",
       " 'PandoraPFOs/PandoraPFOs.particleIDs_end',\n",
       " 'PandoraPFOs#0',\n",
       " 'PandoraPFOs#0/PandoraPFOs#0.index',\n",
       " 'PandoraPFOs#0/PandoraPFOs#0.collectionID',\n",
       " 'PandoraPFOs#1',\n",
       " 'PandoraPFOs#1/PandoraPFOs#1.index',\n",
       " 'PandoraPFOs#1/PandoraPFOs#1.collectionID',\n",
       " 'PandoraPFOs#2',\n",
       " 'PandoraPFOs#2/PandoraPFOs#2.index',\n",
       " 'PandoraPFOs#2/PandoraPFOs#2.collectionID',\n",
       " 'PandoraPFOs#3',\n",
       " 'PandoraPFOs#3/PandoraPFOs#3.index',\n",
       " 'PandoraPFOs#3/PandoraPFOs#3.collectionID',\n",
       " 'PandoraPFOs#4',\n",
       " 'PandoraPFOs#4/PandoraPFOs#4.index',\n",
       " 'PandoraPFOs#4/PandoraPFOs#4.collectionID',\n",
       " 'PandoraPFOs#5',\n",
       " 'PandoraPFOs#5/PandoraPFOs#5.index',\n",
       " 'PandoraPFOs#5/PandoraPFOs#5.collectionID',\n",
       " 'PandoraStartVertices',\n",
       " 'PandoraStartVertices/PandoraStartVertices.primary',\n",
       " 'PandoraStartVertices/PandoraStartVertices.chi2',\n",
       " 'PandoraStartVertices/PandoraStartVertices.probability',\n",
       " 'PandoraStartVertices/PandoraStartVertices.position.x',\n",
       " 'PandoraStartVertices/PandoraStartVertices.position.y',\n",
       " 'PandoraStartVertices/PandoraStartVertices.position.z',\n",
       " 'PandoraStartVertices/PandoraStartVertices.covMatrix[6]',\n",
       " 'PandoraStartVertices/PandoraStartVertices.algorithmType',\n",
       " 'PandoraStartVertices/PandoraStartVertices.parameters_begin',\n",
       " 'PandoraStartVertices/PandoraStartVertices.parameters_end',\n",
       " 'PandoraStartVertices#0',\n",
       " 'PandoraStartVertices#0/PandoraStartVertices#0.index',\n",
       " 'PandoraStartVertices#0/PandoraStartVertices#0.collectionID',\n",
       " 'PandoraStartVertices_0',\n",
       " 'MergedRecoParticles',\n",
       " 'MergedRecoParticles/MergedRecoParticles.type',\n",
       " 'MergedRecoParticles/MergedRecoParticles.energy',\n",
       " 'MergedRecoParticles/MergedRecoParticles.momentum.x',\n",
       " 'MergedRecoParticles/MergedRecoParticles.momentum.y',\n",
       " 'MergedRecoParticles/MergedRecoParticles.momentum.z',\n",
       " 'MergedRecoParticles/MergedRecoParticles.referencePoint.x',\n",
       " 'MergedRecoParticles/MergedRecoParticles.referencePoint.y',\n",
       " 'MergedRecoParticles/MergedRecoParticles.referencePoint.z',\n",
       " 'MergedRecoParticles/MergedRecoParticles.charge',\n",
       " 'MergedRecoParticles/MergedRecoParticles.mass',\n",
       " 'MergedRecoParticles/MergedRecoParticles.goodnessOfPID',\n",
       " 'MergedRecoParticles/MergedRecoParticles.covMatrix[10]',\n",
       " 'MergedRecoParticles/MergedRecoParticles.clusters_begin',\n",
       " 'MergedRecoParticles/MergedRecoParticles.clusters_end',\n",
       " 'MergedRecoParticles/MergedRecoParticles.tracks_begin',\n",
       " 'MergedRecoParticles/MergedRecoParticles.tracks_end',\n",
       " 'MergedRecoParticles/MergedRecoParticles.particles_begin',\n",
       " 'MergedRecoParticles/MergedRecoParticles.particles_end',\n",
       " 'MergedRecoParticles/MergedRecoParticles.particleIDs_begin',\n",
       " 'MergedRecoParticles/MergedRecoParticles.particleIDs_end',\n",
       " 'MergedRecoParticles#0',\n",
       " 'MergedRecoParticles#0/MergedRecoParticles#0.index',\n",
       " 'MergedRecoParticles#0/MergedRecoParticles#0.collectionID',\n",
       " 'MergedRecoParticles#1',\n",
       " 'MergedRecoParticles#1/MergedRecoParticles#1.index',\n",
       " 'MergedRecoParticles#1/MergedRecoParticles#1.collectionID',\n",
       " 'MergedRecoParticles#2',\n",
       " 'MergedRecoParticles#2/MergedRecoParticles#2.index',\n",
       " 'MergedRecoParticles#2/MergedRecoParticles#2.collectionID',\n",
       " 'MergedRecoParticles#3',\n",
       " 'MergedRecoParticles#3/MergedRecoParticles#3.index',\n",
       " 'MergedRecoParticles#3/MergedRecoParticles#3.collectionID',\n",
       " 'MergedRecoParticles#4',\n",
       " 'MergedRecoParticles#4/MergedRecoParticles#4.index',\n",
       " 'MergedRecoParticles#4/MergedRecoParticles#4.collectionID',\n",
       " 'MergedRecoParticles#5',\n",
       " 'MergedRecoParticles#5/MergedRecoParticles#5.index',\n",
       " 'MergedRecoParticles#5/MergedRecoParticles#5.collectionID',\n",
       " 'MergedClusters',\n",
       " 'MergedClusters/MergedClusters.type',\n",
       " 'MergedClusters/MergedClusters.energy',\n",
       " 'MergedClusters/MergedClusters.energyError',\n",
       " 'MergedClusters/MergedClusters.position.x',\n",
       " 'MergedClusters/MergedClusters.position.y',\n",
       " 'MergedClusters/MergedClusters.position.z',\n",
       " 'MergedClusters/MergedClusters.positionError[6]',\n",
       " 'MergedClusters/MergedClusters.iTheta',\n",
       " 'MergedClusters/MergedClusters.phi',\n",
       " 'MergedClusters/MergedClusters.directionError.x',\n",
       " 'MergedClusters/MergedClusters.directionError.y',\n",
       " 'MergedClusters/MergedClusters.directionError.z',\n",
       " 'MergedClusters/MergedClusters.shapeParameters_begin',\n",
       " 'MergedClusters/MergedClusters.shapeParameters_end',\n",
       " 'MergedClusters/MergedClusters.subdetectorEnergies_begin',\n",
       " 'MergedClusters/MergedClusters.subdetectorEnergies_end',\n",
       " 'MergedClusters/MergedClusters.clusters_begin',\n",
       " 'MergedClusters/MergedClusters.clusters_end',\n",
       " 'MergedClusters/MergedClusters.hits_begin',\n",
       " 'MergedClusters/MergedClusters.hits_end',\n",
       " 'MergedClusters/MergedClusters.particleIDs_begin',\n",
       " 'MergedClusters/MergedClusters.particleIDs_end',\n",
       " 'MergedClusters#0',\n",
       " 'MergedClusters#0/MergedClusters#0.index',\n",
       " 'MergedClusters#0/MergedClusters#0.collectionID',\n",
       " 'MergedClusters#1',\n",
       " 'MergedClusters#1/MergedClusters#1.index',\n",
       " 'MergedClusters#1/MergedClusters#1.collectionID',\n",
       " 'MergedClusters#2',\n",
       " 'MergedClusters#2/MergedClusters#2.index',\n",
       " 'MergedClusters#2/MergedClusters#2.collectionID',\n",
       " 'MergedClusters_0',\n",
       " 'MergedClusters_1',\n",
       " 'CalohitMCTruthLink',\n",
       " 'CalohitMCTruthLink/CalohitMCTruthLink.weight',\n",
       " 'CalohitMCTruthLink#0',\n",
       " 'CalohitMCTruthLink#0/CalohitMCTruthLink#0.index',\n",
       " 'CalohitMCTruthLink#0/CalohitMCTruthLink#0.collectionID',\n",
       " 'CalohitMCTruthLink#1',\n",
       " 'CalohitMCTruthLink#1/CalohitMCTruthLink#1.index',\n",
       " 'CalohitMCTruthLink#1/CalohitMCTruthLink#1.collectionID',\n",
       " 'MCParticlesSkimmed',\n",
       " 'MCParticlesSkimmed/MCParticlesSkimmed.PDG',\n",
       " 'MCParticlesSkimmed/MCParticlesSkimmed.generatorStatus',\n",
       " 'MCParticlesSkimmed/MCParticlesSkimmed.simulatorStatus',\n",
       " 'MCParticlesSkimmed/MCParticlesSkimmed.charge',\n",
       " 'MCParticlesSkimmed/MCParticlesSkimmed.time',\n",
       " 'MCParticlesSkimmed/MCParticlesSkimmed.mass',\n",
       " 'MCParticlesSkimmed/MCParticlesSkimmed.vertex.x',\n",
       " 'MCParticlesSkimmed/MCParticlesSkimmed.vertex.y',\n",
       " 'MCParticlesSkimmed/MCParticlesSkimmed.vertex.z',\n",
       " 'MCParticlesSkimmed/MCParticlesSkimmed.endpoint.x',\n",
       " 'MCParticlesSkimmed/MCParticlesSkimmed.endpoint.y',\n",
       " 'MCParticlesSkimmed/MCParticlesSkimmed.endpoint.z',\n",
       " 'MCParticlesSkimmed/MCParticlesSkimmed.momentum.x',\n",
       " 'MCParticlesSkimmed/MCParticlesSkimmed.momentum.y',\n",
       " 'MCParticlesSkimmed/MCParticlesSkimmed.momentum.z',\n",
       " 'MCParticlesSkimmed/MCParticlesSkimmed.momentumAtEndpoint.x',\n",
       " 'MCParticlesSkimmed/MCParticlesSkimmed.momentumAtEndpoint.y',\n",
       " 'MCParticlesSkimmed/MCParticlesSkimmed.momentumAtEndpoint.z',\n",
       " 'MCParticlesSkimmed/MCParticlesSkimmed.spin.x',\n",
       " 'MCParticlesSkimmed/MCParticlesSkimmed.spin.y',\n",
       " 'MCParticlesSkimmed/MCParticlesSkimmed.spin.z',\n",
       " 'MCParticlesSkimmed/MCParticlesSkimmed.colorFlow.a',\n",
       " 'MCParticlesSkimmed/MCParticlesSkimmed.colorFlow.b',\n",
       " 'MCParticlesSkimmed/MCParticlesSkimmed.parents_begin',\n",
       " 'MCParticlesSkimmed/MCParticlesSkimmed.parents_end',\n",
       " 'MCParticlesSkimmed/MCParticlesSkimmed.daughters_begin',\n",
       " 'MCParticlesSkimmed/MCParticlesSkimmed.daughters_end',\n",
       " 'MCParticlesSkimmed#0',\n",
       " 'MCParticlesSkimmed#0/MCParticlesSkimmed#0.index',\n",
       " 'MCParticlesSkimmed#0/MCParticlesSkimmed#0.collectionID',\n",
       " 'MCParticlesSkimmed#1',\n",
       " 'MCParticlesSkimmed#1/MCParticlesSkimmed#1.index',\n",
       " 'MCParticlesSkimmed#1/MCParticlesSkimmed#1.collectionID',\n",
       " 'RecoMCTruthLink',\n",
       " 'RecoMCTruthLink/RecoMCTruthLink.weight',\n",
       " 'RecoMCTruthLink#0',\n",
       " 'RecoMCTruthLink#0/RecoMCTruthLink#0.index',\n",
       " 'RecoMCTruthLink#0/RecoMCTruthLink#0.collectionID',\n",
       " 'RecoMCTruthLink#1',\n",
       " 'RecoMCTruthLink#1/RecoMCTruthLink#1.index',\n",
       " 'RecoMCTruthLink#1/RecoMCTruthLink#1.collectionID',\n",
       " 'SiTracksMCTruthLink',\n",
       " 'SiTracksMCTruthLink/SiTracksMCTruthLink.weight',\n",
       " 'SiTracksMCTruthLink#0',\n",
       " 'SiTracksMCTruthLink#0/SiTracksMCTruthLink#0.index',\n",
       " 'SiTracksMCTruthLink#0/SiTracksMCTruthLink#0.collectionID',\n",
       " 'SiTracksMCTruthLink#1',\n",
       " 'SiTracksMCTruthLink#1/SiTracksMCTruthLink#1.index',\n",
       " 'SiTracksMCTruthLink#1/SiTracksMCTruthLink#1.collectionID',\n",
       " 'BuildUpVertices',\n",
       " 'BuildUpVertices/BuildUpVertices.primary',\n",
       " 'BuildUpVertices/BuildUpVertices.chi2',\n",
       " 'BuildUpVertices/BuildUpVertices.probability',\n",
       " 'BuildUpVertices/BuildUpVertices.position.x',\n",
       " 'BuildUpVertices/BuildUpVertices.position.y',\n",
       " 'BuildUpVertices/BuildUpVertices.position.z',\n",
       " 'BuildUpVertices/BuildUpVertices.covMatrix[6]',\n",
       " 'BuildUpVertices/BuildUpVertices.algorithmType',\n",
       " 'BuildUpVertices/BuildUpVertices.parameters_begin',\n",
       " 'BuildUpVertices/BuildUpVertices.parameters_end',\n",
       " 'BuildUpVertices#0',\n",
       " 'BuildUpVertices#0/BuildUpVertices#0.index',\n",
       " 'BuildUpVertices#0/BuildUpVertices#0.collectionID',\n",
       " 'BuildUpVertices_0',\n",
       " 'BuildUpVertices_V0',\n",
       " 'BuildUpVertices_V0/BuildUpVertices_V0.primary',\n",
       " 'BuildUpVertices_V0/BuildUpVertices_V0.chi2',\n",
       " 'BuildUpVertices_V0/BuildUpVertices_V0.probability',\n",
       " 'BuildUpVertices_V0/BuildUpVertices_V0.position.x',\n",
       " 'BuildUpVertices_V0/BuildUpVertices_V0.position.y',\n",
       " 'BuildUpVertices_V0/BuildUpVertices_V0.position.z',\n",
       " 'BuildUpVertices_V0/BuildUpVertices_V0.covMatrix[6]',\n",
       " 'BuildUpVertices_V0/BuildUpVertices_V0.algorithmType',\n",
       " 'BuildUpVertices_V0/BuildUpVertices_V0.parameters_begin',\n",
       " 'BuildUpVertices_V0/BuildUpVertices_V0.parameters_end',\n",
       " 'BuildUpVertices_V0#0',\n",
       " 'BuildUpVertices_V0#0/BuildUpVertices_V0#0.index',\n",
       " 'BuildUpVertices_V0#0/BuildUpVertices_V0#0.collectionID',\n",
       " 'BuildUpVertices_V0_0',\n",
       " 'PrimaryVertices',\n",
       " 'PrimaryVertices/PrimaryVertices.primary',\n",
       " 'PrimaryVertices/PrimaryVertices.chi2',\n",
       " 'PrimaryVertices/PrimaryVertices.probability',\n",
       " 'PrimaryVertices/PrimaryVertices.position.x',\n",
       " 'PrimaryVertices/PrimaryVertices.position.y',\n",
       " 'PrimaryVertices/PrimaryVertices.position.z',\n",
       " 'PrimaryVertices/PrimaryVertices.covMatrix[6]',\n",
       " 'PrimaryVertices/PrimaryVertices.algorithmType',\n",
       " 'PrimaryVertices/PrimaryVertices.parameters_begin',\n",
       " 'PrimaryVertices/PrimaryVertices.parameters_end',\n",
       " 'PrimaryVertices#0',\n",
       " 'PrimaryVertices#0/PrimaryVertices#0.index',\n",
       " 'PrimaryVertices#0/PrimaryVertices#0.collectionID',\n",
       " 'PrimaryVertices_0']"
      ]
     },
     "execution_count": 7,
     "metadata": {},
     "output_type": "execute_result"
    }
   ],
   "source": [
    "arrs.keys()"
   ]
  },
  {
   "cell_type": "code",
   "execution_count": 7,
   "metadata": {},
   "outputs": [],
   "source": [
    "collectionIDs = {k: v for k, v in\n",
    "    zip(fi.get(\"metadata\").arrays(\"CollectionIDs\")[\"CollectionIDs\"][\"m_names\"][0],\n",
    "    fi.get(\"metadata\").arrays(\"CollectionIDs\")[\"CollectionIDs\"][\"m_collectionIDs\"][0])}\n",
    "collectionIDs_reverse = {v: k for k, v in collectionIDs.items()}"
   ]
  },
  {
   "cell_type": "code",
   "execution_count": 9,
   "metadata": {},
   "outputs": [
    {
     "ename": "ModuleNotFoundError",
     "evalue": "Uproot 4.x can only be used with Awkward 1.x; you have Awkward 2.0.8",
     "output_type": "error",
     "traceback": [
      "\u001b[0;31m---------------------------------------------------------------------------\u001b[0m",
      "\u001b[0;31mModuleNotFoundError\u001b[0m                       Traceback (most recent call last)",
      "\u001b[0;32m<ipython-input-9-43411a558b67>\u001b[0m in \u001b[0;36m<module>\u001b[0;34m\u001b[0m\n\u001b[0;32m----> 1\u001b[0;31m \u001b[0mprop_data\u001b[0m \u001b[0;34m=\u001b[0m \u001b[0marrs\u001b[0m\u001b[0;34m.\u001b[0m\u001b[0marrays\u001b[0m\u001b[0;34m(\u001b[0m\u001b[0;34m[\u001b[0m\u001b[0mmc_coll\u001b[0m\u001b[0;34m,\u001b[0m \u001b[0mtrack_coll\u001b[0m\u001b[0;34m,\u001b[0m \u001b[0;34m\"SiTracks_1\"\u001b[0m\u001b[0;34m,\u001b[0m \u001b[0;34m\"PandoraClusters\"\u001b[0m\u001b[0;34m,\u001b[0m \u001b[0;34m\"PandoraClusters#1\"\u001b[0m\u001b[0;34m,\u001b[0m \u001b[0;34m\"PandoraClusters#0\"\u001b[0m\u001b[0;34m,\u001b[0m \u001b[0;34m\"MergedRecoParticles\"\u001b[0m\u001b[0;34m]\u001b[0m\u001b[0;34m)\u001b[0m\u001b[0;34m\u001b[0m\u001b[0;34m\u001b[0m\u001b[0m\n\u001b[0m",
      "\u001b[0;32m/opt/anaconda3/envs/mlpf/lib/python3.8/site-packages/uproot/behaviors/TBranch.py\u001b[0m in \u001b[0;36marrays\u001b[0;34m(self, expressions, cut, filter_name, filter_typename, filter_branch, aliases, language, entry_start, entry_stop, decompression_executor, interpretation_executor, array_cache, library, how)\u001b[0m\n\u001b[1;32m   1123\u001b[0m                         \u001b[0mranges_or_baskets\u001b[0m\u001b[0;34m.\u001b[0m\u001b[0mappend\u001b[0m\u001b[0;34m(\u001b[0m\u001b[0;34m(\u001b[0m\u001b[0mbranch\u001b[0m\u001b[0;34m,\u001b[0m \u001b[0mbasket_num\u001b[0m\u001b[0;34m,\u001b[0m \u001b[0mrange_or_basket\u001b[0m\u001b[0;34m)\u001b[0m\u001b[0;34m)\u001b[0m\u001b[0;34m\u001b[0m\u001b[0;34m\u001b[0m\u001b[0m\n\u001b[1;32m   1124\u001b[0m \u001b[0;34m\u001b[0m\u001b[0m\n\u001b[0;32m-> 1125\u001b[0;31m         _ranges_or_baskets_to_arrays(\n\u001b[0m\u001b[1;32m   1126\u001b[0m             \u001b[0mself\u001b[0m\u001b[0;34m,\u001b[0m\u001b[0;34m\u001b[0m\u001b[0;34m\u001b[0m\u001b[0m\n\u001b[1;32m   1127\u001b[0m             \u001b[0mranges_or_baskets\u001b[0m\u001b[0;34m,\u001b[0m\u001b[0;34m\u001b[0m\u001b[0;34m\u001b[0m\u001b[0m\n",
      "\u001b[0;32m/opt/anaconda3/envs/mlpf/lib/python3.8/site-packages/uproot/behaviors/TBranch.py\u001b[0m in \u001b[0;36m_ranges_or_baskets_to_arrays\u001b[0;34m(hasbranches, ranges_or_baskets, branchid_interpretation, entry_start, entry_stop, decompression_executor, interpretation_executor, library, arrays, update_ranges_or_baskets)\u001b[0m\n\u001b[1;32m   3500\u001b[0m \u001b[0;34m\u001b[0m\u001b[0m\n\u001b[1;32m   3501\u001b[0m         \u001b[0;32melif\u001b[0m \u001b[0misinstance\u001b[0m\u001b[0;34m(\u001b[0m\u001b[0mobj\u001b[0m\u001b[0;34m,\u001b[0m \u001b[0mtuple\u001b[0m\u001b[0;34m)\u001b[0m \u001b[0;32mand\u001b[0m \u001b[0mlen\u001b[0m\u001b[0;34m(\u001b[0m\u001b[0mobj\u001b[0m\u001b[0;34m)\u001b[0m \u001b[0;34m==\u001b[0m \u001b[0;36m3\u001b[0m\u001b[0;34m:\u001b[0m\u001b[0;34m\u001b[0m\u001b[0;34m\u001b[0m\u001b[0m\n\u001b[0;32m-> 3502\u001b[0;31m             \u001b[0muproot\u001b[0m\u001b[0;34m.\u001b[0m\u001b[0msource\u001b[0m\u001b[0;34m.\u001b[0m\u001b[0mfutures\u001b[0m\u001b[0;34m.\u001b[0m\u001b[0mdelayed_raise\u001b[0m\u001b[0;34m(\u001b[0m\u001b[0;34m*\u001b[0m\u001b[0mobj\u001b[0m\u001b[0;34m)\u001b[0m\u001b[0;34m\u001b[0m\u001b[0;34m\u001b[0m\u001b[0m\n\u001b[0m\u001b[1;32m   3503\u001b[0m \u001b[0;34m\u001b[0m\u001b[0m\n\u001b[1;32m   3504\u001b[0m         \u001b[0;32melse\u001b[0m\u001b[0;34m:\u001b[0m\u001b[0;34m\u001b[0m\u001b[0;34m\u001b[0m\u001b[0m\n",
      "\u001b[0;32m/opt/anaconda3/envs/mlpf/lib/python3.8/site-packages/uproot/source/futures.py\u001b[0m in \u001b[0;36mdelayed_raise\u001b[0;34m(exception_class, exception_value, traceback)\u001b[0m\n\u001b[1;32m     34\u001b[0m     \u001b[0mRaise\u001b[0m \u001b[0man\u001b[0m \u001b[0mexception\u001b[0m \u001b[0;32mfrom\u001b[0m \u001b[0ma\u001b[0m \u001b[0mbackground\u001b[0m \u001b[0mthread\u001b[0m \u001b[0mon\u001b[0m \u001b[0mthe\u001b[0m \u001b[0mmain\u001b[0m \u001b[0mthread\u001b[0m\u001b[0;34m.\u001b[0m\u001b[0;34m\u001b[0m\u001b[0;34m\u001b[0m\u001b[0m\n\u001b[1;32m     35\u001b[0m     \"\"\"\n\u001b[0;32m---> 36\u001b[0;31m     \u001b[0;32mraise\u001b[0m \u001b[0mexception_value\u001b[0m\u001b[0;34m.\u001b[0m\u001b[0mwith_traceback\u001b[0m\u001b[0;34m(\u001b[0m\u001b[0mtraceback\u001b[0m\u001b[0;34m)\u001b[0m\u001b[0;34m\u001b[0m\u001b[0;34m\u001b[0m\u001b[0m\n\u001b[0m\u001b[1;32m     37\u001b[0m \u001b[0;34m\u001b[0m\u001b[0m\n\u001b[1;32m     38\u001b[0m \u001b[0;34m\u001b[0m\u001b[0m\n",
      "\u001b[0;32m/opt/anaconda3/envs/mlpf/lib/python3.8/site-packages/uproot/behaviors/TBranch.py\u001b[0m in \u001b[0;36mbasket_to_array\u001b[0;34m(basket)\u001b[0m\n\u001b[1;32m   3470\u001b[0m \u001b[0;34m\u001b[0m\u001b[0m\n\u001b[1;32m   3471\u001b[0m             \u001b[0;32mif\u001b[0m \u001b[0mlen\u001b[0m\u001b[0;34m(\u001b[0m\u001b[0mbasket_arrays\u001b[0m\u001b[0;34m)\u001b[0m \u001b[0;34m==\u001b[0m \u001b[0mbranchid_num_baskets\u001b[0m\u001b[0;34m[\u001b[0m\u001b[0mbranch\u001b[0m\u001b[0;34m.\u001b[0m\u001b[0mcache_key\u001b[0m\u001b[0;34m]\u001b[0m\u001b[0;34m:\u001b[0m\u001b[0;34m\u001b[0m\u001b[0;34m\u001b[0m\u001b[0m\n\u001b[0;32m-> 3472\u001b[0;31m                 arrays[branch.cache_key] = interpretation.final_array(\n\u001b[0m\u001b[1;32m   3473\u001b[0m                     \u001b[0mbasket_arrays\u001b[0m\u001b[0;34m,\u001b[0m\u001b[0;34m\u001b[0m\u001b[0;34m\u001b[0m\u001b[0m\n\u001b[1;32m   3474\u001b[0m                     \u001b[0mentry_start\u001b[0m\u001b[0;34m,\u001b[0m\u001b[0;34m\u001b[0m\u001b[0;34m\u001b[0m\u001b[0m\n",
      "\u001b[0;32m/opt/anaconda3/envs/mlpf/lib/python3.8/site-packages/uproot/interpretation/jagged.py\u001b[0m in \u001b[0;36mfinal_array\u001b[0;34m(self, basket_arrays, entry_start, entry_stop, entry_offsets, library, branch)\u001b[0m\n\u001b[1;32m    316\u001b[0m             )\n\u001b[1;32m    317\u001b[0m \u001b[0;34m\u001b[0m\u001b[0m\n\u001b[0;32m--> 318\u001b[0;31m         \u001b[0moutput\u001b[0m \u001b[0;34m=\u001b[0m \u001b[0mlibrary\u001b[0m\u001b[0;34m.\u001b[0m\u001b[0mfinalize\u001b[0m\u001b[0;34m(\u001b[0m\u001b[0moutput\u001b[0m\u001b[0;34m,\u001b[0m \u001b[0mbranch\u001b[0m\u001b[0;34m,\u001b[0m \u001b[0mself\u001b[0m\u001b[0;34m,\u001b[0m \u001b[0mentry_start\u001b[0m\u001b[0;34m,\u001b[0m \u001b[0mentry_stop\u001b[0m\u001b[0;34m)\u001b[0m\u001b[0;34m\u001b[0m\u001b[0;34m\u001b[0m\u001b[0m\n\u001b[0m\u001b[1;32m    319\u001b[0m \u001b[0;34m\u001b[0m\u001b[0m\n\u001b[1;32m    320\u001b[0m         self.hook_after_final_array(\n",
      "\u001b[0;32m/opt/anaconda3/envs/mlpf/lib/python3.8/site-packages/uproot/interpretation/library.py\u001b[0m in \u001b[0;36mfinalize\u001b[0;34m(self, array, branch, interpretation, entry_start, entry_stop)\u001b[0m\n\u001b[1;32m    492\u001b[0m \u001b[0;34m\u001b[0m\u001b[0m\n\u001b[1;32m    493\u001b[0m     \u001b[0;32mdef\u001b[0m \u001b[0mfinalize\u001b[0m\u001b[0;34m(\u001b[0m\u001b[0mself\u001b[0m\u001b[0;34m,\u001b[0m \u001b[0marray\u001b[0m\u001b[0;34m,\u001b[0m \u001b[0mbranch\u001b[0m\u001b[0;34m,\u001b[0m \u001b[0minterpretation\u001b[0m\u001b[0;34m,\u001b[0m \u001b[0mentry_start\u001b[0m\u001b[0;34m,\u001b[0m \u001b[0mentry_stop\u001b[0m\u001b[0;34m)\u001b[0m\u001b[0;34m:\u001b[0m\u001b[0;34m\u001b[0m\u001b[0;34m\u001b[0m\u001b[0m\n\u001b[0;32m--> 494\u001b[0;31m         \u001b[0mawkward\u001b[0m \u001b[0;34m=\u001b[0m \u001b[0mself\u001b[0m\u001b[0;34m.\u001b[0m\u001b[0mimported\u001b[0m\u001b[0;34m\u001b[0m\u001b[0;34m\u001b[0m\u001b[0m\n\u001b[0m\u001b[1;32m    495\u001b[0m \u001b[0;34m\u001b[0m\u001b[0m\n\u001b[1;32m    496\u001b[0m         \u001b[0;32mif\u001b[0m \u001b[0misinstance\u001b[0m\u001b[0;34m(\u001b[0m\u001b[0marray\u001b[0m\u001b[0;34m,\u001b[0m \u001b[0mawkward\u001b[0m\u001b[0;34m.\u001b[0m\u001b[0mlayout\u001b[0m\u001b[0;34m.\u001b[0m\u001b[0mContent\u001b[0m\u001b[0;34m)\u001b[0m\u001b[0;34m:\u001b[0m\u001b[0;34m\u001b[0m\u001b[0;34m\u001b[0m\u001b[0m\n",
      "\u001b[0;32m/opt/anaconda3/envs/mlpf/lib/python3.8/site-packages/uproot/interpretation/library.py\u001b[0m in \u001b[0;36mimported\u001b[0;34m(self)\u001b[0m\n\u001b[1;32m    489\u001b[0m     \u001b[0;34m@\u001b[0m\u001b[0mproperty\u001b[0m\u001b[0;34m\u001b[0m\u001b[0;34m\u001b[0m\u001b[0m\n\u001b[1;32m    490\u001b[0m     \u001b[0;32mdef\u001b[0m \u001b[0mimported\u001b[0m\u001b[0;34m(\u001b[0m\u001b[0mself\u001b[0m\u001b[0;34m)\u001b[0m\u001b[0;34m:\u001b[0m\u001b[0;34m\u001b[0m\u001b[0;34m\u001b[0m\u001b[0m\n\u001b[0;32m--> 491\u001b[0;31m         \u001b[0;32mreturn\u001b[0m \u001b[0muproot\u001b[0m\u001b[0;34m.\u001b[0m\u001b[0mextras\u001b[0m\u001b[0;34m.\u001b[0m\u001b[0mawkward\u001b[0m\u001b[0;34m(\u001b[0m\u001b[0;34m)\u001b[0m\u001b[0;34m\u001b[0m\u001b[0;34m\u001b[0m\u001b[0m\n\u001b[0m\u001b[1;32m    492\u001b[0m \u001b[0;34m\u001b[0m\u001b[0m\n\u001b[1;32m    493\u001b[0m     \u001b[0;32mdef\u001b[0m \u001b[0mfinalize\u001b[0m\u001b[0;34m(\u001b[0m\u001b[0mself\u001b[0m\u001b[0;34m,\u001b[0m \u001b[0marray\u001b[0m\u001b[0;34m,\u001b[0m \u001b[0mbranch\u001b[0m\u001b[0;34m,\u001b[0m \u001b[0minterpretation\u001b[0m\u001b[0;34m,\u001b[0m \u001b[0mentry_start\u001b[0m\u001b[0;34m,\u001b[0m \u001b[0mentry_stop\u001b[0m\u001b[0;34m)\u001b[0m\u001b[0;34m:\u001b[0m\u001b[0;34m\u001b[0m\u001b[0;34m\u001b[0m\u001b[0m\n",
      "\u001b[0;32m/opt/anaconda3/envs/mlpf/lib/python3.8/site-packages/uproot/extras.py\u001b[0m in \u001b[0;36mawkward\u001b[0;34m()\u001b[0m\n\u001b[1;32m     37\u001b[0m         \u001b[0;32mreturn\u001b[0m \u001b[0mawkward\u001b[0m\u001b[0;34m\u001b[0m\u001b[0;34m\u001b[0m\u001b[0m\n\u001b[1;32m     38\u001b[0m     \u001b[0;32melse\u001b[0m\u001b[0;34m:\u001b[0m\u001b[0;34m\u001b[0m\u001b[0;34m\u001b[0m\u001b[0m\n\u001b[0;32m---> 39\u001b[0;31m         raise ModuleNotFoundError(\n\u001b[0m\u001b[1;32m     40\u001b[0m             \"Uproot 4.x can only be used with Awkward 1.x; you have Awkward {}\".format(\n\u001b[1;32m     41\u001b[0m                 \u001b[0mawkward\u001b[0m\u001b[0;34m.\u001b[0m\u001b[0m__version__\u001b[0m\u001b[0;34m\u001b[0m\u001b[0;34m\u001b[0m\u001b[0m\n",
      "\u001b[0;31mModuleNotFoundError\u001b[0m: Uproot 4.x can only be used with Awkward 1.x; you have Awkward 2.0.8"
     ]
    }
   ],
   "source": [
    "prop_data = arrs.arrays([mc_coll, track_coll, \"SiTracks_1\", \"PandoraClusters\", \"PandoraClusters#1\", \"PandoraClusters#0\", \"MergedRecoParticles\"])"
   ]
  },
  {
   "cell_type": "code",
   "execution_count": null,
   "metadata": {},
   "outputs": [],
   "source": [
    "# pip install uproot\n",
    "# pip install akwward\n",
    "\n",
    "iev = 0\n",
    "\n",
    "reco_arr = prop_data[\"MergedRecoParticles\"][iev]\n",
    "reco_arr = {k.replace(\"MergedRecoParticles.\", \"\"): reco_arr[k] for k in reco_arr.fields}\n",
    "\n",
    "reco_p4 = vector.awk(awkward.zip({\n",
    "    \"mass\": reco_arr[\"mass\"],\n",
    "    \"x\": reco_arr[\"momentum.x\"],\n",
    "    \"y\": reco_arr[\"momentum.y\"],\n",
    "    \"z\": reco_arr[\"momentum.z\"]}))\n",
    "reco_arr[\"pt\"] = reco_p4.pt\n",
    "reco_arr[\"eta\"] = reco_p4.eta\n",
    "reco_arr[\"phi\"] = reco_p4.phi\n",
    "reco_arr[\"energy\"] = reco_p4.energy"
   ]
  },
  {
   "cell_type": "code",
   "execution_count": 10,
   "metadata": {},
   "outputs": [
    {
     "data": {
      "text/plain": [
       "['MCParticles',\n",
       " 'SiTracks_Refitted',\n",
       " 'SiTracks_1',\n",
       " 'PandoraClusters',\n",
       " 'PandoraClusters#1',\n",
       " 'PandoraClusters#0',\n",
       " 'MergedRecoParticles']"
      ]
     },
     "execution_count": 10,
     "metadata": {},
     "output_type": "execute_result"
    }
   ],
   "source": [
    "prop_data.fields"
   ]
  },
  {
   "cell_type": "code",
   "execution_count": null,
   "metadata": {},
   "outputs": [],
   "source": []
  },
  {
   "cell_type": "code",
   "execution_count": null,
   "metadata": {},
   "outputs": [],
   "source": []
  },
  {
   "cell_type": "code",
   "execution_count": null,
   "metadata": {},
   "outputs": [],
   "source": []
  },
  {
   "cell_type": "markdown",
   "metadata": {},
   "source": [
    "# Track features"
   ]
  },
  {
   "cell_type": "code",
   "execution_count": 11,
   "metadata": {},
   "outputs": [
    {
     "data": {
      "text/plain": [
       "<Record ... 0.795, -0.711, -0.409, -0.231]} type='{\"type\": var * float64, \"chi2\"...'>"
      ]
     },
     "execution_count": 11,
     "metadata": {},
     "output_type": "execute_result"
    }
   ],
   "source": [
    "track_arr = prop_data[track_coll][iev]\n",
    "feats_from_track = [\"type\", \"chi2\", \"ndf\", \"dEdx\", \"dEdxError\", \"radiusOfInnermostHit\"]\n",
    "ret = {feat: track_arr[track_coll + \".\" + feat] for feat in feats_from_track}\n",
    "n_tr = len(ret[\"type\"])\n",
    "\n",
    "#FIXME: add additional track features from track state\n",
    "\n",
    "#get the index of the first track state\n",
    "trackstate_idx = prop_data[track_coll][track_coll + \".trackStates_begin\"][iev]\n",
    "#get the properties of the track at the first track state (at the origin)\n",
    "for k in [\"tanLambda\", \"D0\", \"phi\", \"omega\", \"Z0\", \"time\"]:\n",
    "    ret[k] = prop_data[\"SiTracks_1\"][\"SiTracks_1.\" + k][iev][trackstate_idx]\n",
    "\n",
    "def track_pt(omega):\n",
    "    a = 3 * 10**-4\n",
    "    b = 4  # B-field in tesla, from clicRec_e4h_input\n",
    "\n",
    "    return a * np.abs(b / omega)\n",
    "\n",
    "ret[\"pt\"] = track_pt(ret[\"omega\"])\n",
    "ret[\"px\"] = np.cos(ret[\"phi\"]) * ret[\"pt\"]\n",
    "ret[\"py\"] = np.sin(ret[\"phi\"]) * ret[\"pt\"]\n",
    "ret[\"pz\"] = ret[\"tanLambda\"] * ret[\"pt\"]\n",
    "ret[\"p\"] = np.sqrt(ret[\"px\"]**2 + ret[\"py\"]**2 + ret[\"pz\"]**2)\n",
    "cos_theta = np.divide(ret[\"pz\"], ret[\"p\"], where=ret[\"p\"]>0)\n",
    "theta = np.arccos(cos_theta)\n",
    "tt = np.tan(theta / 2.0)\n",
    "eta = awkward.to_numpy(-np.log(tt, where=tt>0))\n",
    "eta[tt<=0] = 0.0\n",
    "ret[\"eta\"] = eta\n",
    "ret[\"sin_phi\"] = np.sin(ret[\"phi\"])\n",
    "ret[\"cos_phi\"] = np.cos(ret[\"phi\"])\n",
    "\n",
    "#override track type with 1\n",
    "ret[\"type\"] = 1*np.ones(n_tr, dtype=np.float32)\n",
    "\n",
    "awkward.Record(ret)"
   ]
  },
  {
   "cell_type": "code",
   "execution_count": 20,
   "metadata": {},
   "outputs": [],
   "source": [
    "trk_to_gen_trkidx = sitrack_links[\"SiTracksMCTruthLink#0\"][\"SiTracksMCTruthLink#0.index\"][iev]\n",
    "trk_to_gen_genidx = sitrack_links[\"SiTracksMCTruthLink#1\"][\"SiTracksMCTruthLink#1.index\"][iev]\n",
    "trk_to_gen_w = sitrack_links[\"SiTracksMCTruthLink\"][\"SiTracksMCTruthLink.weight\"][iev]"
   ]
  },
  {
   "cell_type": "code",
   "execution_count": 36,
   "metadata": {},
   "outputs": [],
   "source": [
    "def gen_to_features(prop_data, iev):\n",
    "    gen_arr = prop_data[mc_coll][iev]\n",
    "    gen_arr = {k.replace(mc_coll+\".\", \"\"): gen_arr[k] for k in gen_arr.fields}\n",
    "\n",
    "    MCParticles_p4 = vector.awk(awkward.zip({\n",
    "        \"mass\": gen_arr[\"mass\"],\n",
    "        \"x\": gen_arr[\"momentum.x\"],\n",
    "        \"y\": gen_arr[\"momentum.y\"],\n",
    "        \"z\": gen_arr[\"momentum.z\"]}))\n",
    "    gen_arr[\"pt\"] = MCParticles_p4.pt\n",
    "    gen_arr[\"eta\"] = MCParticles_p4.eta\n",
    "    gen_arr[\"phi\"] = MCParticles_p4.phi\n",
    "    gen_arr[\"energy\"] = MCParticles_p4.energy\n",
    "\n",
    "    return awkward.Record({\n",
    "        \"PDG\": gen_arr[\"PDG\"],\n",
    "        \"generatorStatus\": gen_arr[\"generatorStatus\"],\n",
    "        \"charge\": gen_arr[\"charge\"],\n",
    "        \"pt\": gen_arr[\"pt\"],\n",
    "        \"eta\": gen_arr[\"eta\"],\n",
    "        \"phi\": gen_arr[\"phi\"],\n",
    "        \"energy\": gen_arr[\"energy\"],\n",
    "        })"
   ]
  },
  {
   "cell_type": "code",
   "execution_count": 37,
   "metadata": {},
   "outputs": [],
   "source": [
    "gen_features = gen_to_features(prop_data, iev)"
   ]
  },
  {
   "cell_type": "code",
   "execution_count": 40,
   "metadata": {},
   "outputs": [
    {
     "data": {
      "text/plain": [
       "<Array [22, 22, 22, 22, ... 22, 22, 22, 22] type='55 * int64'>"
      ]
     },
     "execution_count": 40,
     "metadata": {},
     "output_type": "execute_result"
    }
   ],
   "source": [
    "gen_features[\"PDG\"][gen_features[\"generatorStatus\"]==1]"
   ]
  },
  {
   "cell_type": "code",
   "execution_count": 25,
   "metadata": {},
   "outputs": [
    {
     "data": {
      "text/plain": [
       "<Array [107, 89, 92, 79, ... 123, 130, 75, 129] type='25 * int32'>"
      ]
     },
     "execution_count": 25,
     "metadata": {},
     "output_type": "execute_result"
    }
   ],
   "source": [
    "trk_to_gen_genidx"
   ]
  },
  {
   "cell_type": "code",
   "execution_count": 24,
   "metadata": {},
   "outputs": [
    {
     "data": {
      "text/plain": [
       "<Array [12, 9, 16, 15, 10, ... 6, 4, 3, 0, 2] type='25 * int32'>"
      ]
     },
     "execution_count": 24,
     "metadata": {},
     "output_type": "execute_result"
    }
   ],
   "source": [
    "trk_to_gen_trkidx"
   ]
  },
  {
   "cell_type": "code",
   "execution_count": 30,
   "metadata": {},
   "outputs": [
    {
     "data": {
      "text/plain": [
       "array([107,  89,  92,  79,  91,  78, 131,  81, 121, 116, 124, 126, 111,\n",
       "       206,  84,  83, 113, 115, 128, 109, 125, 123, 130,  75, 129],\n",
       "      dtype=int32)"
      ]
     },
     "execution_count": 30,
     "metadata": {},
     "output_type": "execute_result"
    }
   ],
   "source": [
    "trk_to_gen_genidx.to_numpy()"
   ]
  },
  {
   "cell_type": "code",
   "execution_count": 151,
   "metadata": {},
   "outputs": [
    {
     "data": {
      "text/plain": [
       "array([12,  9, 16, 15, 10,  5,  1,  8, 23, 20,  7, 17, 11, 11, 22, 21, 19,\n",
       "       18, 14, 13,  6,  4,  3,  0,  2], dtype=int32)"
      ]
     },
     "execution_count": 151,
     "metadata": {},
     "output_type": "execute_result"
    }
   ],
   "source": [
    "trk_to_gen_trkidx.to_numpy()"
   ]
  },
  {
   "cell_type": "code",
   "execution_count": 152,
   "metadata": {},
   "outputs": [
    {
     "data": {
      "text/plain": [
       "<Array [111, 206] type='2 * int32'>"
      ]
     },
     "execution_count": 152,
     "metadata": {},
     "output_type": "execute_result"
    }
   ],
   "source": [
    "trk_to_gen_genidx[trk_to_gen_trkidx.to_numpy()==11]"
   ]
  },
  {
   "cell_type": "code",
   "execution_count": 155,
   "metadata": {},
   "outputs": [
    {
     "data": {
      "text/plain": [
       "2"
      ]
     },
     "execution_count": 155,
     "metadata": {},
     "output_type": "execute_result"
    }
   ],
   "source": [
    "len(trk_to_gen_w[trk_to_gen_trkidx.to_numpy()==11])"
   ]
  },
  {
   "cell_type": "code",
   "execution_count": 159,
   "metadata": {},
   "outputs": [
    {
     "data": {
      "text/plain": [
       "False"
      ]
     },
     "execution_count": 159,
     "metadata": {},
     "output_type": "execute_result"
    }
   ],
   "source": [
    "len(trk_to_gen_w[trk_to_gen_trkidx.to_numpy()==11])==2"
   ]
  },
  {
   "cell_type": "code",
   "execution_count": 162,
   "metadata": {},
   "outputs": [
    {
     "data": {
      "text/plain": [
       "<Array [] type='0 * float32'>"
      ]
     },
     "execution_count": 162,
     "metadata": {},
     "output_type": "execute_result"
    }
   ],
   "source": [
    "trk_to_gen_w[trk_to_gen_trkidx.to_numpy()==11]"
   ]
  },
  {
   "cell_type": "code",
   "execution_count": null,
   "metadata": {},
   "outputs": [],
   "source": []
  },
  {
   "cell_type": "code",
   "execution_count": 258,
   "metadata": {},
   "outputs": [
    {
     "data": {
      "text/plain": [
       "0.05863039399624766"
      ]
     },
     "execution_count": 258,
     "metadata": {},
     "output_type": "execute_result"
    }
   ],
   "source": [
    "num = 0\n",
    "den = 0\n",
    "for ev in range(nevents):\n",
    "    \n",
    "    trk_to_gen_trkidx = sitrack_links[\"SiTracksMCTruthLink#0\"][\"SiTracksMCTruthLink#0.index\"][ev]\n",
    "    trk_to_gen_genidx = sitrack_links[\"SiTracksMCTruthLink#1\"][\"SiTracksMCTruthLink#1.index\"][ev]\n",
    "    \n",
    "    for trk_ind in np.unique(trk_to_gen_trkidx.to_numpy()):\n",
    "        if len(trk_to_gen_genidx[trk_to_gen_trkidx.to_numpy()==trk_ind])>1:\n",
    "            num += 1\n",
    "        den +=1\n",
    "\n",
    "num/den        "
   ]
  },
  {
   "cell_type": "code",
   "execution_count": 238,
   "metadata": {},
   "outputs": [
    {
     "name": "stdout",
     "output_type": "stream",
     "text": [
      "[0.8 0.2]\n"
     ]
    }
   ],
   "source": [
    "sorted_arr = np.sort(w)[::-1]\n",
    "\n",
    "print(sorted_arr)"
   ]
  },
  {
   "cell_type": "code",
   "execution_count": 250,
   "metadata": {},
   "outputs": [
    {
     "data": {
      "text/plain": [
       "array([0.2, 0.8], dtype=float32)"
      ]
     },
     "execution_count": 250,
     "metadata": {},
     "output_type": "execute_result"
    }
   ],
   "source": [
    "w"
   ]
  },
  {
   "cell_type": "code",
   "execution_count": 251,
   "metadata": {},
   "outputs": [],
   "source": [
    "max_idx = np.argmax(w)\n",
    "indices = np.where(w != w[max_idx])[0]"
   ]
  },
  {
   "cell_type": "code",
   "execution_count": 253,
   "metadata": {},
   "outputs": [
    {
     "data": {
      "text/plain": [
       "[0]"
      ]
     },
     "execution_count": 253,
     "metadata": {},
     "output_type": "execute_result"
    }
   ],
   "source": [
    "indices.tolist()"
   ]
  },
  {
   "cell_type": "code",
   "execution_count": 278,
   "metadata": {},
   "outputs": [
    {
     "data": {
      "text/plain": [
       "[[221], [248], [221], [248]]"
      ]
     },
     "execution_count": 278,
     "metadata": {},
     "output_type": "execute_result"
    }
   ],
   "source": [
    "gen_with_min_w[3]"
   ]
  },
  {
   "cell_type": "code",
   "execution_count": 224,
   "metadata": {},
   "outputs": [
    {
     "data": {
      "text/plain": [
       "<Array [1, 42, 42, 30, 44, ... 19, 24, 16, 2] type='47 * int32'>"
      ]
     },
     "execution_count": 224,
     "metadata": {},
     "output_type": "execute_result"
    }
   ],
   "source": [
    "trk_to_gen_trkidx"
   ]
  },
  {
   "cell_type": "code",
   "execution_count": 328,
   "metadata": {},
   "outputs": [],
   "source": [
    "    trk_to_gen_trkidx = sitrack_links[\"SiTracksMCTruthLink#0\"][\"SiTracksMCTruthLink#0.index\"][0]\n",
    "    trk_to_gen_genidx = sitrack_links[\"SiTracksMCTruthLink#1\"][\"SiTracksMCTruthLink#1.index\"][0]\n",
    "    trk_to_gen_w = sitrack_links[\"SiTracksMCTruthLink\"][\"SiTracksMCTruthLink.weight\"][0]\n",
    "    "
   ]
  },
  {
   "cell_type": "code",
   "execution_count": 337,
   "metadata": {},
   "outputs": [
    {
     "data": {
      "text/plain": [
       "<Array [12, 9, 16, 15, 10, ... 6, 4, 3, 0, 2] type='25 * int32'>"
      ]
     },
     "execution_count": 337,
     "metadata": {},
     "output_type": "execute_result"
    }
   ],
   "source": [
    "trk_to_gen_trkidx"
   ]
  },
  {
   "cell_type": "code",
   "execution_count": 338,
   "metadata": {},
   "outputs": [
    {
     "name": "stdout",
     "output_type": "stream",
     "text": [
      "[1.] 0 107\n",
      "[1.] 0 89\n",
      "[1.] 0 92\n",
      "[1.] 0 79\n",
      "[1.] 0 91\n",
      "[1.] 0 78\n",
      "[1.] 0 131\n",
      "[1.] 0 81\n",
      "[1.] 0 121\n",
      "[1.] 0 116\n",
      "[1.] 0 124\n",
      "[0.9 0.1] 0 126\n",
      "[1.] 0 111\n",
      "[1.] 0 206\n",
      "[1.] 0 84\n",
      "[1.] 0 83\n",
      "[1.] 0 113\n",
      "[1.] 0 115\n",
      "[1.] 0 128\n",
      "[1.] 0 109\n",
      "[1.] 0 125\n",
      "[1.] 0 123\n",
      "[1.] 0 130\n",
      "[1.] 0 75\n"
     ]
    }
   ],
   "source": [
    "for trk_ind in np.unique(trk_to_gen_trkidx.to_numpy()):\n",
    "    w = trk_to_gen_w[trk_to_gen_trkidx.to_numpy()==trk_ind].to_numpy()   \n",
    "    max_idx = np.argmax(w)    \n",
    "    print(w, max_idx, trk_to_gen_genidx[trk_ind])"
   ]
  },
  {
   "cell_type": "code",
   "execution_count": 416,
   "metadata": {},
   "outputs": [
    {
     "data": {
      "text/plain": [
       "array([ 1, 42, 42, 30, 44, 44, 10, 18, 14, 13, 11,  8, 32, 25, 36, 23, 41,\n",
       "       43, 37, 34, 33, 39, 17,  4, 40, 31, 12, 38,  6, 21,  5,  3, 26, 29,\n",
       "       22, 20, 27, 28,  9,  7,  0, 15, 35, 19, 24, 16,  2], dtype=int32)"
      ]
     },
     "execution_count": 416,
     "metadata": {},
     "output_type": "execute_result"
    }
   ],
   "source": [
    "trk_to_gen_trkidx"
   ]
  },
  {
   "cell_type": "code",
   "execution_count": 417,
   "metadata": {},
   "outputs": [
    {
     "data": {
      "text/plain": [
       "array([136, 588, 587, 226, 588, 587, 157, 186, 155, 142, 174, 115, 215,\n",
       "       163, 126, 143, 168, 593, 107, 121, 146, 158, 216, 153, 165, 108,\n",
       "       120, 187, 151, 177, 135, 180, 129, 225, 145, 106, 173, 171, 118,\n",
       "       111, 100, 181, 114, 172, 178, 149, 137], dtype=int32)"
      ]
     },
     "execution_count": 417,
     "metadata": {},
     "output_type": "execute_result"
    }
   ],
   "source": [
    "trk_to_gen_genidx"
   ]
  },
  {
   "cell_type": "code",
   "execution_count": 430,
   "metadata": {},
   "outputs": [
    {
     "data": {
      "text/plain": [
       "[1.0,\n",
       " 1.0,\n",
       " 1.0,\n",
       " 1.0,\n",
       " 1.0,\n",
       " 1.0,\n",
       " 1.0,\n",
       " 1.0,\n",
       " 1.0,\n",
       " 1.0,\n",
       " 1.0,\n",
       " 1.0,\n",
       " 0.8999999761581421,\n",
       " 0.10000000149011612,\n",
       " 1.0,\n",
       " 1.0,\n",
       " 1.0,\n",
       " 1.0,\n",
       " 1.0,\n",
       " 1.0,\n",
       " 1.0,\n",
       " 1.0,\n",
       " 1.0,\n",
       " 1.0,\n",
       " 1.0]"
      ]
     },
     "execution_count": 430,
     "metadata": {},
     "output_type": "execute_result"
    }
   ],
   "source": [
    "trk_to_gen_w"
   ]
  },
  {
   "cell_type": "code",
   "execution_count": 444,
   "metadata": {},
   "outputs": [
    {
     "data": {
      "text/plain": [
       "array([134, 134, 134, ..., 115,  75,  75], dtype=int32)"
      ]
     },
     "execution_count": 444,
     "metadata": {},
     "output_type": "execute_result"
    }
   ],
   "source": [
    "calohit_to_gen_gen_idx=="
   ]
  },
  {
   "cell_type": "code",
   "execution_count": 445,
   "metadata": {},
   "outputs": [
    {
     "data": {
      "text/plain": [
       "array([136, 588, 587, 226, 588, 587, 157, 186, 155, 142, 174, 115, 215,\n",
       "       163, 126, 143, 168, 593, 107, 121, 146, 158, 216, 153, 165, 108,\n",
       "       120, 187, 151, 177, 135, 180, 129, 225, 145, 106, 173, 171, 118,\n",
       "       111, 100, 181, 114, 172, 178, 149, 137], dtype=int32)"
      ]
     },
     "execution_count": 445,
     "metadata": {},
     "output_type": "execute_result"
    }
   ],
   "source": [
    "trk_to_gen_genidx"
   ]
  },
  {
   "cell_type": "code",
   "execution_count": 478,
   "metadata": {},
   "outputs": [],
   "source": [
    "energy = {}\n",
    "energy[\"gen_max\"] = []\n",
    "energy[\"gen_min\"] = []\n",
    "energy[\"calo_max\"] = []\n",
    "energy[\"calo_min\"] = []\n",
    "\n",
    "for ev in range(nevents):\n",
    "\n",
    "    # retrieve info from event\n",
    "    gen_features = gen_to_features(prop_data, ev)\n",
    "    \n",
    "    trk_to_gen_trkidx = sitrack_links[\"SiTracksMCTruthLink#0\"][\"SiTracksMCTruthLink#0.index\"][ev].to_numpy()\n",
    "    trk_to_gen_genidx = sitrack_links[\"SiTracksMCTruthLink#1\"][\"SiTracksMCTruthLink#1.index\"][ev].to_numpy()\n",
    "    trk_to_gen_w = sitrack_links[\"SiTracksMCTruthLink\"][\"SiTracksMCTruthLink.weight\"][ev].to_numpy()\n",
    "\n",
    "    calohit_to_gen_gen_idx = calohit_links[\"CalohitMCTruthLink#1\"][\"CalohitMCTruthLink#1.index\"][ev].to_numpy()\n",
    "    calohit_to_gen_weight = calohit_links[\"CalohitMCTruthLink\"][\"CalohitMCTruthLink.weight\"][ev].to_numpy()\n",
    "\n",
    "    # for any weight that is one\n",
    "    for gen_ind in trk_to_gen_genidx[trk_to_gen_w==1].tolist():\n",
    "        energy[\"gen_max\"].append(gen_features[\"energy\"][gen_ind])\n",
    "        energy[\"calo_max\"].append(calohit_to_gen_weight[calohit_to_gen_gen_idx==gen_ind].sum())\n",
    "\n",
    "    # for any weight that is not one\n",
    "    for gen_ind in trk_to_gen_genidx[trk_to_gen_w!=1].tolist():\n",
    "        energy[\"gen_min\"].append(gen_features[\"energy\"][gen_ind])\n",
    "        energy[\"calo_min\"].append(calohit_to_gen_weight[calohit_to_gen_gen_idx==gen_ind].sum())"
   ]
  },
  {
   "cell_type": "code",
   "execution_count": 479,
   "metadata": {},
   "outputs": [
    {
     "data": {
      "image/png": "[encoded data removed]",
      "text/plain": [
       "<Figure size 576x432 with 1 Axes>"
      ]
     },
     "metadata": {
      "needs_background": "light"
     },
     "output_type": "display_data"
    }
   ],
   "source": [
    "plt.rcParams.update({\"font.size\": 20})\n",
    "fig, ax = plt.subplots(figsize=(8,6))\n",
    "\n",
    "bins = np.linspace(0, 30, 40)\n",
    "\n",
    "ax.hist(energy[\"gen_max\"], \n",
    "        bins, \n",
    "        histtype=\"step\", \n",
    "        linewidth=2, \n",
    "        density=True,\n",
    "        label=\"1st gen particle linked to a track\"\n",
    "       )\n",
    "\n",
    "ax.hist(energy[\"gen_min\"], \n",
    "        bins, \n",
    "        histtype=\"step\", \n",
    "        linewidth=2, \n",
    "        density=True,\n",
    "        label=\"all but the 1st gen particle linked to a track\"\n",
    "       )\n",
    "ax.legend(title=f\"Number of events {nevents}\")\n",
    "ax.set_xlabel(\"Gen energy [GeV]\");\n",
    "# ax.set_yscale(\"log\")\n",
    "# ax.set_ylim(0, 25000)"
   ]
  },
  {
   "cell_type": "code",
   "execution_count": 482,
   "metadata": {},
   "outputs": [
    {
     "data": {
      "image/png": "[encoded data removed]",
      "text/plain": [
       "<Figure size 576x432 with 1 Axes>"
      ]
     },
     "metadata": {
      "needs_background": "light"
     },
     "output_type": "display_data"
    }
   ],
   "source": [
    "plt.rcParams.update({\"font.size\": 20})\n",
    "fig, ax = plt.subplots(figsize=(8,6))\n",
    "\n",
    "bins = np.linspace(0, 30, 40)\n",
    "\n",
    "ax.hist(energy[\"calo_max\"], \n",
    "        bins, \n",
    "        histtype=\"step\", \n",
    "        linewidth=2, \n",
    "        density=True,\n",
    "        label=\"1st gen particle linked to a track\"\n",
    "       )\n",
    "\n",
    "ax.hist(energy[\"calo_min\"], \n",
    "        bins, \n",
    "        histtype=\"step\", \n",
    "        linewidth=2, \n",
    "        density=True,\n",
    "        label=\"all but the 1st gen particle linked to a track\"\n",
    "       )\n",
    "ax.legend(title=f\"Number of events {nevents}\")\n",
    "ax.set_xlabel(\"Calo energy [GeV]\");\n",
    "# ax.set_yscale(\"log\")\n",
    "# ax.set_ylim(0, 25000)"
   ]
  },
  {
   "cell_type": "code",
   "execution_count": null,
   "metadata": {},
   "outputs": [],
   "source": []
  },
  {
   "cell_type": "code",
   "execution_count": null,
   "metadata": {},
   "outputs": [],
   "source": []
  },
  {
   "cell_type": "code",
   "execution_count": null,
   "metadata": {},
   "outputs": [],
   "source": []
  },
  {
   "cell_type": "code",
   "execution_count": null,
   "metadata": {},
   "outputs": [],
   "source": [
    "plt.rcParams.update({\"font.size\": 20})\n",
    "fig, ax = plt.subplots(figsize=(8,6))\n",
    "\n",
    "bins = np.linspace(0, 30, 40)\n",
    "\n",
    "ax.hist(energy0_, \n",
    "        bins, \n",
    "        histtype=\"step\", \n",
    "        linewidth=2, \n",
    "        density=True,\n",
    "        label=\"1st gen particle linked to a track\"\n",
    "       )\n",
    "\n",
    "ax.hist(energy_, \n",
    "        bins, \n",
    "        histtype=\"step\", \n",
    "        linewidth=2, \n",
    "        density=True,\n",
    "        label=\"all but the 1st gen particle linked to a track\"\n",
    "       )\n",
    "ax.legend(title=f\"Number of events {nevents}\")\n",
    "ax.set_xlabel(\"Gen energy [GeV]\");\n",
    "# ax.set_yscale(\"log\")\n",
    "# ax.set_ylim(0, 25000)"
   ]
  },
  {
   "cell_type": "code",
   "execution_count": null,
   "metadata": {},
   "outputs": [],
   "source": []
  },
  {
   "cell_type": "code",
   "execution_count": null,
   "metadata": {},
   "outputs": [],
   "source": []
  },
  {
   "cell_type": "code",
   "execution_count": 175,
   "metadata": {},
   "outputs": [
    {
     "data": {
      "text/plain": [
       "0.05863039399624766"
      ]
     },
     "execution_count": 175,
     "metadata": {},
     "output_type": "execute_result"
    }
   ],
   "source": [
    "num/den"
   ]
  },
  {
   "cell_type": "code",
   "execution_count": null,
   "metadata": {},
   "outputs": [],
   "source": []
  },
  {
   "cell_type": "code",
   "execution_count": 163,
   "metadata": {},
   "outputs": [
    {
     "name": "stdout",
     "output_type": "stream",
     "text": [
      "[0.25, 0.25, 0.5]\n",
      "[0.333, 0.333, 0.333]\n",
      "[0.333, 0.333, 0.333]\n",
      "[0.25, 0.25, 0.25, 0.25]\n",
      "[0.333, 0.333, 0.333]\n",
      "[0.333, 0.333, 0.333]\n",
      "[0.333, 0.333, 0.333]\n",
      "[0.333, 0.333, 0.333]\n",
      "[0.333, 0.333, 0.333]\n"
     ]
    }
   ],
   "source": [
    "max_weight = []\n",
    "for ev in range(nevents):\n",
    "    \n",
    "    trk_to_gen_trkidx = sitrack_links[\"SiTracksMCTruthLink#0\"][\"SiTracksMCTruthLink#0.index\"][ev]\n",
    "    trk_to_gen_genidx = sitrack_links[\"SiTracksMCTruthLink#1\"][\"SiTracksMCTruthLink#1.index\"][ev]\n",
    "    trk_to_gen_w = sitrack_links[\"SiTracksMCTruthLink\"][\"SiTracksMCTruthLink.weight\"][ev]\n",
    "    \n",
    "    for trk_ind in np.unique(trk_to_gen_trkidx.to_numpy()):\n",
    "        if len(trk_to_gen_genidx[trk_to_gen_trkidx.to_numpy()==trk_ind])==2:\n",
    "            max_weight.append(trk_to_gen_w[trk_to_gen_trkidx.to_numpy()==trk_ind].to_numpy().max())\n",
    "            \n",
    "        elif len(trk_to_gen_w[trk_to_gen_trkidx.to_numpy()==trk_ind])>2:\n",
    "            print(trk_to_gen_w[trk_to_gen_trkidx.to_numpy()==trk_ind])\n",
    "        "
   ]
  },
  {
   "cell_type": "code",
   "execution_count": 166,
   "metadata": {},
   "outputs": [
    {
     "name": "stderr",
     "output_type": "stream",
     "text": [
      "No artists with labels found to put in legend.  Note that artists whose label start with an underscore are ignored when legend() is called with no argument.\n"
     ]
    },
    {
     "data": {
      "image/png": "[encoded data removed]",
      "text/plain": [
       "<Figure size 576x432 with 1 Axes>"
      ]
     },
     "metadata": {
      "needs_background": "light"
     },
     "output_type": "display_data"
    }
   ],
   "source": [
    "plt.rcParams.update({\"font.size\": 20})\n",
    "fig, ax = plt.subplots(figsize=(8,6))\n",
    "\n",
    "bins = np.linspace(0, 1, 40)\n",
    "\n",
    "ax.hist(max_weight, \n",
    "        bins, \n",
    "        histtype=\"step\", \n",
    "        linewidth=2, \n",
    "        density=True,\n",
    "#         label=\"cell_sum_all\"\n",
    "       )\n",
    "ax.legend(title=f\"Number of events {nevents}\")\n",
    "ax.set_xlabel(\"max track weight for track with 2 hits\");\n",
    "# ax.set_yscale(\"log\")\n",
    "# ax.set_ylim(0, 25000)"
   ]
  },
  {
   "cell_type": "code",
   "execution_count": null,
   "metadata": {},
   "outputs": [],
   "source": []
  },
  {
   "cell_type": "code",
   "execution_count": null,
   "metadata": {},
   "outputs": [],
   "source": []
  },
  {
   "cell_type": "code",
   "execution_count": null,
   "metadata": {},
   "outputs": [],
   "source": []
  },
  {
   "cell_type": "code",
   "execution_count": 41,
   "metadata": {},
   "outputs": [],
   "source": [
    "    calohit_to_gen_weight = calohit_links[\"CalohitMCTruthLink\"][\"CalohitMCTruthLink.weight\"][iev]\n",
    "    calohit_to_gen_calo_colid = calohit_links[\"CalohitMCTruthLink#0\"][\"CalohitMCTruthLink#0.collectionID\"][iev]\n",
    "    calohit_to_gen_gen_colid = calohit_links[\"CalohitMCTruthLink#1\"][\"CalohitMCTruthLink#1.collectionID\"][iev]\n",
    "    calohit_to_gen_calo_idx = calohit_links[\"CalohitMCTruthLink#0\"][\"CalohitMCTruthLink#0.index\"][iev]\n",
    "    calohit_to_gen_gen_idx = calohit_links[\"CalohitMCTruthLink#1\"][\"CalohitMCTruthLink#1.index\"][iev]"
   ]
  },
  {
   "cell_type": "code",
   "execution_count": 42,
   "metadata": {},
   "outputs": [
    {
     "data": {
      "text/plain": [
       "<Array [0.0162, 0.00309, ... 0.0195, 0.0229] type='6477 * float32'>"
      ]
     },
     "execution_count": 42,
     "metadata": {},
     "output_type": "execute_result"
    }
   ],
   "source": [
    "calohit_to_gen_weight"
   ]
  },
  {
   "cell_type": "code",
   "execution_count": 43,
   "metadata": {},
   "outputs": [
    {
     "data": {
      "text/plain": [
       "<Array [46, 46, 46, 46, 46, ... 50, 50, 51, 51] type='6477 * int32'>"
      ]
     },
     "execution_count": 43,
     "metadata": {},
     "output_type": "execute_result"
    }
   ],
   "source": [
    "calohit_to_gen_calo_colid"
   ]
  },
  {
   "cell_type": "code",
   "execution_count": 44,
   "metadata": {},
   "outputs": [
    {
     "data": {
      "text/plain": [
       "<Array [1, 1, 1, 1, 1, 1, ... 1, 1, 1, 1, 1, 1] type='6477 * int32'>"
      ]
     },
     "execution_count": 44,
     "metadata": {},
     "output_type": "execute_result"
    }
   ],
   "source": [
    "calohit_to_gen_gen_colid"
   ]
  },
  {
   "cell_type": "code",
   "execution_count": 45,
   "metadata": {},
   "outputs": [
    {
     "data": {
      "text/plain": [
       "<Array [68, 117, 118, 119, ... 586, 587, 0, 1] type='6477 * int32'>"
      ]
     },
     "execution_count": 45,
     "metadata": {},
     "output_type": "execute_result"
    }
   ],
   "source": [
    "# index of cell\n",
    "calohit_to_gen_calo_idx"
   ]
  },
  {
   "cell_type": "code",
   "execution_count": 46,
   "metadata": {},
   "outputs": [
    {
     "data": {
      "text/plain": [
       "<Array [134, 134, 134, 134, ... 115, 75, 75] type='6477 * int32'>"
      ]
     },
     "execution_count": 46,
     "metadata": {},
     "output_type": "execute_result"
    }
   ],
   "source": [
    "# index of gen particle that hit cell above\n",
    "calohit_to_gen_gen_idx"
   ]
  },
  {
   "cell_type": "code",
   "execution_count": 64,
   "metadata": {},
   "outputs": [
    {
     "data": {
      "text/plain": [
       "9.626367"
      ]
     },
     "execution_count": 64,
     "metadata": {},
     "output_type": "execute_result"
    }
   ],
   "source": [
    "awkward.sum(calohit_to_gen_weight[calohit_to_gen_gen_idx==134])"
   ]
  },
  {
   "cell_type": "code",
   "execution_count": 67,
   "metadata": {},
   "outputs": [
    {
     "data": {
      "text/plain": [
       "9.626367"
      ]
     },
     "execution_count": 67,
     "metadata": {},
     "output_type": "execute_result"
    }
   ],
   "source": [
    "calohit_to_gen_weight[calohit_to_gen_gen_idx==134].to_numpy().sum()"
   ]
  },
  {
   "cell_type": "code",
   "execution_count": 72,
   "metadata": {},
   "outputs": [
    {
     "data": {
      "text/plain": [
       "17.506936578657633"
      ]
     },
     "execution_count": 72,
     "metadata": {},
     "output_type": "execute_result"
    }
   ],
   "source": [
    "gen_features[\"energy\"][134]"
   ]
  },
  {
   "cell_type": "code",
   "execution_count": 77,
   "metadata": {},
   "outputs": [
    {
     "data": {
      "text/plain": [
       "array([ 13,  75,  76,  77,  78,  79,  81,  83,  84,  89,  91,  92, 103,\n",
       "       104, 106, 115, 117, 118, 119, 120, 123, 124, 125, 128, 129, 130,\n",
       "       131, 132, 133, 134, 135, 137, 138, 141, 142, 144, 145, 146, 147,\n",
       "       148, 149, 184, 223, 224, 235, 238, 241, 248, 249, 257, 259, 266,\n",
       "       274, 275, 276, 294, 314, 315, 323], dtype=int32)"
      ]
     },
     "execution_count": 77,
     "metadata": {},
     "output_type": "execute_result"
    }
   ],
   "source": [
    "np.unique(calohit_to_gen_gen_idx.to_numpy())"
   ]
  },
  {
   "cell_type": "code",
   "execution_count": 353,
   "metadata": {},
   "outputs": [
    {
     "data": {
      "text/plain": [
       "<Array [180, 120, 120, 223, ... 181, 111, 111] type='5598 * int32'>"
      ]
     },
     "execution_count": 353,
     "metadata": {},
     "output_type": "execute_result"
    }
   ],
   "source": [
    "calohit_to_gen_gen_idx"
   ]
  },
  {
   "cell_type": "code",
   "execution_count": 354,
   "metadata": {},
   "outputs": [
    {
     "data": {
      "text/plain": [
       "<Array [0.148, 0.00399, ... 0.0508, 0.146] type='5598 * float32'>"
      ]
     },
     "execution_count": 354,
     "metadata": {},
     "output_type": "execute_result"
    }
   ],
   "source": [
    "calohit_to_gen_weight"
   ]
  },
  {
   "cell_type": "code",
   "execution_count": null,
   "metadata": {},
   "outputs": [],
   "source": [
    "calohit_to_gen_weight[calohit_to_gen_gen_idx==gen_idx].sum()"
   ]
  },
  {
   "cell_type": "code",
   "execution_count": 352,
   "metadata": {},
   "outputs": [],
   "source": [
    "gen_energy_all = []\n",
    "cell_sum_all = []\n",
    "\n",
    "for ev in range(nevents):\n",
    "    gen_features = gen_to_features(prop_data, ev)\n",
    "    calohit_to_gen_weight = calohit_links[\"CalohitMCTruthLink\"][\"CalohitMCTruthLink.weight\"][ev]\n",
    "    calohit_to_gen_gen_idx = calohit_links[\"CalohitMCTruthLink#1\"][\"CalohitMCTruthLink#1.index\"][ev]\n",
    "\n",
    "    for gen_idx in np.unique(calohit_to_gen_gen_idx.to_numpy()):\n",
    "    \n",
    "        gen_energy_all.append(gen_features[\"energy\"][gen_idx])\n",
    "        cell_sum_all.append(calohit_to_gen_weight[calohit_to_gen_gen_idx==gen_idx].to_numpy().sum())"
   ]
  },
  {
   "cell_type": "code",
   "execution_count": 140,
   "metadata": {},
   "outputs": [
    {
     "name": "stderr",
     "output_type": "stream",
     "text": [
      "No artists with labels found to put in legend.  Note that artists whose label start with an underscore are ignored when legend() is called with no argument.\n"
     ]
    },
    {
     "data": {
      "image/png": "[encoded data removed]",
      "text/plain": [
       "<Figure size 576x432 with 1 Axes>"
      ]
     },
     "metadata": {
      "needs_background": "light"
     },
     "output_type": "display_data"
    }
   ],
   "source": [
    "plt.rcParams.update({\"font.size\": 20})\n",
    "fig, ax = plt.subplots(figsize=(8,6))\n",
    "\n",
    "bins = np.linspace(-10, 10, 40)\n",
    "# ax.hist(gen_energy_all, \n",
    "#         bins, \n",
    "#         histtype=\"step\", \n",
    "#         linewidth=2, \n",
    "# #         density=True,\n",
    "#         label=\"gen_energy_all\"\n",
    "#        )\n",
    "num = np.array(cell_sum_all)-np.array(gen_energy_all)\n",
    "den = np.array(gen_energy_all)\n",
    "\n",
    "ax.hist(num/den, \n",
    "        bins, \n",
    "        histtype=\"step\", \n",
    "        linewidth=2, \n",
    "#         density=True,\n",
    "#         label=\"cell_sum_all\"\n",
    "       )\n",
    "ax.legend(title=f\"Number of events {nevents}\")\n",
    "ax.set_xlabel(\"(energy in cells - gen energy) / gen_energy [GeV]\");\n",
    "# ax.set_yscale(\"log\")\n",
    "# ax.set_ylim(0, 25000)"
   ]
  },
  {
   "cell_type": "code",
   "execution_count": 135,
   "metadata": {},
   "outputs": [
    {
     "data": {
      "text/plain": [
       "Text(0, 1, 'gen energy [GeV]')"
      ]
     },
     "execution_count": 135,
     "metadata": {},
     "output_type": "execute_result"
    },
    {
     "data": {
      "image/png": "[encoded data removed]",
      "text/plain": [
       "<Figure size 576x432 with 2 Axes>"
      ]
     },
     "metadata": {
      "needs_background": "light"
     },
     "output_type": "display_data"
    }
   ],
   "source": [
    "from matplotlib.colors import LogNorm\n",
    "\n",
    "plt.rcParams.update({\"font.size\": 20})\n",
    "fig, ax = plt.subplots(figsize=(8,6))\n",
    "\n",
    "bins = np.linspace(0, 10, 40)\n",
    "h = ax.hist2d(np.array(cell_sum_all), np.array(gen_energy_all),\n",
    "        bins, \n",
    "        norm=LogNorm()\n",
    "         )\n",
    "# Add a colorbar\n",
    "cbar = fig.colorbar(h[3], ax=ax)\n",
    "cbar.ax.set_ylabel('Counts (log scale)')\n",
    "\n",
    "ax.set_xlabel(\"energy in cells [GeV]\");\n",
    "ax.set_ylabel(\"gen energy [GeV]\")\n",
    "# ax.set_yscale(\"log\")\n",
    "# ax.set_ylim(0, 25000)"
   ]
  },
  {
   "cell_type": "code",
   "execution_count": null,
   "metadata": {},
   "outputs": [],
   "source": []
  },
  {
   "cell_type": "code",
   "execution_count": null,
   "metadata": {},
   "outputs": [],
   "source": []
  },
  {
   "cell_type": "code",
   "execution_count": null,
   "metadata": {},
   "outputs": [],
   "source": []
  },
  {
   "cell_type": "code",
   "execution_count": null,
   "metadata": {},
   "outputs": [],
   "source": []
  },
  {
   "cell_type": "code",
   "execution_count": null,
   "metadata": {},
   "outputs": [],
   "source": []
  },
  {
   "cell_type": "code",
   "execution_count": null,
   "metadata": {},
   "outputs": [],
   "source": []
  },
  {
   "cell_type": "code",
   "execution_count": null,
   "metadata": {},
   "outputs": [],
   "source": []
  },
  {
   "cell_type": "code",
   "execution_count": 47,
   "metadata": {},
   "outputs": [
    {
     "ename": "RuntimeError",
     "evalue": "Unable to cast Python instance to C++ type (#define PYBIND11_DETAILED_ERROR_MESSAGES or compile in debug mode for details)",
     "output_type": "error",
     "traceback": [
      "\u001b[0;31m---------------------------------------------------------------------------\u001b[0m",
      "\u001b[0;31mRuntimeError\u001b[0m                              Traceback (most recent call last)",
      "\u001b[0;32m<ipython-input-47-3569cad9a5a4>\u001b[0m in \u001b[0;36m<module>\u001b[0;34m\u001b[0m\n\u001b[0;32m----> 1\u001b[0;31m \u001b[0mhit_features\u001b[0m\u001b[0;34m,\u001b[0m \u001b[0mgenparticle_to_hit\u001b[0m\u001b[0;34m,\u001b[0m \u001b[0mhit_idx_local_to_global\u001b[0m \u001b[0;34m=\u001b[0m \u001b[0mget_calohit_matrix_and_genadj\u001b[0m\u001b[0;34m(\u001b[0m\u001b[0mhit_data\u001b[0m\u001b[0;34m,\u001b[0m \u001b[0mcalohit_links\u001b[0m\u001b[0;34m,\u001b[0m \u001b[0miev\u001b[0m\u001b[0;34m,\u001b[0m \u001b[0mcollectionIDs\u001b[0m\u001b[0;34m)\u001b[0m\u001b[0;34m\u001b[0m\u001b[0;34m\u001b[0m\u001b[0m\n\u001b[0m",
      "\u001b[0;32m<ipython-input-18-dd61d8652155>\u001b[0m in \u001b[0;36mget_calohit_matrix_and_genadj\u001b[0;34m(hit_data, calohit_links, iev, collectionIDs)\u001b[0m\n\u001b[1;32m     37\u001b[0m     \u001b[0;32mfor\u001b[0m \u001b[0mcol\u001b[0m \u001b[0;32min\u001b[0m \u001b[0msorted\u001b[0m\u001b[0;34m(\u001b[0m\u001b[0mhit_data\u001b[0m\u001b[0;34m.\u001b[0m\u001b[0mkeys\u001b[0m\u001b[0;34m(\u001b[0m\u001b[0;34m)\u001b[0m\u001b[0;34m)\u001b[0m\u001b[0;34m:\u001b[0m\u001b[0;34m\u001b[0m\u001b[0;34m\u001b[0m\u001b[0m\n\u001b[1;32m     38\u001b[0m         \u001b[0micol\u001b[0m \u001b[0;34m=\u001b[0m \u001b[0mcollectionIDs\u001b[0m\u001b[0;34m[\u001b[0m\u001b[0mcol\u001b[0m\u001b[0;34m]\u001b[0m\u001b[0;34m\u001b[0m\u001b[0;34m\u001b[0m\u001b[0m\n\u001b[0;32m---> 39\u001b[0;31m         \u001b[0mhit_features\u001b[0m \u001b[0;34m=\u001b[0m \u001b[0mhits_to_features\u001b[0m\u001b[0;34m(\u001b[0m\u001b[0mhit_data\u001b[0m\u001b[0;34m[\u001b[0m\u001b[0mcol\u001b[0m\u001b[0;34m]\u001b[0m\u001b[0;34m,\u001b[0m \u001b[0miev\u001b[0m\u001b[0;34m,\u001b[0m \u001b[0mcol\u001b[0m\u001b[0;34m,\u001b[0m \u001b[0mfeats\u001b[0m\u001b[0;34m)\u001b[0m\u001b[0;34m\u001b[0m\u001b[0;34m\u001b[0m\u001b[0m\n\u001b[0m\u001b[1;32m     40\u001b[0m         \u001b[0mhit_feature_matrix\u001b[0m\u001b[0;34m.\u001b[0m\u001b[0mappend\u001b[0m\u001b[0;34m(\u001b[0m\u001b[0mhit_features\u001b[0m\u001b[0;34m)\u001b[0m\u001b[0;34m\u001b[0m\u001b[0;34m\u001b[0m\u001b[0m\n\u001b[1;32m     41\u001b[0m         \u001b[0;32mfor\u001b[0m \u001b[0mihit\u001b[0m \u001b[0;32min\u001b[0m \u001b[0mrange\u001b[0m\u001b[0;34m(\u001b[0m\u001b[0mlen\u001b[0m\u001b[0;34m(\u001b[0m\u001b[0mhit_data\u001b[0m\u001b[0;34m[\u001b[0m\u001b[0mcol\u001b[0m\u001b[0;34m]\u001b[0m\u001b[0;34m[\u001b[0m\u001b[0mcol\u001b[0m\u001b[0;34m+\u001b[0m\u001b[0;34m\".energy\"\u001b[0m\u001b[0;34m]\u001b[0m\u001b[0;34m[\u001b[0m\u001b[0miev\u001b[0m\u001b[0;34m]\u001b[0m\u001b[0;34m)\u001b[0m\u001b[0;34m)\u001b[0m\u001b[0;34m:\u001b[0m\u001b[0;34m\u001b[0m\u001b[0;34m\u001b[0m\u001b[0m\n",
      "\u001b[0;32m<ipython-input-18-dd61d8652155>\u001b[0m in \u001b[0;36mhits_to_features\u001b[0;34m(hit_data, iev, coll, feats)\u001b[0m\n\u001b[1;32m     82\u001b[0m     \u001b[0mfeat_arr\u001b[0m\u001b[0;34m[\u001b[0m\u001b[0;34m\"sin_phi\"\u001b[0m\u001b[0;34m]\u001b[0m \u001b[0;34m=\u001b[0m \u001b[0mpy\u001b[0m\u001b[0;34m/\u001b[0m\u001b[0mfeat_arr\u001b[0m\u001b[0;34m[\u001b[0m\u001b[0;34m\"energy\"\u001b[0m\u001b[0;34m]\u001b[0m\u001b[0;34m\u001b[0m\u001b[0;34m\u001b[0m\u001b[0m\n\u001b[1;32m     83\u001b[0m     \u001b[0mfeat_arr\u001b[0m\u001b[0;34m[\u001b[0m\u001b[0;34m\"cos_phi\"\u001b[0m\u001b[0;34m]\u001b[0m \u001b[0;34m=\u001b[0m \u001b[0mpx\u001b[0m\u001b[0;34m/\u001b[0m\u001b[0mfeat_arr\u001b[0m\u001b[0;34m[\u001b[0m\u001b[0;34m\"energy\"\u001b[0m\u001b[0;34m]\u001b[0m\u001b[0;34m\u001b[0m\u001b[0;34m\u001b[0m\u001b[0m\n\u001b[0;32m---> 84\u001b[0;31m     \u001b[0;32mreturn\u001b[0m \u001b[0mawkward\u001b[0m\u001b[0;34m.\u001b[0m\u001b[0mRecord\u001b[0m\u001b[0;34m(\u001b[0m\u001b[0mfeat_arr\u001b[0m\u001b[0;34m)\u001b[0m\u001b[0;34m\u001b[0m\u001b[0;34m\u001b[0m\u001b[0m\n\u001b[0m",
      "\u001b[0;32m/opt/anaconda3/envs/coffea-env/lib/python3.8/site-packages/awkward/highlevel.py\u001b[0m in \u001b[0;36m__init__\u001b[0;34m(self, data, behavior, with_name, check_valid, cache, kernels)\u001b[0m\n\u001b[1;32m   1555\u001b[0m \u001b[0;34m\u001b[0m\u001b[0m\n\u001b[1;32m   1556\u001b[0m         \u001b[0;32melif\u001b[0m \u001b[0misinstance\u001b[0m\u001b[0;34m(\u001b[0m\u001b[0mdata\u001b[0m\u001b[0;34m,\u001b[0m \u001b[0mdict\u001b[0m\u001b[0;34m)\u001b[0m\u001b[0;34m:\u001b[0m\u001b[0;34m\u001b[0m\u001b[0;34m\u001b[0m\u001b[0m\n\u001b[0;32m-> 1557\u001b[0;31m             \u001b[0mlayout\u001b[0m \u001b[0;34m=\u001b[0m \u001b[0mak\u001b[0m\u001b[0;34m.\u001b[0m\u001b[0moperations\u001b[0m\u001b[0;34m.\u001b[0m\u001b[0mconvert\u001b[0m\u001b[0;34m.\u001b[0m\u001b[0mfrom_iter\u001b[0m\u001b[0;34m(\u001b[0m\u001b[0;34m[\u001b[0m\u001b[0mdata\u001b[0m\u001b[0;34m]\u001b[0m\u001b[0;34m,\u001b[0m \u001b[0mhighlevel\u001b[0m\u001b[0;34m=\u001b[0m\u001b[0;32mFalse\u001b[0m\u001b[0;34m)\u001b[0m\u001b[0;34m[\u001b[0m\u001b[0;36m0\u001b[0m\u001b[0;34m]\u001b[0m\u001b[0;34m\u001b[0m\u001b[0;34m\u001b[0m\u001b[0m\n\u001b[0m\u001b[1;32m   1558\u001b[0m \u001b[0;34m\u001b[0m\u001b[0m\n\u001b[1;32m   1559\u001b[0m         \u001b[0;32melif\u001b[0m \u001b[0misinstance\u001b[0m\u001b[0;34m(\u001b[0m\u001b[0mdata\u001b[0m\u001b[0;34m,\u001b[0m \u001b[0mIterable\u001b[0m\u001b[0;34m)\u001b[0m\u001b[0;34m:\u001b[0m\u001b[0;34m\u001b[0m\u001b[0;34m\u001b[0m\u001b[0m\n",
      "\u001b[0;32m/opt/anaconda3/envs/coffea-env/lib/python3.8/site-packages/awkward/operations/convert.py\u001b[0m in \u001b[0;36mfrom_iter\u001b[0;34m(iterable, highlevel, behavior, allow_record, initial, resize)\u001b[0m\n\u001b[1;32m    891\u001b[0m \u001b[0;34m\u001b[0m\u001b[0m\n\u001b[1;32m    892\u001b[0m     \u001b[0mout\u001b[0m \u001b[0;34m=\u001b[0m \u001b[0mak\u001b[0m\u001b[0;34m.\u001b[0m\u001b[0mlayout\u001b[0m\u001b[0;34m.\u001b[0m\u001b[0mArrayBuilder\u001b[0m\u001b[0;34m(\u001b[0m\u001b[0minitial\u001b[0m\u001b[0;34m=\u001b[0m\u001b[0minitial\u001b[0m\u001b[0;34m,\u001b[0m \u001b[0mresize\u001b[0m\u001b[0;34m=\u001b[0m\u001b[0mresize\u001b[0m\u001b[0;34m)\u001b[0m\u001b[0;34m\u001b[0m\u001b[0;34m\u001b[0m\u001b[0m\n\u001b[0;32m--> 893\u001b[0;31m     \u001b[0mout\u001b[0m\u001b[0;34m.\u001b[0m\u001b[0mfromiter\u001b[0m\u001b[0;34m(\u001b[0m\u001b[0miterable\u001b[0m\u001b[0;34m)\u001b[0m\u001b[0;34m\u001b[0m\u001b[0;34m\u001b[0m\u001b[0m\n\u001b[0m\u001b[1;32m    894\u001b[0m     \u001b[0;32mreturn\u001b[0m \u001b[0mak\u001b[0m\u001b[0;34m.\u001b[0m\u001b[0m_util\u001b[0m\u001b[0;34m.\u001b[0m\u001b[0mmaybe_wrap\u001b[0m\u001b[0;34m(\u001b[0m\u001b[0mout\u001b[0m\u001b[0;34m[\u001b[0m\u001b[0;36m0\u001b[0m\u001b[0;34m]\u001b[0m\u001b[0;34m,\u001b[0m \u001b[0mbehavior\u001b[0m\u001b[0;34m,\u001b[0m \u001b[0mhighlevel\u001b[0m\u001b[0;34m)\u001b[0m\u001b[0;34m\u001b[0m\u001b[0;34m\u001b[0m\u001b[0m\n\u001b[1;32m    895\u001b[0m \u001b[0;34m\u001b[0m\u001b[0m\n",
      "\u001b[0;31mRuntimeError\u001b[0m: Unable to cast Python instance to C++ type (#define PYBIND11_DETAILED_ERROR_MESSAGES or compile in debug mode for details)"
     ]
    }
   ],
   "source": [
    "hit_features, genparticle_to_hit, hit_idx_local_to_global = get_calohit_matrix_and_genadj(hit_data, calohit_links, iev, collectionIDs)"
   ]
  },
  {
   "cell_type": "code",
   "execution_count": 51,
   "metadata": {},
   "outputs": [],
   "source": [
    "    feats = [\"type\", \"cellID\", \"energy\", \"energyError\", \"time\", \"position.x\", \"position.y\", \"position.z\"]\n",
    "    \n",
    "    hit_idx_global = 0\n",
    "    hit_idx_global_to_local = {}\n",
    "    hit_feature_matrix = []\n"
   ]
  },
  {
   "cell_type": "code",
   "execution_count": null,
   "metadata": {},
   "outputs": [],
   "source": [
    "    for col in sorted(hit_data.keys()):\n",
    "        icol = collectionIDs[col]\n",
    "        hit_features = hits_to_features(hit_data[col], iev, col, feats)\n",
    "        hit_feature_matrix.append(hit_features)\n",
    "        for ihit in range(len(hit_data[col][col+\".energy\"][iev])):\n",
    "            hit_idx_global_to_local[hit_idx_global] = (icol, ihit)\n",
    "            hit_idx_global += 1\n",
    "    hit_idx_local_to_global = {v: k for k, v in hit_idx_global_to_local.items()}\n",
    "    hit_feature_matrix = awkward.Record({\n",
    "        k: awkward.concatenate([hit_feature_matrix[i][k] for i in range(len(hit_feature_matrix))]) for k in hit_feature_matrix[0].fields})\n"
   ]
  },
  {
   "cell_type": "code",
   "execution_count": 52,
   "metadata": {},
   "outputs": [
    {
     "data": {
      "text/plain": [
       "'ECALBarrel'"
      ]
     },
     "execution_count": 52,
     "metadata": {},
     "output_type": "execute_result"
    }
   ],
   "source": [
    "col"
   ]
  },
  {
   "cell_type": "code",
   "execution_count": 53,
   "metadata": {},
   "outputs": [
    {
     "data": {
      "text/plain": [
       "46"
      ]
     },
     "execution_count": 53,
     "metadata": {},
     "output_type": "execute_result"
    }
   ],
   "source": [
    "collectionIDs[col]"
   ]
  },
  {
   "cell_type": "code",
   "execution_count": 58,
   "metadata": {},
   "outputs": [
    {
     "data": {
      "text/plain": [
       "{'ECALBarrel': <Array [{'ECALBarrel.cellID': [, ... ] type='100 * {\"ECALBarrel.cellID\": var * u...'>,\n",
       " 'ECALEndcap': <Array [{'ECALEndcap.cellID': [, ... ] type='100 * {\"ECALEndcap.cellID\": var * u...'>,\n",
       " 'ECALOther': <Array [{'ECALOther.cellID': [, ... ] type='100 * {\"ECALOther.cellID\": var * uin...'>,\n",
       " 'HCALBarrel': <Array [{'HCALBarrel.cellID': [, ... ] type='100 * {\"HCALBarrel.cellID\": var * u...'>,\n",
       " 'HCALEndcap': <Array [{'HCALEndcap.cellID': [, ... ] type='100 * {\"HCALEndcap.cellID\": var * u...'>,\n",
       " 'HCALOther': <Array [{'HCALOther.cellID': [, ... ] type='100 * {\"HCALOther.cellID\": var * uin...'>,\n",
       " 'MUON': <Array [{'MUON.cellID': [], ... ] type='100 * {\"MUON.cellID\": var * uint64, \"MUO...'>}"
      ]
     },
     "execution_count": 58,
     "metadata": {},
     "output_type": "execute_result"
    }
   ],
   "source": [
    "hit_data"
   ]
  },
  {
   "cell_type": "code",
   "execution_count": null,
   "metadata": {},
   "outputs": [],
   "source": []
  },
  {
   "cell_type": "code",
   "execution_count": null,
   "metadata": {},
   "outputs": [],
   "source": [
    "def hits_to_features(hit_data, iev, coll, feats):\n",
    "    feat_arr = {f: hit_data[coll + \".\" + f][iev] for f in feats}\n",
    "\n",
    "    sdcoll = \"subdetector\"\n",
    "    feat_arr[sdcoll] = np.zeros(len(feat_arr[\"type\"]), dtype=np.int32)\n",
    "    if coll.startswith(\"ECAL\"):\n",
    "        feat_arr[sdcoll][:] = 0\n",
    "    elif coll.startswith(\"HCAL\"):\n",
    "        feat_arr[sdcoll][:] = 1\n",
    "    else:\n",
    "        feat_arr[sdcoll][:] = 2\n",
    "\n",
    "    pos_mag = np.sqrt(feat_arr[\"position.x\"]**2 + feat_arr[\"position.y\"]**2 + feat_arr[\"position.z\"]**2) \n",
    "    px = (feat_arr[\"position.x\"] / pos_mag) * feat_arr[\"energy\"]\n",
    "    py = (feat_arr[\"position.y\"] / pos_mag) * feat_arr[\"energy\"]\n",
    "    pz = (feat_arr[\"position.z\"] / pos_mag) * feat_arr[\"energy\"]\n",
    "    feat_arr[\"et\"] = np.sqrt(px**2+py**2)\n",
    "    feat_arr[\"eta\"] = 0.5*np.log((feat_arr[\"energy\"] + pz)/(feat_arr[\"energy\"] - pz))\n",
    "    feat_arr[\"sin_phi\"] = py/feat_arr[\"energy\"]\n",
    "    feat_arr[\"cos_phi\"] = px/feat_arr[\"energy\"]\n",
    "    return awkward.Record(feat_arr)"
   ]
  },
  {
   "cell_type": "code",
   "execution_count": null,
   "metadata": {},
   "outputs": [],
   "source": []
  },
  {
   "cell_type": "code",
   "execution_count": null,
   "metadata": {},
   "outputs": [],
   "source": []
  },
  {
   "cell_type": "code",
   "execution_count": null,
   "metadata": {},
   "outputs": [],
   "source": []
  },
  {
   "cell_type": "code",
   "execution_count": 23,
   "metadata": {},
   "outputs": [
    {
     "data": {
      "text/plain": [
       "<Array [1, 1, 1, 1, 1, 1, ... 1, 1, 1, 1, 1, 1] type='25 * float32'>"
      ]
     },
     "execution_count": 23,
     "metadata": {},
     "output_type": "execute_result"
    }
   ],
   "source": [
    "trk_to_gen_w"
   ]
  },
  {
   "cell_type": "code",
   "execution_count": 12,
   "metadata": {
    "scrolled": true
   },
   "outputs": [
    {
     "data": {
      "text/plain": [
       "{'type': array([1., 1., 1., 1., 1., 1., 1., 1., 1., 1., 1., 1., 1., 1., 1., 1., 1.,\n",
       "        1., 1., 1., 1., 1., 1., 1.], dtype=float32),\n",
       " 'chi2': <Array [11.5, 15, 33.1, ... 47.1, 11.9, 38.4] type='24 * float32'>,\n",
       " 'ndf': <Array [25, 19, 17, 17, 19, ... 9, 29, 25, 7] type='24 * int32'>,\n",
       " 'dEdx': <Array [0, 0, 0, 0, 0, 0, ... 0, 0, 0, 0, 0, 0] type='24 * float32'>,\n",
       " 'dEdxError': <Array [0, 0, 0, 0, 0, 0, ... 0, 0, 0, 0, 0, 0] type='24 * float32'>,\n",
       " 'radiusOfInnermostHit': <Array [31.7, 31.2, 31.2, ... 31.2, 34.2, 31.4] type='24 * float32'>,\n",
       " 'tanLambda': <Array [2.84, -0.731, -0.764, ... 4.8, -1.38] type='24 * float32'>,\n",
       " 'D0': <Array [0.00265, 0.00044, ... 0.145, -0.298] type='24 * float32'>,\n",
       " 'phi': <Array [2.94, -0.0317, 0.0552, ... -1.99, -1.8] type='24 * float32'>,\n",
       " 'omega': <Array [3.88e-05, -0.000135, ... -0.00846] type='24 * float32'>,\n",
       " 'Z0': <Array [-0.00233, -0.0105, ... 0.519, 0.385] type='24 * float32'>,\n",
       " 'time': <Array [-1, -1, -1, -1, -1, ... -1, -1, -1, -1] type='24 * float32'>,\n",
       " 'pt': <Array [31, 8.87, 4.25, ... 0.244, 0.142] type='24 * float32'>,\n",
       " 'px': <Array [-30.3, 8.87, ... -0.0999, -0.0328] type='24 * float32'>,\n",
       " 'py': <Array [6.23, -0.281, ... -0.223, -0.138] type='24 * float32'>,\n",
       " 'pz': <Array [87.9, -6.48, -3.25, ... 1.17, -0.195] type='24 * float32'>,\n",
       " 'p': <Array [93.2, 11, 5.35, ... 0.921, 1.2, 0.241] type='24 * float32'>,\n",
       " 'eta': array([ 1.7669692 , -0.6775958 , -0.7047    , -0.77930677, -0.7519894 ,\n",
       "         1.479194  , -0.72013515, -0.44319028,  1.7388083 , -0.6317906 ,\n",
       "        -1.3070824 , -0.05111348,  0.7764961 , -0.26184544, -0.8654558 ,\n",
       "         1.3157879 , -0.66438913, -0.40836942, -0.8186431 ,  0.53453714,\n",
       "        -0.21493928,  1.9260036 ,  2.2724514 , -1.1237843 ], dtype=float32),\n",
       " 'sin_phi': <Array [0.201, -0.0317, ... -0.912, -0.973] type='24 * float32'>,\n",
       " 'cos_phi': <Array [-0.98, 0.999, ... -0.409, -0.231] type='24 * float32'>}"
      ]
     },
     "execution_count": 12,
     "metadata": {},
     "output_type": "execute_result"
    }
   ],
   "source": [
    "ret"
   ]
  },
  {
   "cell_type": "code",
   "execution_count": 13,
   "metadata": {},
   "outputs": [
    {
     "data": {
      "text/plain": [
       "24"
      ]
     },
     "execution_count": 13,
     "metadata": {},
     "output_type": "execute_result"
    }
   ],
   "source": [
    "# number of tracks\n",
    "len(ret['p'])"
   ]
  },
  {
   "cell_type": "markdown",
   "metadata": {},
   "source": [
    "# Cluster features"
   ]
  },
  {
   "cell_type": "code",
   "execution_count": 55,
   "metadata": {},
   "outputs": [],
   "source": [
    "def hit_cluster_adj(prop_data, hit_idx_local_to_global, iev):\n",
    "    coll_arr = prop_data[\"PandoraClusters#1\"][\"PandoraClusters#1.collectionID\"][iev]\n",
    "    idx_arr = prop_data[\"PandoraClusters#1\"][\"PandoraClusters#1.index\"][iev]\n",
    "    hits_begin = prop_data[\"PandoraClusters\"][\"PandoraClusters.hits_begin\"][iev]\n",
    "    hits_end = prop_data[\"PandoraClusters\"][\"PandoraClusters.hits_end\"][iev]\n",
    "\n",
    "    #index in the array of all hits\n",
    "    hit_to_cluster_matrix_coo0 = []\n",
    "    #index in the cluster array\n",
    "    hit_to_cluster_matrix_coo1 = []\n",
    "\n",
    "    #weight\n",
    "    hit_to_cluster_matrix_w = []\n",
    "\n",
    "    #loop over all clusters\n",
    "    for icluster in range(len(hits_begin)):\n",
    "\n",
    "        #get the slice in the hit array corresponding to this cluster\n",
    "        hbeg = hits_begin[icluster]\n",
    "        hend = hits_end[icluster]\n",
    "        idx_range = idx_arr[hbeg:hend]\n",
    "        coll_range = coll_arr[hbeg:hend]\n",
    "\n",
    "        #add edges from hit to cluster\n",
    "        for icol, idx in zip(coll_range, idx_range):\n",
    "            hit_to_cluster_matrix_coo0.append(hit_idx_local_to_global[(icol, idx)])\n",
    "            hit_to_cluster_matrix_coo1.append(icluster)\n",
    "            hit_to_cluster_matrix_w.append(1.0)\n",
    "    return np.array(hit_to_cluster_matrix_coo0), np.array(hit_to_cluster_matrix_coo1), np.array(hit_to_cluster_matrix_w)\n",
    "\n",
    "def get_calohit_matrix_and_genadj(hit_data, calohit_links, iev, collectionIDs):\n",
    "    feats = [\"type\", \"cellID\", \"energy\", \"energyError\", \"time\", \"position.x\", \"position.y\", \"position.z\"]\n",
    "    \n",
    "    hit_idx_global = 0\n",
    "    hit_idx_global_to_local = {}\n",
    "    hit_feature_matrix = []\n",
    "    for col in sorted(hit_data.keys()):\n",
    "        icol = collectionIDs[col]\n",
    "        hit_features = hits_to_features(hit_data[col], iev, col, feats)\n",
    "        hit_feature_matrix.append(hit_features)\n",
    "        for ihit in range(len(hit_data[col][col+\".energy\"][iev])):\n",
    "            hit_idx_global_to_local[hit_idx_global] = (icol, ihit)\n",
    "            hit_idx_global += 1\n",
    "    hit_idx_local_to_global = {v: k for k, v in hit_idx_global_to_local.items()}\n",
    "    hit_feature_matrix = awkward.Record({\n",
    "        k: awkward.concatenate([hit_feature_matrix[i][k] for i in range(len(hit_feature_matrix))]) for k in hit_feature_matrix[0].fields})\n",
    "\n",
    "    #add all edges from genparticle to calohit\n",
    "    calohit_to_gen_weight = calohit_links[\"CalohitMCTruthLink\"][\"CalohitMCTruthLink.weight\"][iev]\n",
    "    calohit_to_gen_calo_colid = calohit_links[\"CalohitMCTruthLink#0\"][\"CalohitMCTruthLink#0.collectionID\"][iev]\n",
    "    calohit_to_gen_gen_colid = calohit_links[\"CalohitMCTruthLink#1\"][\"CalohitMCTruthLink#1.collectionID\"][iev]\n",
    "    calohit_to_gen_calo_idx = calohit_links[\"CalohitMCTruthLink#0\"][\"CalohitMCTruthLink#0.index\"][iev]\n",
    "    calohit_to_gen_gen_idx = calohit_links[\"CalohitMCTruthLink#1\"][\"CalohitMCTruthLink#1.index\"][iev]\n",
    "    genparticle_to_hit_matrix_coo0 = []\n",
    "    genparticle_to_hit_matrix_coo1 = []\n",
    "    genparticle_to_hit_matrix_w = []\n",
    "    for calo_colid, calo_idx, gen_colid, gen_idx, w in zip(calohit_to_gen_calo_colid, calohit_to_gen_calo_idx, calohit_to_gen_gen_colid, calohit_to_gen_gen_idx, calohit_to_gen_weight):\n",
    "        genparticle_to_hit_matrix_coo0.append(gen_idx)\n",
    "        genparticle_to_hit_matrix_coo1.append(hit_idx_local_to_global[(calo_colid, calo_idx)])\n",
    "        genparticle_to_hit_matrix_w.append(w)\n",
    "\n",
    "    return hit_feature_matrix, (genparticle_to_hit_matrix_coo0, genparticle_to_hit_matrix_coo1, genparticle_to_hit_matrix_w), hit_idx_local_to_global\n",
    "\n",
    "\n",
    "def hits_to_features(hit_data, iev, coll, feats):\n",
    "    feat_arr = {f: hit_data[coll + \".\" + f][iev] for f in feats}\n",
    "\n",
    "    sdcoll = \"subdetector\"\n",
    "    feat_arr[sdcoll] = np.zeros(len(feat_arr[\"type\"]), dtype=np.int32)\n",
    "    if coll.startswith(\"ECAL\"):\n",
    "        feat_arr[sdcoll][:] = 0\n",
    "    elif coll.startswith(\"HCAL\"):\n",
    "        feat_arr[sdcoll][:] = 1\n",
    "    else:\n",
    "        feat_arr[sdcoll][:] = 2\n",
    "\n",
    "    pos_mag = np.sqrt(feat_arr[\"position.x\"]**2 + feat_arr[\"position.y\"]**2 + feat_arr[\"position.z\"]**2) \n",
    "    px = (feat_arr[\"position.x\"] / pos_mag) * feat_arr[\"energy\"]\n",
    "    py = (feat_arr[\"position.y\"] / pos_mag) * feat_arr[\"energy\"]\n",
    "    pz = (feat_arr[\"position.z\"] / pos_mag) * feat_arr[\"energy\"]\n",
    "    feat_arr[\"et\"] = np.sqrt(px**2+py**2)\n",
    "    feat_arr[\"eta\"] = 0.5*np.log((feat_arr[\"energy\"] + pz)/(feat_arr[\"energy\"] - pz))\n",
    "    feat_arr[\"sin_phi\"] = py/feat_arr[\"energy\"]\n",
    "    feat_arr[\"cos_phi\"] = px/feat_arr[\"energy\"]\n",
    "    return awkward.Record(feat_arr)"
   ]
  },
  {
   "cell_type": "code",
   "execution_count": 49,
   "metadata": {},
   "outputs": [
    {
     "ename": "RuntimeError",
     "evalue": "Unable to cast Python instance to C++ type (#define PYBIND11_DETAILED_ERROR_MESSAGES or compile in debug mode for details)",
     "output_type": "error",
     "traceback": [
      "\u001b[0;31m---------------------------------------------------------------------------\u001b[0m",
      "\u001b[0;31mRuntimeError\u001b[0m                              Traceback (most recent call last)",
      "\u001b[0;32m<ipython-input-49-3ccf7b1d328d>\u001b[0m in \u001b[0;36m<module>\u001b[0;34m\u001b[0m\n\u001b[1;32m     19\u001b[0m \u001b[0msitrack_links\u001b[0m \u001b[0;34m=\u001b[0m \u001b[0marrs\u001b[0m\u001b[0;34m.\u001b[0m\u001b[0marrays\u001b[0m\u001b[0;34m(\u001b[0m\u001b[0;34m[\u001b[0m\u001b[0;34m\"SiTracksMCTruthLink\"\u001b[0m\u001b[0;34m,\u001b[0m \u001b[0;34m\"SiTracksMCTruthLink#0\"\u001b[0m\u001b[0;34m,\u001b[0m \u001b[0;34m\"SiTracksMCTruthLink#1\"\u001b[0m\u001b[0;34m]\u001b[0m\u001b[0;34m)\u001b[0m\u001b[0;34m\u001b[0m\u001b[0;34m\u001b[0m\u001b[0m\n\u001b[1;32m     20\u001b[0m \u001b[0;34m\u001b[0m\u001b[0m\n\u001b[0;32m---> 21\u001b[0;31m \u001b[0mhit_features\u001b[0m\u001b[0;34m,\u001b[0m \u001b[0mgenparticle_to_hit\u001b[0m\u001b[0;34m,\u001b[0m \u001b[0mhit_idx_local_to_global\u001b[0m \u001b[0;34m=\u001b[0m \u001b[0mget_calohit_matrix_and_genadj\u001b[0m\u001b[0;34m(\u001b[0m\u001b[0mhit_data\u001b[0m\u001b[0;34m,\u001b[0m \u001b[0mcalohit_links\u001b[0m\u001b[0;34m,\u001b[0m \u001b[0miev\u001b[0m\u001b[0;34m,\u001b[0m \u001b[0mcollectionIDs\u001b[0m\u001b[0;34m)\u001b[0m\u001b[0;34m\u001b[0m\u001b[0;34m\u001b[0m\u001b[0m\n\u001b[0m\u001b[1;32m     22\u001b[0m \u001b[0;34m\u001b[0m\u001b[0m\n\u001b[1;32m     23\u001b[0m \u001b[0mhit_to_cluster\u001b[0m \u001b[0;34m=\u001b[0m \u001b[0mhit_cluster_adj\u001b[0m\u001b[0;34m(\u001b[0m\u001b[0mprop_data\u001b[0m\u001b[0;34m,\u001b[0m \u001b[0mhit_idx_local_to_global\u001b[0m\u001b[0;34m,\u001b[0m \u001b[0miev\u001b[0m\u001b[0;34m)\u001b[0m\u001b[0;34m\u001b[0m\u001b[0;34m\u001b[0m\u001b[0m\n",
      "\u001b[0;32m<ipython-input-48-faa1b4465d6d>\u001b[0m in \u001b[0;36mget_calohit_matrix_and_genadj\u001b[0;34m(hit_data, calohit_links, iev, collectionIDs)\u001b[0m\n\u001b[1;32m     37\u001b[0m     \u001b[0;32mfor\u001b[0m \u001b[0mcol\u001b[0m \u001b[0;32min\u001b[0m \u001b[0msorted\u001b[0m\u001b[0;34m(\u001b[0m\u001b[0mhit_data\u001b[0m\u001b[0;34m.\u001b[0m\u001b[0mkeys\u001b[0m\u001b[0;34m(\u001b[0m\u001b[0;34m)\u001b[0m\u001b[0;34m)\u001b[0m\u001b[0;34m:\u001b[0m\u001b[0;34m\u001b[0m\u001b[0;34m\u001b[0m\u001b[0m\n\u001b[1;32m     38\u001b[0m         \u001b[0micol\u001b[0m \u001b[0;34m=\u001b[0m \u001b[0mcollectionIDs\u001b[0m\u001b[0;34m[\u001b[0m\u001b[0mcol\u001b[0m\u001b[0;34m]\u001b[0m\u001b[0;34m\u001b[0m\u001b[0;34m\u001b[0m\u001b[0m\n\u001b[0;32m---> 39\u001b[0;31m         \u001b[0mhit_features\u001b[0m \u001b[0;34m=\u001b[0m \u001b[0mhits_to_features\u001b[0m\u001b[0;34m(\u001b[0m\u001b[0mhit_data\u001b[0m\u001b[0;34m[\u001b[0m\u001b[0mcol\u001b[0m\u001b[0;34m]\u001b[0m\u001b[0;34m,\u001b[0m \u001b[0miev\u001b[0m\u001b[0;34m,\u001b[0m \u001b[0mcol\u001b[0m\u001b[0;34m,\u001b[0m \u001b[0mfeats\u001b[0m\u001b[0;34m)\u001b[0m\u001b[0;34m\u001b[0m\u001b[0;34m\u001b[0m\u001b[0m\n\u001b[0m\u001b[1;32m     40\u001b[0m         \u001b[0mhit_feature_matrix\u001b[0m\u001b[0;34m.\u001b[0m\u001b[0mappend\u001b[0m\u001b[0;34m(\u001b[0m\u001b[0mhit_features\u001b[0m\u001b[0;34m)\u001b[0m\u001b[0;34m\u001b[0m\u001b[0;34m\u001b[0m\u001b[0m\n\u001b[1;32m     41\u001b[0m         \u001b[0;32mfor\u001b[0m \u001b[0mihit\u001b[0m \u001b[0;32min\u001b[0m \u001b[0mrange\u001b[0m\u001b[0;34m(\u001b[0m\u001b[0mlen\u001b[0m\u001b[0;34m(\u001b[0m\u001b[0mhit_data\u001b[0m\u001b[0;34m[\u001b[0m\u001b[0mcol\u001b[0m\u001b[0;34m]\u001b[0m\u001b[0;34m[\u001b[0m\u001b[0mcol\u001b[0m\u001b[0;34m+\u001b[0m\u001b[0;34m\".energy\"\u001b[0m\u001b[0;34m]\u001b[0m\u001b[0;34m[\u001b[0m\u001b[0miev\u001b[0m\u001b[0;34m]\u001b[0m\u001b[0;34m)\u001b[0m\u001b[0;34m)\u001b[0m\u001b[0;34m:\u001b[0m\u001b[0;34m\u001b[0m\u001b[0;34m\u001b[0m\u001b[0m\n",
      "\u001b[0;32m<ipython-input-48-faa1b4465d6d>\u001b[0m in \u001b[0;36mhits_to_features\u001b[0;34m(hit_data, iev, coll, feats)\u001b[0m\n\u001b[1;32m     84\u001b[0m     \u001b[0mfeat_arr\u001b[0m\u001b[0;34m[\u001b[0m\u001b[0;34m\"sin_phi\"\u001b[0m\u001b[0;34m]\u001b[0m \u001b[0;34m=\u001b[0m \u001b[0mpy\u001b[0m\u001b[0;34m/\u001b[0m\u001b[0mfeat_arr\u001b[0m\u001b[0;34m[\u001b[0m\u001b[0;34m\"energy\"\u001b[0m\u001b[0;34m]\u001b[0m\u001b[0;34m\u001b[0m\u001b[0;34m\u001b[0m\u001b[0m\n\u001b[1;32m     85\u001b[0m     \u001b[0mfeat_arr\u001b[0m\u001b[0;34m[\u001b[0m\u001b[0;34m\"cos_phi\"\u001b[0m\u001b[0;34m]\u001b[0m \u001b[0;34m=\u001b[0m \u001b[0mpx\u001b[0m\u001b[0;34m/\u001b[0m\u001b[0mfeat_arr\u001b[0m\u001b[0;34m[\u001b[0m\u001b[0;34m\"energy\"\u001b[0m\u001b[0;34m]\u001b[0m\u001b[0;34m\u001b[0m\u001b[0;34m\u001b[0m\u001b[0m\n\u001b[0;32m---> 86\u001b[0;31m     \u001b[0;32mreturn\u001b[0m \u001b[0mawkward\u001b[0m\u001b[0;34m.\u001b[0m\u001b[0mRecord\u001b[0m\u001b[0;34m(\u001b[0m\u001b[0mfeat_arr\u001b[0m\u001b[0;34m)\u001b[0m\u001b[0;34m\u001b[0m\u001b[0;34m\u001b[0m\u001b[0m\n\u001b[0m",
      "\u001b[0;32m/opt/anaconda3/envs/coffea-env/lib/python3.8/site-packages/awkward/highlevel.py\u001b[0m in \u001b[0;36m__init__\u001b[0;34m(self, data, behavior, with_name, check_valid, cache, kernels)\u001b[0m\n\u001b[1;32m   1555\u001b[0m \u001b[0;34m\u001b[0m\u001b[0m\n\u001b[1;32m   1556\u001b[0m         \u001b[0;32melif\u001b[0m \u001b[0misinstance\u001b[0m\u001b[0;34m(\u001b[0m\u001b[0mdata\u001b[0m\u001b[0;34m,\u001b[0m \u001b[0mdict\u001b[0m\u001b[0;34m)\u001b[0m\u001b[0;34m:\u001b[0m\u001b[0;34m\u001b[0m\u001b[0;34m\u001b[0m\u001b[0m\n\u001b[0;32m-> 1557\u001b[0;31m             \u001b[0mlayout\u001b[0m \u001b[0;34m=\u001b[0m \u001b[0mak\u001b[0m\u001b[0;34m.\u001b[0m\u001b[0moperations\u001b[0m\u001b[0;34m.\u001b[0m\u001b[0mconvert\u001b[0m\u001b[0;34m.\u001b[0m\u001b[0mfrom_iter\u001b[0m\u001b[0;34m(\u001b[0m\u001b[0;34m[\u001b[0m\u001b[0mdata\u001b[0m\u001b[0;34m]\u001b[0m\u001b[0;34m,\u001b[0m \u001b[0mhighlevel\u001b[0m\u001b[0;34m=\u001b[0m\u001b[0;32mFalse\u001b[0m\u001b[0;34m)\u001b[0m\u001b[0;34m[\u001b[0m\u001b[0;36m0\u001b[0m\u001b[0;34m]\u001b[0m\u001b[0;34m\u001b[0m\u001b[0;34m\u001b[0m\u001b[0m\n\u001b[0m\u001b[1;32m   1558\u001b[0m \u001b[0;34m\u001b[0m\u001b[0m\n\u001b[1;32m   1559\u001b[0m         \u001b[0;32melif\u001b[0m \u001b[0misinstance\u001b[0m\u001b[0;34m(\u001b[0m\u001b[0mdata\u001b[0m\u001b[0;34m,\u001b[0m \u001b[0mIterable\u001b[0m\u001b[0;34m)\u001b[0m\u001b[0;34m:\u001b[0m\u001b[0;34m\u001b[0m\u001b[0;34m\u001b[0m\u001b[0m\n",
      "\u001b[0;32m/opt/anaconda3/envs/coffea-env/lib/python3.8/site-packages/awkward/operations/convert.py\u001b[0m in \u001b[0;36mfrom_iter\u001b[0;34m(iterable, highlevel, behavior, allow_record, initial, resize)\u001b[0m\n\u001b[1;32m    891\u001b[0m \u001b[0;34m\u001b[0m\u001b[0m\n\u001b[1;32m    892\u001b[0m     \u001b[0mout\u001b[0m \u001b[0;34m=\u001b[0m \u001b[0mak\u001b[0m\u001b[0;34m.\u001b[0m\u001b[0mlayout\u001b[0m\u001b[0;34m.\u001b[0m\u001b[0mArrayBuilder\u001b[0m\u001b[0;34m(\u001b[0m\u001b[0minitial\u001b[0m\u001b[0;34m=\u001b[0m\u001b[0minitial\u001b[0m\u001b[0;34m,\u001b[0m \u001b[0mresize\u001b[0m\u001b[0;34m=\u001b[0m\u001b[0mresize\u001b[0m\u001b[0;34m)\u001b[0m\u001b[0;34m\u001b[0m\u001b[0;34m\u001b[0m\u001b[0m\n\u001b[0;32m--> 893\u001b[0;31m     \u001b[0mout\u001b[0m\u001b[0;34m.\u001b[0m\u001b[0mfromiter\u001b[0m\u001b[0;34m(\u001b[0m\u001b[0miterable\u001b[0m\u001b[0;34m)\u001b[0m\u001b[0;34m\u001b[0m\u001b[0;34m\u001b[0m\u001b[0m\n\u001b[0m\u001b[1;32m    894\u001b[0m     \u001b[0;32mreturn\u001b[0m \u001b[0mak\u001b[0m\u001b[0;34m.\u001b[0m\u001b[0m_util\u001b[0m\u001b[0;34m.\u001b[0m\u001b[0mmaybe_wrap\u001b[0m\u001b[0;34m(\u001b[0m\u001b[0mout\u001b[0m\u001b[0;34m[\u001b[0m\u001b[0;36m0\u001b[0m\u001b[0;34m]\u001b[0m\u001b[0;34m,\u001b[0m \u001b[0mbehavior\u001b[0m\u001b[0;34m,\u001b[0m \u001b[0mhighlevel\u001b[0m\u001b[0;34m)\u001b[0m\u001b[0;34m\u001b[0m\u001b[0;34m\u001b[0m\u001b[0m\n\u001b[1;32m    895\u001b[0m \u001b[0;34m\u001b[0m\u001b[0m\n",
      "\u001b[0;31mRuntimeError\u001b[0m: Unable to cast Python instance to C++ type (#define PYBIND11_DETAILED_ERROR_MESSAGES or compile in debug mode for details)"
     ]
    }
   ],
   "source": [
    "hit_data = {\n",
    "    \"ECALBarrel\": arrs[\"ECALBarrel\"].array(),\n",
    "    \"ECALEndcap\": arrs[\"ECALEndcap\"].array(),\n",
    "    \"ECALOther\": arrs[\"ECALOther\"].array(),\n",
    "    \"HCALBarrel\": arrs[\"HCALBarrel\"].array(),\n",
    "    \"HCALEndcap\": arrs[\"HCALEndcap\"].array(),\n",
    "    \"HCALOther\": arrs[\"HCALOther\"].array(),\n",
    "    \"MUON\": arrs[\"MUON\"].array(),\n",
    "}\n",
    "\n",
    "\n",
    "collectionIDs = {k: v for k, v in\n",
    "    zip(fi.get(\"metadata\").arrays(\"CollectionIDs\")[\"CollectionIDs\"][\"m_names\"][0],\n",
    "    fi.get(\"metadata\").arrays(\"CollectionIDs\")[\"CollectionIDs\"][\"m_collectionIDs\"][0])}\n",
    "collectionIDs_reverse = {v: k for k, v in collectionIDs.items()}\n",
    "\n",
    "prop_data = arrs.arrays([mc_coll, track_coll, \"SiTracks_1\", \"PandoraClusters\", \"PandoraClusters#1\", \"PandoraClusters#0\", \"MergedRecoParticles\"])\n",
    "calohit_links = arrs.arrays([\"CalohitMCTruthLink\", \"CalohitMCTruthLink#0\", \"CalohitMCTruthLink#1\"])\n",
    "sitrack_links = arrs.arrays([\"SiTracksMCTruthLink\", \"SiTracksMCTruthLink#0\", \"SiTracksMCTruthLink#1\"])\n",
    "    \n",
    "hit_features, genparticle_to_hit, hit_idx_local_to_global = get_calohit_matrix_and_genadj(hit_data, calohit_links, iev, collectionIDs)\n",
    "    \n",
    "hit_to_cluster = hit_cluster_adj(prop_data, hit_idx_local_to_global, iev)"
   ]
  },
  {
   "cell_type": "code",
   "execution_count": null,
   "metadata": {},
   "outputs": [],
   "source": []
  },
  {
   "cell_type": "code",
   "execution_count": null,
   "metadata": {},
   "outputs": [],
   "source": []
  },
  {
   "cell_type": "code",
   "execution_count": 56,
   "metadata": {},
   "outputs": [
    {
     "ename": "NameError",
     "evalue": "name 'coll' is not defined",
     "output_type": "error",
     "traceback": [
      "\u001b[0;31m---------------------------------------------------------------------------\u001b[0m",
      "\u001b[0;31mNameError\u001b[0m                                 Traceback (most recent call last)",
      "\u001b[0;32m<ipython-input-56-30479529210e>\u001b[0m in \u001b[0;36m<module>\u001b[0;34m\u001b[0m\n\u001b[0;32m----> 1\u001b[0;31m \u001b[0mfeat_arr\u001b[0m \u001b[0;34m=\u001b[0m \u001b[0;34m{\u001b[0m\u001b[0mf\u001b[0m\u001b[0;34m:\u001b[0m \u001b[0mhit_data\u001b[0m\u001b[0;34m[\u001b[0m\u001b[0mcoll\u001b[0m \u001b[0;34m+\u001b[0m \u001b[0;34m\".\"\u001b[0m \u001b[0;34m+\u001b[0m \u001b[0mf\u001b[0m\u001b[0;34m]\u001b[0m\u001b[0;34m[\u001b[0m\u001b[0miev\u001b[0m\u001b[0;34m]\u001b[0m \u001b[0;32mfor\u001b[0m \u001b[0mf\u001b[0m \u001b[0;32min\u001b[0m \u001b[0mfeats\u001b[0m\u001b[0;34m}\u001b[0m\u001b[0;34m\u001b[0m\u001b[0;34m\u001b[0m\u001b[0m\n\u001b[0m\u001b[1;32m      2\u001b[0m \u001b[0;34m\u001b[0m\u001b[0m\n\u001b[1;32m      3\u001b[0m \u001b[0msdcoll\u001b[0m \u001b[0;34m=\u001b[0m \u001b[0;34m\"subdetector\"\u001b[0m\u001b[0;34m\u001b[0m\u001b[0;34m\u001b[0m\u001b[0m\n\u001b[1;32m      4\u001b[0m \u001b[0mfeat_arr\u001b[0m\u001b[0;34m[\u001b[0m\u001b[0msdcoll\u001b[0m\u001b[0;34m]\u001b[0m \u001b[0;34m=\u001b[0m \u001b[0mnp\u001b[0m\u001b[0;34m.\u001b[0m\u001b[0mzeros\u001b[0m\u001b[0;34m(\u001b[0m\u001b[0mlen\u001b[0m\u001b[0;34m(\u001b[0m\u001b[0mfeat_arr\u001b[0m\u001b[0;34m[\u001b[0m\u001b[0;34m\"type\"\u001b[0m\u001b[0;34m]\u001b[0m\u001b[0;34m)\u001b[0m\u001b[0;34m,\u001b[0m \u001b[0mdtype\u001b[0m\u001b[0;34m=\u001b[0m\u001b[0mnp\u001b[0m\u001b[0;34m.\u001b[0m\u001b[0mint32\u001b[0m\u001b[0;34m)\u001b[0m\u001b[0;34m\u001b[0m\u001b[0;34m\u001b[0m\u001b[0m\n\u001b[1;32m      5\u001b[0m \u001b[0;32mif\u001b[0m \u001b[0mcoll\u001b[0m\u001b[0;34m.\u001b[0m\u001b[0mstartswith\u001b[0m\u001b[0;34m(\u001b[0m\u001b[0;34m\"ECAL\"\u001b[0m\u001b[0;34m)\u001b[0m\u001b[0;34m:\u001b[0m\u001b[0;34m\u001b[0m\u001b[0;34m\u001b[0m\u001b[0m\n",
      "\u001b[0;32m<ipython-input-56-30479529210e>\u001b[0m in \u001b[0;36m<dictcomp>\u001b[0;34m(.0)\u001b[0m\n\u001b[0;32m----> 1\u001b[0;31m \u001b[0mfeat_arr\u001b[0m \u001b[0;34m=\u001b[0m \u001b[0;34m{\u001b[0m\u001b[0mf\u001b[0m\u001b[0;34m:\u001b[0m \u001b[0mhit_data\u001b[0m\u001b[0;34m[\u001b[0m\u001b[0mcoll\u001b[0m \u001b[0;34m+\u001b[0m \u001b[0;34m\".\"\u001b[0m \u001b[0;34m+\u001b[0m \u001b[0mf\u001b[0m\u001b[0;34m]\u001b[0m\u001b[0;34m[\u001b[0m\u001b[0miev\u001b[0m\u001b[0;34m]\u001b[0m \u001b[0;32mfor\u001b[0m \u001b[0mf\u001b[0m \u001b[0;32min\u001b[0m \u001b[0mfeats\u001b[0m\u001b[0;34m}\u001b[0m\u001b[0;34m\u001b[0m\u001b[0;34m\u001b[0m\u001b[0m\n\u001b[0m\u001b[1;32m      2\u001b[0m \u001b[0;34m\u001b[0m\u001b[0m\n\u001b[1;32m      3\u001b[0m \u001b[0msdcoll\u001b[0m \u001b[0;34m=\u001b[0m \u001b[0;34m\"subdetector\"\u001b[0m\u001b[0;34m\u001b[0m\u001b[0;34m\u001b[0m\u001b[0m\n\u001b[1;32m      4\u001b[0m \u001b[0mfeat_arr\u001b[0m\u001b[0;34m[\u001b[0m\u001b[0msdcoll\u001b[0m\u001b[0;34m]\u001b[0m \u001b[0;34m=\u001b[0m \u001b[0mnp\u001b[0m\u001b[0;34m.\u001b[0m\u001b[0mzeros\u001b[0m\u001b[0;34m(\u001b[0m\u001b[0mlen\u001b[0m\u001b[0;34m(\u001b[0m\u001b[0mfeat_arr\u001b[0m\u001b[0;34m[\u001b[0m\u001b[0;34m\"type\"\u001b[0m\u001b[0;34m]\u001b[0m\u001b[0;34m)\u001b[0m\u001b[0;34m,\u001b[0m \u001b[0mdtype\u001b[0m\u001b[0;34m=\u001b[0m\u001b[0mnp\u001b[0m\u001b[0;34m.\u001b[0m\u001b[0mint32\u001b[0m\u001b[0;34m)\u001b[0m\u001b[0;34m\u001b[0m\u001b[0;34m\u001b[0m\u001b[0m\n\u001b[1;32m      5\u001b[0m \u001b[0;32mif\u001b[0m \u001b[0mcoll\u001b[0m\u001b[0;34m.\u001b[0m\u001b[0mstartswith\u001b[0m\u001b[0;34m(\u001b[0m\u001b[0;34m\"ECAL\"\u001b[0m\u001b[0;34m)\u001b[0m\u001b[0;34m:\u001b[0m\u001b[0;34m\u001b[0m\u001b[0;34m\u001b[0m\u001b[0m\n",
      "\u001b[0;31mNameError\u001b[0m: name 'coll' is not defined"
     ]
    }
   ],
   "source": []
  },
  {
   "cell_type": "code",
   "execution_count": null,
   "metadata": {},
   "outputs": [],
   "source": []
  },
  {
   "cell_type": "code",
   "execution_count": null,
   "metadata": {},
   "outputs": [],
   "source": []
  },
  {
   "cell_type": "code",
   "execution_count": null,
   "metadata": {},
   "outputs": [],
   "source": []
  },
  {
   "cell_type": "code",
   "execution_count": null,
   "metadata": {},
   "outputs": [],
   "source": []
  },
  {
   "cell_type": "code",
   "execution_count": 136,
   "metadata": {},
   "outputs": [
    {
     "ename": "NameError",
     "evalue": "name 'hit_to_cluster' is not defined",
     "output_type": "error",
     "traceback": [
      "\u001b[0;31m---------------------------------------------------------------------------\u001b[0m",
      "\u001b[0;31mNameError\u001b[0m                                 Traceback (most recent call last)",
      "\u001b[0;32m<ipython-input-136-821e4dd7e920>\u001b[0m in \u001b[0;36m<module>\u001b[0;34m\u001b[0m\n\u001b[1;32m      3\u001b[0m \u001b[0mret\u001b[0m \u001b[0;34m=\u001b[0m \u001b[0;34m{\u001b[0m\u001b[0mfeat\u001b[0m\u001b[0;34m:\u001b[0m \u001b[0mcluster_arr\u001b[0m\u001b[0;34m[\u001b[0m\u001b[0;34m\"PandoraClusters.\"\u001b[0m \u001b[0;34m+\u001b[0m \u001b[0mfeat\u001b[0m\u001b[0;34m]\u001b[0m \u001b[0;32mfor\u001b[0m \u001b[0mfeat\u001b[0m \u001b[0;32min\u001b[0m \u001b[0mfeats\u001b[0m\u001b[0;34m}\u001b[0m\u001b[0;34m\u001b[0m\u001b[0;34m\u001b[0m\u001b[0m\n\u001b[1;32m      4\u001b[0m \u001b[0;34m\u001b[0m\u001b[0m\n\u001b[0;32m----> 5\u001b[0;31m \u001b[0mhit_idx\u001b[0m \u001b[0;34m=\u001b[0m \u001b[0mnp\u001b[0m\u001b[0;34m.\u001b[0m\u001b[0marray\u001b[0m\u001b[0;34m(\u001b[0m\u001b[0mhit_to_cluster\u001b[0m\u001b[0;34m[\u001b[0m\u001b[0;36m0\u001b[0m\u001b[0;34m]\u001b[0m\u001b[0;34m)\u001b[0m\u001b[0;34m\u001b[0m\u001b[0;34m\u001b[0m\u001b[0m\n\u001b[0m\u001b[1;32m      6\u001b[0m \u001b[0mcluster_idx\u001b[0m \u001b[0;34m=\u001b[0m \u001b[0mnp\u001b[0m\u001b[0;34m.\u001b[0m\u001b[0marray\u001b[0m\u001b[0;34m(\u001b[0m\u001b[0mhit_to_cluster\u001b[0m\u001b[0;34m[\u001b[0m\u001b[0;36m1\u001b[0m\u001b[0;34m]\u001b[0m\u001b[0;34m)\u001b[0m\u001b[0;34m\u001b[0m\u001b[0;34m\u001b[0m\u001b[0m\n\u001b[1;32m      7\u001b[0m \u001b[0mcl_energy_ecal\u001b[0m \u001b[0;34m=\u001b[0m \u001b[0;34m[\u001b[0m\u001b[0;34m]\u001b[0m\u001b[0;34m\u001b[0m\u001b[0;34m\u001b[0m\u001b[0m\n",
      "\u001b[0;31mNameError\u001b[0m: name 'hit_to_cluster' is not defined"
     ]
    }
   ],
   "source": [
    "cluster_arr = prop_data[\"PandoraClusters\"][iev]\n",
    "feats = [\"type\", \"position.x\", \"position.y\", \"position.z\", \"iTheta\", \"phi\", \"energy\"]\n",
    "ret = {feat: cluster_arr[\"PandoraClusters.\" + feat] for feat in feats}\n",
    "\n",
    "hit_idx = np.array(hit_to_cluster[0])\n",
    "cluster_idx = np.array(hit_to_cluster[1])\n",
    "cl_energy_ecal = []\n",
    "cl_energy_hcal = []\n",
    "cl_energy_other = []\n",
    "num_hits = []\n",
    "cl_sigma_x = []\n",
    "cl_sigma_y = []\n",
    "cl_sigma_z = []\n",
    "\n",
    "n_cl = len(ret[\"energy\"])\n",
    "for cl in range(n_cl):\n",
    "    msk_cl = cluster_idx == cl\n",
    "    hits = hit_idx[msk_cl]\n",
    "\n",
    "    num_hits.append(len(hits))\n",
    "\n",
    "    subdets = hit_features[\"subdetector\"][hits]\n",
    "\n",
    "    hits_energy = hit_features[\"energy\"][hits]\n",
    "\n",
    "    hits_posx = hit_features[\"position.x\"][hits]\n",
    "    hits_posy = hit_features[\"position.y\"][hits]\n",
    "    hits_posz = hit_features[\"position.z\"][hits]\n",
    "\n",
    "    energy_ecal = np.sum(hits_energy[subdets==0])\n",
    "    energy_hcal = np.sum(hits_energy[subdets==1])\n",
    "    energy_other = np.sum(hits_energy[subdets==2])\n",
    "\n",
    "    cl_energy_ecal.append(energy_ecal)\n",
    "    cl_energy_hcal.append(energy_hcal)\n",
    "    cl_energy_other.append(energy_other)\n",
    "\n",
    "    cl_sigma_x.append(np.std(hits_posx))\n",
    "    cl_sigma_y.append(np.std(hits_posy))\n",
    "    cl_sigma_z.append(np.std(hits_posz))\n",
    "\n",
    "ret[\"energy_ecal\"] = np.array(cl_energy_ecal)\n",
    "ret[\"energy_hcal\"] = np.array(cl_energy_hcal)\n",
    "ret[\"energy_other\"] = np.array(cl_energy_other)\n",
    "ret[\"num_hits\"] = np.array(num_hits)\n",
    "ret[\"sigma_x\"] = np.array(cl_sigma_x)\n",
    "ret[\"sigma_y\"] = np.array(cl_sigma_y)\n",
    "ret[\"sigma_z\"] = np.array(cl_sigma_z)\n",
    "\n",
    "tt = np.tan(ret[\"iTheta\"] / 2.0)\n",
    "eta = awkward.to_numpy(-np.log(tt, where=tt>0))\n",
    "eta[tt<=0] = 0.0\n",
    "ret[\"eta\"] = eta\n",
    "\n",
    "costheta = np.cos(ret[\"iTheta\"])\n",
    "ez = ret[\"energy\"]*costheta\n",
    "ret[\"et\"]  = np.sqrt(ret[\"energy\"]**2 - ez**2)\n",
    "\n",
    "#override cluster type with 1\n",
    "ret[\"type\"] = 2*np.ones(n_cl, dtype=np.float32)\n",
    "\n",
    "ret[\"sin_phi\"] = np.sin(ret[\"phi\"])\n",
    "ret[\"cos_phi\"] = np.cos(ret[\"phi\"])\n",
    "\n",
    "awkward.Record(ret)"
   ]
  },
  {
   "cell_type": "code",
   "execution_count": null,
   "metadata": {},
   "outputs": [],
   "source": []
  }
 ],
 "metadata": {
  "kernelspec": {
   "display_name": "mlpf",
   "language": "python",
   "name": "mlpf"
  },
  "language_info": {
   "codemirror_mode": {
    "name": "ipython",
    "version": 3
   },
   "file_extension": ".py",
   "mimetype": "text/x-python",
   "name": "python",
   "nbconvert_exporter": "python",
   "pygments_lexer": "ipython3",
   "version": "3.8.3"
  }
 },
 "nbformat": 4,
 "nbformat_minor": 5
}
