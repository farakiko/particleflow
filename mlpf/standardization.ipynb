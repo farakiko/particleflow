{
 "cells": [
  {
   "cell_type": "code",
   "execution_count": 69,
   "metadata": {},
   "outputs": [],
   "source": [
    "import torch\n",
    "import numpy as np\n",
    "import pandas as pd\n",
    "import awkward\n",
    "import awkward as ak\n",
    "import matplotlib.pyplot as plt\n",
    "import mplhep as hep\n",
    "plt.style.use(hep.style.CMS)\n",
    "plt.rcParams.update({\"font.size\": 20})\n",
    "\n",
    "import uproot\n",
    "import vector\n",
    "import glob\n",
    "import tqdm\n",
    "import os\n",
    "import sys\n",
    "import multiprocessing\n",
    "from scipy.sparse import coo_matrix\n",
    "\n",
    "import torch_geometric\n",
    "from pyg.ssl.utils import data_split"
   ]
  },
  {
   "cell_type": "code",
   "execution_count": 4,
   "metadata": {},
   "outputs": [
    {
     "name": "stdout",
     "output_type": "stream",
     "text": [
      "\u001b[34mp8_ee_tt_ecm380\u001b[m\u001b[m\r\n"
     ]
    }
   ],
   "source": [
    "! ls ../data/new_clic/"
   ]
  },
  {
   "cell_type": "code",
   "execution_count": 70,
   "metadata": {},
   "outputs": [],
   "source": [
    "data_path = \"../data/new_clic/\"\n",
    "data_split_mode = \"mix\""
   ]
  },
  {
   "cell_type": "code",
   "execution_count": 7,
   "metadata": {},
   "outputs": [
    {
     "name": "stdout",
     "output_type": "stream",
     "text": [
      "Will use data split mode `mix`\n",
      "Will use 24235 events to train VICReg\n",
      "Will use 2693 events to validate VICReg\n",
      "Will use 6059 events to train MLPF\n",
      "Will use 673 events to validate MLPF\n",
      "Will use 3740 events to test MLPF on TTbar\n",
      "Will use 0 events to test MLPF on QCD\n"
     ]
    }
   ],
   "source": [
    "data_VICReg_train, data_VICReg_valid, data_mlpf_train, data_mlpf_valid, data_test_qcd, data_test_ttbar = data_split(\n",
    "        data_path, data_split_mode\n",
    "    )"
   ]
  },
  {
   "cell_type": "code",
   "execution_count": 8,
   "metadata": {},
   "outputs": [],
   "source": [
    "data = data_VICReg_train+data_VICReg_valid+data_mlpf_train+data_mlpf_valid"
   ]
  },
  {
   "cell_type": "code",
   "execution_count": 75,
   "metadata": {},
   "outputs": [
    {
     "name": "stdout",
     "output_type": "stream",
     "text": [
      "events contain all\n"
     ]
    }
   ],
   "source": [
    "loader = torch_geometric.loader.DataLoader(data, 1000000000000)\n",
    "for events in loader:\n",
    "    print(\"events contain all\")"
   ]
  },
  {
   "cell_type": "code",
   "execution_count": 76,
   "metadata": {},
   "outputs": [],
   "source": [
    "mean = events.x[:,1:].mean(axis=0)\n",
    "std = events.x[:,1:].std(axis=0)"
   ]
  },
  {
   "cell_type": "code",
   "execution_count": 99,
   "metadata": {},
   "outputs": [
    {
     "data": {
      "text/plain": [
       "tensor([ 2.8273e+00, -2.9272e-04,  6.9944e-05,  6.2897e-03,  3.6280e+00,\n",
       "         2.6983e+01,  5.6092e+00, -1.5506e+00,  1.0216e+00,  1.6612e+01,\n",
       "         6.3377e-01,  5.2939e-04,  5.2478e+01,  3.2740e+01,  3.2399e+01,\n",
       "         3.3631e+01])"
      ]
     },
     "execution_count": 99,
     "metadata": {},
     "output_type": "execute_result"
    }
   ],
   "source": [
    "mean"
   ]
  },
  {
   "cell_type": "code",
   "execution_count": 98,
   "metadata": {},
   "outputs": [
    {
     "data": {
      "text/plain": [
       "tensor([1.1827e+01, 9.0163e-01, 7.0703e-01, 7.0716e-01, 3.7501e+01, 1.1569e+04,\n",
       "        8.7224e+02, 1.2554e+03, 9.3771e-01, 3.9489e+01, 2.7251e+00, 1.7655e+00,\n",
       "        9.3879e+01, 6.5164e+01, 6.2998e+01, 6.3626e+01])"
      ]
     },
     "execution_count": 98,
     "metadata": {},
     "output_type": "execute_result"
    }
   ],
   "source": [
    "std"
   ]
  },
  {
   "cell_type": "code",
   "execution_count": 102,
   "metadata": {},
   "outputs": [
    {
     "name": "stdout",
     "output_type": "stream",
     "text": [
      "Before standardization: \n",
      " tensor([[ 1.0000e+00,  4.2828e+01,  4.7899e-01,  ...,  4.6407e-03,\n",
      "         -1.0000e+00,  0.0000e+00],\n",
      "        [ 1.0000e+00,  2.3289e+01, -2.7211e-01,  ..., -1.3447e-03,\n",
      "         -1.0000e+00,  0.0000e+00],\n",
      "        [ 1.0000e+00,  1.0749e+01,  2.2698e-01,  ..., -4.3251e-03,\n",
      "         -1.0000e+00,  0.0000e+00],\n",
      "        ...,\n",
      "        [ 2.0000e+00,  1.1334e+00,  4.4812e-01,  ...,  2.0008e+01,\n",
      "          7.7585e+00,  1.2126e+01],\n",
      "        [ 2.0000e+00,  5.2573e+00, -8.0025e-01,  ...,  6.1158e+02,\n",
      "          8.0721e+02,  9.0094e+02],\n",
      "        [ 2.0000e+00,  5.5991e+00, -4.4358e-01,  ...,  1.6386e+01,\n",
      "          1.0624e+03,  4.8748e+02]])\n",
      "After standardization: \n",
      " tensor([[ 1.0000,  3.3821,  0.5316,  ..., -0.5024, -0.5302, -0.5286],\n",
      "        [ 1.0000,  1.7301, -0.3015,  ..., -0.5024, -0.5302, -0.5286],\n",
      "        [ 1.0000,  0.6698,  0.2521,  ..., -0.5025, -0.5302, -0.5286],\n",
      "        ...,\n",
      "        [ 2.0000, -0.1432,  0.4973,  ..., -0.1954, -0.3911, -0.3380],\n",
      "        [ 2.0000,  0.2055, -0.8872,  ...,  8.8828, 12.2990, 13.6315],\n",
      "        [ 2.0000,  0.2344, -0.4916,  ..., -0.2510, 16.3501,  7.1331]])\n"
     ]
    }
   ],
   "source": [
    "# test standardization\n",
    "loader = torch_geometric.loader.DataLoader(data, 200)\n",
    "for batch in loader:\n",
    "    print(\"Before standardization: \\n\" , batch.x)\n",
    "    batch.x[:,1:] = (batch.x[:,1:] - mean)/std\n",
    "    print(\"After standardization: \\n\" , batch.x)\n",
    "    break"
   ]
  }
 ],
 "metadata": {
  "kernelspec": {
   "display_name": "mlpf-root",
   "language": "python",
   "name": "mlpf-root"
  },
  "language_info": {
   "codemirror_mode": {
    "name": "ipython",
    "version": 3
   },
   "file_extension": ".py",
   "mimetype": "text/x-python",
   "name": "python",
   "nbconvert_exporter": "python",
   "pygments_lexer": "ipython3",
   "version": "3.8.3"
  }
 },
 "nbformat": 4,
 "nbformat_minor": 5
}
